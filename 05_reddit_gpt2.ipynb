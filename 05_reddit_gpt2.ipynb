{
  "nbformat": 4,
  "nbformat_minor": 0,
  "metadata": {
    "colab": {
      "provenance": [],
      "machine_shape": "hm",
      "gpuType": "T4"
    },
    "kernelspec": {
      "name": "python3",
      "display_name": "Python 3"
    },
    "language_info": {
      "name": "python"
    },
    "accelerator": "GPU",
    "widgets": {
      "application/vnd.jupyter.widget-state+json": {
        "b216411d344541c1877c704531c93bc9": {
          "model_module": "@jupyter-widgets/controls",
          "model_name": "HBoxModel",
          "model_module_version": "1.5.0",
          "state": {
            "_dom_classes": [],
            "_model_module": "@jupyter-widgets/controls",
            "_model_module_version": "1.5.0",
            "_model_name": "HBoxModel",
            "_view_count": null,
            "_view_module": "@jupyter-widgets/controls",
            "_view_module_version": "1.5.0",
            "_view_name": "HBoxView",
            "box_style": "",
            "children": [
              "IPY_MODEL_a9dea0aa36764707b839877e4be6717f",
              "IPY_MODEL_a93f3556a8bf47c8953cc987bd263b7c",
              "IPY_MODEL_e4784f59fdac4a29a99e0b856815d1a5"
            ],
            "layout": "IPY_MODEL_5ea5f02a6a17449889069dad8124ca1e"
          }
        },
        "a9dea0aa36764707b839877e4be6717f": {
          "model_module": "@jupyter-widgets/controls",
          "model_name": "HTMLModel",
          "model_module_version": "1.5.0",
          "state": {
            "_dom_classes": [],
            "_model_module": "@jupyter-widgets/controls",
            "_model_module_version": "1.5.0",
            "_model_name": "HTMLModel",
            "_view_count": null,
            "_view_module": "@jupyter-widgets/controls",
            "_view_module_version": "1.5.0",
            "_view_name": "HTMLView",
            "description": "",
            "description_tooltip": null,
            "layout": "IPY_MODEL_b4f16d1dd0b6452cb19e33512f21b43a",
            "placeholder": "​",
            "style": "IPY_MODEL_ad8de7faaff74ac48f8a4db066829eb2",
            "value": "Downloading: 100%"
          }
        },
        "a93f3556a8bf47c8953cc987bd263b7c": {
          "model_module": "@jupyter-widgets/controls",
          "model_name": "FloatProgressModel",
          "model_module_version": "1.5.0",
          "state": {
            "_dom_classes": [],
            "_model_module": "@jupyter-widgets/controls",
            "_model_module_version": "1.5.0",
            "_model_name": "FloatProgressModel",
            "_view_count": null,
            "_view_module": "@jupyter-widgets/controls",
            "_view_module_version": "1.5.0",
            "_view_name": "ProgressView",
            "bar_style": "success",
            "description": "",
            "description_tooltip": null,
            "layout": "IPY_MODEL_179a4a4a81c14d0ea7232ffd685d2e6a",
            "max": 1042301,
            "min": 0,
            "orientation": "horizontal",
            "style": "IPY_MODEL_1531338dca5742d18059bb2328318eb4",
            "value": 1042301
          }
        },
        "e4784f59fdac4a29a99e0b856815d1a5": {
          "model_module": "@jupyter-widgets/controls",
          "model_name": "HTMLModel",
          "model_module_version": "1.5.0",
          "state": {
            "_dom_classes": [],
            "_model_module": "@jupyter-widgets/controls",
            "_model_module_version": "1.5.0",
            "_model_name": "HTMLModel",
            "_view_count": null,
            "_view_module": "@jupyter-widgets/controls",
            "_view_module_version": "1.5.0",
            "_view_name": "HTMLView",
            "description": "",
            "description_tooltip": null,
            "layout": "IPY_MODEL_d6993aeaf53c48ceb2cf213e60a6954c",
            "placeholder": "​",
            "style": "IPY_MODEL_34bc3912c7ee4b34b1a853757c1b84e8",
            "value": " 0.99M/0.99M [00:00&lt;00:00, 3.06MB/s]"
          }
        },
        "5ea5f02a6a17449889069dad8124ca1e": {
          "model_module": "@jupyter-widgets/base",
          "model_name": "LayoutModel",
          "model_module_version": "1.2.0",
          "state": {
            "_model_module": "@jupyter-widgets/base",
            "_model_module_version": "1.2.0",
            "_model_name": "LayoutModel",
            "_view_count": null,
            "_view_module": "@jupyter-widgets/base",
            "_view_module_version": "1.2.0",
            "_view_name": "LayoutView",
            "align_content": null,
            "align_items": null,
            "align_self": null,
            "border": null,
            "bottom": null,
            "display": null,
            "flex": null,
            "flex_flow": null,
            "grid_area": null,
            "grid_auto_columns": null,
            "grid_auto_flow": null,
            "grid_auto_rows": null,
            "grid_column": null,
            "grid_gap": null,
            "grid_row": null,
            "grid_template_areas": null,
            "grid_template_columns": null,
            "grid_template_rows": null,
            "height": null,
            "justify_content": null,
            "justify_items": null,
            "left": null,
            "margin": null,
            "max_height": null,
            "max_width": null,
            "min_height": null,
            "min_width": null,
            "object_fit": null,
            "object_position": null,
            "order": null,
            "overflow": null,
            "overflow_x": null,
            "overflow_y": null,
            "padding": null,
            "right": null,
            "top": null,
            "visibility": null,
            "width": null
          }
        },
        "b4f16d1dd0b6452cb19e33512f21b43a": {
          "model_module": "@jupyter-widgets/base",
          "model_name": "LayoutModel",
          "model_module_version": "1.2.0",
          "state": {
            "_model_module": "@jupyter-widgets/base",
            "_model_module_version": "1.2.0",
            "_model_name": "LayoutModel",
            "_view_count": null,
            "_view_module": "@jupyter-widgets/base",
            "_view_module_version": "1.2.0",
            "_view_name": "LayoutView",
            "align_content": null,
            "align_items": null,
            "align_self": null,
            "border": null,
            "bottom": null,
            "display": null,
            "flex": null,
            "flex_flow": null,
            "grid_area": null,
            "grid_auto_columns": null,
            "grid_auto_flow": null,
            "grid_auto_rows": null,
            "grid_column": null,
            "grid_gap": null,
            "grid_row": null,
            "grid_template_areas": null,
            "grid_template_columns": null,
            "grid_template_rows": null,
            "height": null,
            "justify_content": null,
            "justify_items": null,
            "left": null,
            "margin": null,
            "max_height": null,
            "max_width": null,
            "min_height": null,
            "min_width": null,
            "object_fit": null,
            "object_position": null,
            "order": null,
            "overflow": null,
            "overflow_x": null,
            "overflow_y": null,
            "padding": null,
            "right": null,
            "top": null,
            "visibility": null,
            "width": null
          }
        },
        "ad8de7faaff74ac48f8a4db066829eb2": {
          "model_module": "@jupyter-widgets/controls",
          "model_name": "DescriptionStyleModel",
          "model_module_version": "1.5.0",
          "state": {
            "_model_module": "@jupyter-widgets/controls",
            "_model_module_version": "1.5.0",
            "_model_name": "DescriptionStyleModel",
            "_view_count": null,
            "_view_module": "@jupyter-widgets/base",
            "_view_module_version": "1.2.0",
            "_view_name": "StyleView",
            "description_width": ""
          }
        },
        "179a4a4a81c14d0ea7232ffd685d2e6a": {
          "model_module": "@jupyter-widgets/base",
          "model_name": "LayoutModel",
          "model_module_version": "1.2.0",
          "state": {
            "_model_module": "@jupyter-widgets/base",
            "_model_module_version": "1.2.0",
            "_model_name": "LayoutModel",
            "_view_count": null,
            "_view_module": "@jupyter-widgets/base",
            "_view_module_version": "1.2.0",
            "_view_name": "LayoutView",
            "align_content": null,
            "align_items": null,
            "align_self": null,
            "border": null,
            "bottom": null,
            "display": null,
            "flex": null,
            "flex_flow": null,
            "grid_area": null,
            "grid_auto_columns": null,
            "grid_auto_flow": null,
            "grid_auto_rows": null,
            "grid_column": null,
            "grid_gap": null,
            "grid_row": null,
            "grid_template_areas": null,
            "grid_template_columns": null,
            "grid_template_rows": null,
            "height": null,
            "justify_content": null,
            "justify_items": null,
            "left": null,
            "margin": null,
            "max_height": null,
            "max_width": null,
            "min_height": null,
            "min_width": null,
            "object_fit": null,
            "object_position": null,
            "order": null,
            "overflow": null,
            "overflow_x": null,
            "overflow_y": null,
            "padding": null,
            "right": null,
            "top": null,
            "visibility": null,
            "width": null
          }
        },
        "1531338dca5742d18059bb2328318eb4": {
          "model_module": "@jupyter-widgets/controls",
          "model_name": "ProgressStyleModel",
          "model_module_version": "1.5.0",
          "state": {
            "_model_module": "@jupyter-widgets/controls",
            "_model_module_version": "1.5.0",
            "_model_name": "ProgressStyleModel",
            "_view_count": null,
            "_view_module": "@jupyter-widgets/base",
            "_view_module_version": "1.2.0",
            "_view_name": "StyleView",
            "bar_color": null,
            "description_width": ""
          }
        },
        "d6993aeaf53c48ceb2cf213e60a6954c": {
          "model_module": "@jupyter-widgets/base",
          "model_name": "LayoutModel",
          "model_module_version": "1.2.0",
          "state": {
            "_model_module": "@jupyter-widgets/base",
            "_model_module_version": "1.2.0",
            "_model_name": "LayoutModel",
            "_view_count": null,
            "_view_module": "@jupyter-widgets/base",
            "_view_module_version": "1.2.0",
            "_view_name": "LayoutView",
            "align_content": null,
            "align_items": null,
            "align_self": null,
            "border": null,
            "bottom": null,
            "display": null,
            "flex": null,
            "flex_flow": null,
            "grid_area": null,
            "grid_auto_columns": null,
            "grid_auto_flow": null,
            "grid_auto_rows": null,
            "grid_column": null,
            "grid_gap": null,
            "grid_row": null,
            "grid_template_areas": null,
            "grid_template_columns": null,
            "grid_template_rows": null,
            "height": null,
            "justify_content": null,
            "justify_items": null,
            "left": null,
            "margin": null,
            "max_height": null,
            "max_width": null,
            "min_height": null,
            "min_width": null,
            "object_fit": null,
            "object_position": null,
            "order": null,
            "overflow": null,
            "overflow_x": null,
            "overflow_y": null,
            "padding": null,
            "right": null,
            "top": null,
            "visibility": null,
            "width": null
          }
        },
        "34bc3912c7ee4b34b1a853757c1b84e8": {
          "model_module": "@jupyter-widgets/controls",
          "model_name": "DescriptionStyleModel",
          "model_module_version": "1.5.0",
          "state": {
            "_model_module": "@jupyter-widgets/controls",
            "_model_module_version": "1.5.0",
            "_model_name": "DescriptionStyleModel",
            "_view_count": null,
            "_view_module": "@jupyter-widgets/base",
            "_view_module_version": "1.2.0",
            "_view_name": "StyleView",
            "description_width": ""
          }
        },
        "eeac0044ca6140f3a1a446cb9b7604ca": {
          "model_module": "@jupyter-widgets/controls",
          "model_name": "HBoxModel",
          "model_module_version": "1.5.0",
          "state": {
            "_dom_classes": [],
            "_model_module": "@jupyter-widgets/controls",
            "_model_module_version": "1.5.0",
            "_model_name": "HBoxModel",
            "_view_count": null,
            "_view_module": "@jupyter-widgets/controls",
            "_view_module_version": "1.5.0",
            "_view_name": "HBoxView",
            "box_style": "",
            "children": [
              "IPY_MODEL_3887db5828c44cf1a3de8c19b2293c0b",
              "IPY_MODEL_4470d63909cf433db07da3132d408ccf",
              "IPY_MODEL_098c7c20af4a479297ffcb7406cbf0a2"
            ],
            "layout": "IPY_MODEL_03adc1f9d6f9469b8435cd45c0cb7c32"
          }
        },
        "3887db5828c44cf1a3de8c19b2293c0b": {
          "model_module": "@jupyter-widgets/controls",
          "model_name": "HTMLModel",
          "model_module_version": "1.5.0",
          "state": {
            "_dom_classes": [],
            "_model_module": "@jupyter-widgets/controls",
            "_model_module_version": "1.5.0",
            "_model_name": "HTMLModel",
            "_view_count": null,
            "_view_module": "@jupyter-widgets/controls",
            "_view_module_version": "1.5.0",
            "_view_name": "HTMLView",
            "description": "",
            "description_tooltip": null,
            "layout": "IPY_MODEL_1e6eba371a7a4f74a30d1ede77e3177e",
            "placeholder": "​",
            "style": "IPY_MODEL_5dd45243e960412faaa987d0f10760b8",
            "value": "Downloading: 100%"
          }
        },
        "4470d63909cf433db07da3132d408ccf": {
          "model_module": "@jupyter-widgets/controls",
          "model_name": "FloatProgressModel",
          "model_module_version": "1.5.0",
          "state": {
            "_dom_classes": [],
            "_model_module": "@jupyter-widgets/controls",
            "_model_module_version": "1.5.0",
            "_model_name": "FloatProgressModel",
            "_view_count": null,
            "_view_module": "@jupyter-widgets/controls",
            "_view_module_version": "1.5.0",
            "_view_name": "ProgressView",
            "bar_style": "success",
            "description": "",
            "description_tooltip": null,
            "layout": "IPY_MODEL_cf3635170cb541d394a01c862dc5848b",
            "max": 456318,
            "min": 0,
            "orientation": "horizontal",
            "style": "IPY_MODEL_5c1e28ebc4ae46a0b6ab134e4845c477",
            "value": 456318
          }
        },
        "098c7c20af4a479297ffcb7406cbf0a2": {
          "model_module": "@jupyter-widgets/controls",
          "model_name": "HTMLModel",
          "model_module_version": "1.5.0",
          "state": {
            "_dom_classes": [],
            "_model_module": "@jupyter-widgets/controls",
            "_model_module_version": "1.5.0",
            "_model_name": "HTMLModel",
            "_view_count": null,
            "_view_module": "@jupyter-widgets/controls",
            "_view_module_version": "1.5.0",
            "_view_name": "HTMLView",
            "description": "",
            "description_tooltip": null,
            "layout": "IPY_MODEL_21ec86e3beb74863a3feabeed0391f1d",
            "placeholder": "​",
            "style": "IPY_MODEL_fcc36a3ec9a7419080e5bd27d3cda61f",
            "value": " 446k/446k [00:00&lt;00:00, 1.38MB/s]"
          }
        },
        "03adc1f9d6f9469b8435cd45c0cb7c32": {
          "model_module": "@jupyter-widgets/base",
          "model_name": "LayoutModel",
          "model_module_version": "1.2.0",
          "state": {
            "_model_module": "@jupyter-widgets/base",
            "_model_module_version": "1.2.0",
            "_model_name": "LayoutModel",
            "_view_count": null,
            "_view_module": "@jupyter-widgets/base",
            "_view_module_version": "1.2.0",
            "_view_name": "LayoutView",
            "align_content": null,
            "align_items": null,
            "align_self": null,
            "border": null,
            "bottom": null,
            "display": null,
            "flex": null,
            "flex_flow": null,
            "grid_area": null,
            "grid_auto_columns": null,
            "grid_auto_flow": null,
            "grid_auto_rows": null,
            "grid_column": null,
            "grid_gap": null,
            "grid_row": null,
            "grid_template_areas": null,
            "grid_template_columns": null,
            "grid_template_rows": null,
            "height": null,
            "justify_content": null,
            "justify_items": null,
            "left": null,
            "margin": null,
            "max_height": null,
            "max_width": null,
            "min_height": null,
            "min_width": null,
            "object_fit": null,
            "object_position": null,
            "order": null,
            "overflow": null,
            "overflow_x": null,
            "overflow_y": null,
            "padding": null,
            "right": null,
            "top": null,
            "visibility": null,
            "width": null
          }
        },
        "1e6eba371a7a4f74a30d1ede77e3177e": {
          "model_module": "@jupyter-widgets/base",
          "model_name": "LayoutModel",
          "model_module_version": "1.2.0",
          "state": {
            "_model_module": "@jupyter-widgets/base",
            "_model_module_version": "1.2.0",
            "_model_name": "LayoutModel",
            "_view_count": null,
            "_view_module": "@jupyter-widgets/base",
            "_view_module_version": "1.2.0",
            "_view_name": "LayoutView",
            "align_content": null,
            "align_items": null,
            "align_self": null,
            "border": null,
            "bottom": null,
            "display": null,
            "flex": null,
            "flex_flow": null,
            "grid_area": null,
            "grid_auto_columns": null,
            "grid_auto_flow": null,
            "grid_auto_rows": null,
            "grid_column": null,
            "grid_gap": null,
            "grid_row": null,
            "grid_template_areas": null,
            "grid_template_columns": null,
            "grid_template_rows": null,
            "height": null,
            "justify_content": null,
            "justify_items": null,
            "left": null,
            "margin": null,
            "max_height": null,
            "max_width": null,
            "min_height": null,
            "min_width": null,
            "object_fit": null,
            "object_position": null,
            "order": null,
            "overflow": null,
            "overflow_x": null,
            "overflow_y": null,
            "padding": null,
            "right": null,
            "top": null,
            "visibility": null,
            "width": null
          }
        },
        "5dd45243e960412faaa987d0f10760b8": {
          "model_module": "@jupyter-widgets/controls",
          "model_name": "DescriptionStyleModel",
          "model_module_version": "1.5.0",
          "state": {
            "_model_module": "@jupyter-widgets/controls",
            "_model_module_version": "1.5.0",
            "_model_name": "DescriptionStyleModel",
            "_view_count": null,
            "_view_module": "@jupyter-widgets/base",
            "_view_module_version": "1.2.0",
            "_view_name": "StyleView",
            "description_width": ""
          }
        },
        "cf3635170cb541d394a01c862dc5848b": {
          "model_module": "@jupyter-widgets/base",
          "model_name": "LayoutModel",
          "model_module_version": "1.2.0",
          "state": {
            "_model_module": "@jupyter-widgets/base",
            "_model_module_version": "1.2.0",
            "_model_name": "LayoutModel",
            "_view_count": null,
            "_view_module": "@jupyter-widgets/base",
            "_view_module_version": "1.2.0",
            "_view_name": "LayoutView",
            "align_content": null,
            "align_items": null,
            "align_self": null,
            "border": null,
            "bottom": null,
            "display": null,
            "flex": null,
            "flex_flow": null,
            "grid_area": null,
            "grid_auto_columns": null,
            "grid_auto_flow": null,
            "grid_auto_rows": null,
            "grid_column": null,
            "grid_gap": null,
            "grid_row": null,
            "grid_template_areas": null,
            "grid_template_columns": null,
            "grid_template_rows": null,
            "height": null,
            "justify_content": null,
            "justify_items": null,
            "left": null,
            "margin": null,
            "max_height": null,
            "max_width": null,
            "min_height": null,
            "min_width": null,
            "object_fit": null,
            "object_position": null,
            "order": null,
            "overflow": null,
            "overflow_x": null,
            "overflow_y": null,
            "padding": null,
            "right": null,
            "top": null,
            "visibility": null,
            "width": null
          }
        },
        "5c1e28ebc4ae46a0b6ab134e4845c477": {
          "model_module": "@jupyter-widgets/controls",
          "model_name": "ProgressStyleModel",
          "model_module_version": "1.5.0",
          "state": {
            "_model_module": "@jupyter-widgets/controls",
            "_model_module_version": "1.5.0",
            "_model_name": "ProgressStyleModel",
            "_view_count": null,
            "_view_module": "@jupyter-widgets/base",
            "_view_module_version": "1.2.0",
            "_view_name": "StyleView",
            "bar_color": null,
            "description_width": ""
          }
        },
        "21ec86e3beb74863a3feabeed0391f1d": {
          "model_module": "@jupyter-widgets/base",
          "model_name": "LayoutModel",
          "model_module_version": "1.2.0",
          "state": {
            "_model_module": "@jupyter-widgets/base",
            "_model_module_version": "1.2.0",
            "_model_name": "LayoutModel",
            "_view_count": null,
            "_view_module": "@jupyter-widgets/base",
            "_view_module_version": "1.2.0",
            "_view_name": "LayoutView",
            "align_content": null,
            "align_items": null,
            "align_self": null,
            "border": null,
            "bottom": null,
            "display": null,
            "flex": null,
            "flex_flow": null,
            "grid_area": null,
            "grid_auto_columns": null,
            "grid_auto_flow": null,
            "grid_auto_rows": null,
            "grid_column": null,
            "grid_gap": null,
            "grid_row": null,
            "grid_template_areas": null,
            "grid_template_columns": null,
            "grid_template_rows": null,
            "height": null,
            "justify_content": null,
            "justify_items": null,
            "left": null,
            "margin": null,
            "max_height": null,
            "max_width": null,
            "min_height": null,
            "min_width": null,
            "object_fit": null,
            "object_position": null,
            "order": null,
            "overflow": null,
            "overflow_x": null,
            "overflow_y": null,
            "padding": null,
            "right": null,
            "top": null,
            "visibility": null,
            "width": null
          }
        },
        "fcc36a3ec9a7419080e5bd27d3cda61f": {
          "model_module": "@jupyter-widgets/controls",
          "model_name": "DescriptionStyleModel",
          "model_module_version": "1.5.0",
          "state": {
            "_model_module": "@jupyter-widgets/controls",
            "_model_module_version": "1.5.0",
            "_model_name": "DescriptionStyleModel",
            "_view_count": null,
            "_view_module": "@jupyter-widgets/base",
            "_view_module_version": "1.2.0",
            "_view_name": "StyleView",
            "description_width": ""
          }
        },
        "20e5975ee31a42ab9600ca3d56790df5": {
          "model_module": "@jupyter-widgets/controls",
          "model_name": "HBoxModel",
          "model_module_version": "1.5.0",
          "state": {
            "_dom_classes": [],
            "_model_module": "@jupyter-widgets/controls",
            "_model_module_version": "1.5.0",
            "_model_name": "HBoxModel",
            "_view_count": null,
            "_view_module": "@jupyter-widgets/controls",
            "_view_module_version": "1.5.0",
            "_view_name": "HBoxView",
            "box_style": "",
            "children": [
              "IPY_MODEL_cc8adbb76dff4dfab84165be67beb5e9",
              "IPY_MODEL_36aba1014d1343a094aa322fb800b042",
              "IPY_MODEL_b9a8c56c5ae047d9b45240fc9160941d"
            ],
            "layout": "IPY_MODEL_64cabf00a91e4ef5a9844e612b4466e2"
          }
        },
        "cc8adbb76dff4dfab84165be67beb5e9": {
          "model_module": "@jupyter-widgets/controls",
          "model_name": "HTMLModel",
          "model_module_version": "1.5.0",
          "state": {
            "_dom_classes": [],
            "_model_module": "@jupyter-widgets/controls",
            "_model_module_version": "1.5.0",
            "_model_name": "HTMLModel",
            "_view_count": null,
            "_view_module": "@jupyter-widgets/controls",
            "_view_module_version": "1.5.0",
            "_view_name": "HTMLView",
            "description": "",
            "description_tooltip": null,
            "layout": "IPY_MODEL_4c592ca9b11e41229105c1ad4dba363d",
            "placeholder": "​",
            "style": "IPY_MODEL_be94cc2ebe39415cbbaa69f715e0a51b",
            "value": "Downloading: 100%"
          }
        },
        "36aba1014d1343a094aa322fb800b042": {
          "model_module": "@jupyter-widgets/controls",
          "model_name": "FloatProgressModel",
          "model_module_version": "1.5.0",
          "state": {
            "_dom_classes": [],
            "_model_module": "@jupyter-widgets/controls",
            "_model_module_version": "1.5.0",
            "_model_name": "FloatProgressModel",
            "_view_count": null,
            "_view_module": "@jupyter-widgets/controls",
            "_view_module_version": "1.5.0",
            "_view_name": "ProgressView",
            "bar_style": "success",
            "description": "",
            "description_tooltip": null,
            "layout": "IPY_MODEL_b5699342738d4db68180fdfa2f48d254",
            "max": 26,
            "min": 0,
            "orientation": "horizontal",
            "style": "IPY_MODEL_207b043891e74d3ab613397e22eb8c60",
            "value": 26
          }
        },
        "b9a8c56c5ae047d9b45240fc9160941d": {
          "model_module": "@jupyter-widgets/controls",
          "model_name": "HTMLModel",
          "model_module_version": "1.5.0",
          "state": {
            "_dom_classes": [],
            "_model_module": "@jupyter-widgets/controls",
            "_model_module_version": "1.5.0",
            "_model_name": "HTMLModel",
            "_view_count": null,
            "_view_module": "@jupyter-widgets/controls",
            "_view_module_version": "1.5.0",
            "_view_name": "HTMLView",
            "description": "",
            "description_tooltip": null,
            "layout": "IPY_MODEL_d3cf3e78dd3c4af7b32e15e70d16f991",
            "placeholder": "​",
            "style": "IPY_MODEL_f72bab9084364b43ab35c0e458b4134a",
            "value": " 26.0/26.0 [00:00&lt;00:00, 1.81kB/s]"
          }
        },
        "64cabf00a91e4ef5a9844e612b4466e2": {
          "model_module": "@jupyter-widgets/base",
          "model_name": "LayoutModel",
          "model_module_version": "1.2.0",
          "state": {
            "_model_module": "@jupyter-widgets/base",
            "_model_module_version": "1.2.0",
            "_model_name": "LayoutModel",
            "_view_count": null,
            "_view_module": "@jupyter-widgets/base",
            "_view_module_version": "1.2.0",
            "_view_name": "LayoutView",
            "align_content": null,
            "align_items": null,
            "align_self": null,
            "border": null,
            "bottom": null,
            "display": null,
            "flex": null,
            "flex_flow": null,
            "grid_area": null,
            "grid_auto_columns": null,
            "grid_auto_flow": null,
            "grid_auto_rows": null,
            "grid_column": null,
            "grid_gap": null,
            "grid_row": null,
            "grid_template_areas": null,
            "grid_template_columns": null,
            "grid_template_rows": null,
            "height": null,
            "justify_content": null,
            "justify_items": null,
            "left": null,
            "margin": null,
            "max_height": null,
            "max_width": null,
            "min_height": null,
            "min_width": null,
            "object_fit": null,
            "object_position": null,
            "order": null,
            "overflow": null,
            "overflow_x": null,
            "overflow_y": null,
            "padding": null,
            "right": null,
            "top": null,
            "visibility": null,
            "width": null
          }
        },
        "4c592ca9b11e41229105c1ad4dba363d": {
          "model_module": "@jupyter-widgets/base",
          "model_name": "LayoutModel",
          "model_module_version": "1.2.0",
          "state": {
            "_model_module": "@jupyter-widgets/base",
            "_model_module_version": "1.2.0",
            "_model_name": "LayoutModel",
            "_view_count": null,
            "_view_module": "@jupyter-widgets/base",
            "_view_module_version": "1.2.0",
            "_view_name": "LayoutView",
            "align_content": null,
            "align_items": null,
            "align_self": null,
            "border": null,
            "bottom": null,
            "display": null,
            "flex": null,
            "flex_flow": null,
            "grid_area": null,
            "grid_auto_columns": null,
            "grid_auto_flow": null,
            "grid_auto_rows": null,
            "grid_column": null,
            "grid_gap": null,
            "grid_row": null,
            "grid_template_areas": null,
            "grid_template_columns": null,
            "grid_template_rows": null,
            "height": null,
            "justify_content": null,
            "justify_items": null,
            "left": null,
            "margin": null,
            "max_height": null,
            "max_width": null,
            "min_height": null,
            "min_width": null,
            "object_fit": null,
            "object_position": null,
            "order": null,
            "overflow": null,
            "overflow_x": null,
            "overflow_y": null,
            "padding": null,
            "right": null,
            "top": null,
            "visibility": null,
            "width": null
          }
        },
        "be94cc2ebe39415cbbaa69f715e0a51b": {
          "model_module": "@jupyter-widgets/controls",
          "model_name": "DescriptionStyleModel",
          "model_module_version": "1.5.0",
          "state": {
            "_model_module": "@jupyter-widgets/controls",
            "_model_module_version": "1.5.0",
            "_model_name": "DescriptionStyleModel",
            "_view_count": null,
            "_view_module": "@jupyter-widgets/base",
            "_view_module_version": "1.2.0",
            "_view_name": "StyleView",
            "description_width": ""
          }
        },
        "b5699342738d4db68180fdfa2f48d254": {
          "model_module": "@jupyter-widgets/base",
          "model_name": "LayoutModel",
          "model_module_version": "1.2.0",
          "state": {
            "_model_module": "@jupyter-widgets/base",
            "_model_module_version": "1.2.0",
            "_model_name": "LayoutModel",
            "_view_count": null,
            "_view_module": "@jupyter-widgets/base",
            "_view_module_version": "1.2.0",
            "_view_name": "LayoutView",
            "align_content": null,
            "align_items": null,
            "align_self": null,
            "border": null,
            "bottom": null,
            "display": null,
            "flex": null,
            "flex_flow": null,
            "grid_area": null,
            "grid_auto_columns": null,
            "grid_auto_flow": null,
            "grid_auto_rows": null,
            "grid_column": null,
            "grid_gap": null,
            "grid_row": null,
            "grid_template_areas": null,
            "grid_template_columns": null,
            "grid_template_rows": null,
            "height": null,
            "justify_content": null,
            "justify_items": null,
            "left": null,
            "margin": null,
            "max_height": null,
            "max_width": null,
            "min_height": null,
            "min_width": null,
            "object_fit": null,
            "object_position": null,
            "order": null,
            "overflow": null,
            "overflow_x": null,
            "overflow_y": null,
            "padding": null,
            "right": null,
            "top": null,
            "visibility": null,
            "width": null
          }
        },
        "207b043891e74d3ab613397e22eb8c60": {
          "model_module": "@jupyter-widgets/controls",
          "model_name": "ProgressStyleModel",
          "model_module_version": "1.5.0",
          "state": {
            "_model_module": "@jupyter-widgets/controls",
            "_model_module_version": "1.5.0",
            "_model_name": "ProgressStyleModel",
            "_view_count": null,
            "_view_module": "@jupyter-widgets/base",
            "_view_module_version": "1.2.0",
            "_view_name": "StyleView",
            "bar_color": null,
            "description_width": ""
          }
        },
        "d3cf3e78dd3c4af7b32e15e70d16f991": {
          "model_module": "@jupyter-widgets/base",
          "model_name": "LayoutModel",
          "model_module_version": "1.2.0",
          "state": {
            "_model_module": "@jupyter-widgets/base",
            "_model_module_version": "1.2.0",
            "_model_name": "LayoutModel",
            "_view_count": null,
            "_view_module": "@jupyter-widgets/base",
            "_view_module_version": "1.2.0",
            "_view_name": "LayoutView",
            "align_content": null,
            "align_items": null,
            "align_self": null,
            "border": null,
            "bottom": null,
            "display": null,
            "flex": null,
            "flex_flow": null,
            "grid_area": null,
            "grid_auto_columns": null,
            "grid_auto_flow": null,
            "grid_auto_rows": null,
            "grid_column": null,
            "grid_gap": null,
            "grid_row": null,
            "grid_template_areas": null,
            "grid_template_columns": null,
            "grid_template_rows": null,
            "height": null,
            "justify_content": null,
            "justify_items": null,
            "left": null,
            "margin": null,
            "max_height": null,
            "max_width": null,
            "min_height": null,
            "min_width": null,
            "object_fit": null,
            "object_position": null,
            "order": null,
            "overflow": null,
            "overflow_x": null,
            "overflow_y": null,
            "padding": null,
            "right": null,
            "top": null,
            "visibility": null,
            "width": null
          }
        },
        "f72bab9084364b43ab35c0e458b4134a": {
          "model_module": "@jupyter-widgets/controls",
          "model_name": "DescriptionStyleModel",
          "model_module_version": "1.5.0",
          "state": {
            "_model_module": "@jupyter-widgets/controls",
            "_model_module_version": "1.5.0",
            "_model_name": "DescriptionStyleModel",
            "_view_count": null,
            "_view_module": "@jupyter-widgets/base",
            "_view_module_version": "1.2.0",
            "_view_name": "StyleView",
            "description_width": ""
          }
        },
        "6d47e68c16df4b8986172d98e0061792": {
          "model_module": "@jupyter-widgets/controls",
          "model_name": "HBoxModel",
          "model_module_version": "1.5.0",
          "state": {
            "_dom_classes": [],
            "_model_module": "@jupyter-widgets/controls",
            "_model_module_version": "1.5.0",
            "_model_name": "HBoxModel",
            "_view_count": null,
            "_view_module": "@jupyter-widgets/controls",
            "_view_module_version": "1.5.0",
            "_view_name": "HBoxView",
            "box_style": "",
            "children": [
              "IPY_MODEL_3ad5ee675c8f407abb5cfd6700450514",
              "IPY_MODEL_cb28d7dd1bf84044846890bec666421a",
              "IPY_MODEL_564687fe0a644b9fb49a81c75b86a51f"
            ],
            "layout": "IPY_MODEL_3e3028ac69fe46758b442329c33e6132"
          }
        },
        "3ad5ee675c8f407abb5cfd6700450514": {
          "model_module": "@jupyter-widgets/controls",
          "model_name": "HTMLModel",
          "model_module_version": "1.5.0",
          "state": {
            "_dom_classes": [],
            "_model_module": "@jupyter-widgets/controls",
            "_model_module_version": "1.5.0",
            "_model_name": "HTMLModel",
            "_view_count": null,
            "_view_module": "@jupyter-widgets/controls",
            "_view_module_version": "1.5.0",
            "_view_name": "HTMLView",
            "description": "",
            "description_tooltip": null,
            "layout": "IPY_MODEL_996ef1e3f4cb4319995f6ed6c280601f",
            "placeholder": "​",
            "style": "IPY_MODEL_6a6d05321d6e4b64af3eac6b76c9a578",
            "value": "Downloading: 100%"
          }
        },
        "cb28d7dd1bf84044846890bec666421a": {
          "model_module": "@jupyter-widgets/controls",
          "model_name": "FloatProgressModel",
          "model_module_version": "1.5.0",
          "state": {
            "_dom_classes": [],
            "_model_module": "@jupyter-widgets/controls",
            "_model_module_version": "1.5.0",
            "_model_name": "FloatProgressModel",
            "_view_count": null,
            "_view_module": "@jupyter-widgets/controls",
            "_view_module_version": "1.5.0",
            "_view_name": "ProgressView",
            "bar_style": "success",
            "description": "",
            "description_tooltip": null,
            "layout": "IPY_MODEL_aef1cfcf49f64f339404de2b64967789",
            "max": 665,
            "min": 0,
            "orientation": "horizontal",
            "style": "IPY_MODEL_82837f50778f493b804ce892440dfcbb",
            "value": 665
          }
        },
        "564687fe0a644b9fb49a81c75b86a51f": {
          "model_module": "@jupyter-widgets/controls",
          "model_name": "HTMLModel",
          "model_module_version": "1.5.0",
          "state": {
            "_dom_classes": [],
            "_model_module": "@jupyter-widgets/controls",
            "_model_module_version": "1.5.0",
            "_model_name": "HTMLModel",
            "_view_count": null,
            "_view_module": "@jupyter-widgets/controls",
            "_view_module_version": "1.5.0",
            "_view_name": "HTMLView",
            "description": "",
            "description_tooltip": null,
            "layout": "IPY_MODEL_9d1f7fe756a04344a3df825351850151",
            "placeholder": "​",
            "style": "IPY_MODEL_3a371ea226b14796aa4819e4b924a58d",
            "value": " 665/665 [00:00&lt;00:00, 50.2kB/s]"
          }
        },
        "3e3028ac69fe46758b442329c33e6132": {
          "model_module": "@jupyter-widgets/base",
          "model_name": "LayoutModel",
          "model_module_version": "1.2.0",
          "state": {
            "_model_module": "@jupyter-widgets/base",
            "_model_module_version": "1.2.0",
            "_model_name": "LayoutModel",
            "_view_count": null,
            "_view_module": "@jupyter-widgets/base",
            "_view_module_version": "1.2.0",
            "_view_name": "LayoutView",
            "align_content": null,
            "align_items": null,
            "align_self": null,
            "border": null,
            "bottom": null,
            "display": null,
            "flex": null,
            "flex_flow": null,
            "grid_area": null,
            "grid_auto_columns": null,
            "grid_auto_flow": null,
            "grid_auto_rows": null,
            "grid_column": null,
            "grid_gap": null,
            "grid_row": null,
            "grid_template_areas": null,
            "grid_template_columns": null,
            "grid_template_rows": null,
            "height": null,
            "justify_content": null,
            "justify_items": null,
            "left": null,
            "margin": null,
            "max_height": null,
            "max_width": null,
            "min_height": null,
            "min_width": null,
            "object_fit": null,
            "object_position": null,
            "order": null,
            "overflow": null,
            "overflow_x": null,
            "overflow_y": null,
            "padding": null,
            "right": null,
            "top": null,
            "visibility": null,
            "width": null
          }
        },
        "996ef1e3f4cb4319995f6ed6c280601f": {
          "model_module": "@jupyter-widgets/base",
          "model_name": "LayoutModel",
          "model_module_version": "1.2.0",
          "state": {
            "_model_module": "@jupyter-widgets/base",
            "_model_module_version": "1.2.0",
            "_model_name": "LayoutModel",
            "_view_count": null,
            "_view_module": "@jupyter-widgets/base",
            "_view_module_version": "1.2.0",
            "_view_name": "LayoutView",
            "align_content": null,
            "align_items": null,
            "align_self": null,
            "border": null,
            "bottom": null,
            "display": null,
            "flex": null,
            "flex_flow": null,
            "grid_area": null,
            "grid_auto_columns": null,
            "grid_auto_flow": null,
            "grid_auto_rows": null,
            "grid_column": null,
            "grid_gap": null,
            "grid_row": null,
            "grid_template_areas": null,
            "grid_template_columns": null,
            "grid_template_rows": null,
            "height": null,
            "justify_content": null,
            "justify_items": null,
            "left": null,
            "margin": null,
            "max_height": null,
            "max_width": null,
            "min_height": null,
            "min_width": null,
            "object_fit": null,
            "object_position": null,
            "order": null,
            "overflow": null,
            "overflow_x": null,
            "overflow_y": null,
            "padding": null,
            "right": null,
            "top": null,
            "visibility": null,
            "width": null
          }
        },
        "6a6d05321d6e4b64af3eac6b76c9a578": {
          "model_module": "@jupyter-widgets/controls",
          "model_name": "DescriptionStyleModel",
          "model_module_version": "1.5.0",
          "state": {
            "_model_module": "@jupyter-widgets/controls",
            "_model_module_version": "1.5.0",
            "_model_name": "DescriptionStyleModel",
            "_view_count": null,
            "_view_module": "@jupyter-widgets/base",
            "_view_module_version": "1.2.0",
            "_view_name": "StyleView",
            "description_width": ""
          }
        },
        "aef1cfcf49f64f339404de2b64967789": {
          "model_module": "@jupyter-widgets/base",
          "model_name": "LayoutModel",
          "model_module_version": "1.2.0",
          "state": {
            "_model_module": "@jupyter-widgets/base",
            "_model_module_version": "1.2.0",
            "_model_name": "LayoutModel",
            "_view_count": null,
            "_view_module": "@jupyter-widgets/base",
            "_view_module_version": "1.2.0",
            "_view_name": "LayoutView",
            "align_content": null,
            "align_items": null,
            "align_self": null,
            "border": null,
            "bottom": null,
            "display": null,
            "flex": null,
            "flex_flow": null,
            "grid_area": null,
            "grid_auto_columns": null,
            "grid_auto_flow": null,
            "grid_auto_rows": null,
            "grid_column": null,
            "grid_gap": null,
            "grid_row": null,
            "grid_template_areas": null,
            "grid_template_columns": null,
            "grid_template_rows": null,
            "height": null,
            "justify_content": null,
            "justify_items": null,
            "left": null,
            "margin": null,
            "max_height": null,
            "max_width": null,
            "min_height": null,
            "min_width": null,
            "object_fit": null,
            "object_position": null,
            "order": null,
            "overflow": null,
            "overflow_x": null,
            "overflow_y": null,
            "padding": null,
            "right": null,
            "top": null,
            "visibility": null,
            "width": null
          }
        },
        "82837f50778f493b804ce892440dfcbb": {
          "model_module": "@jupyter-widgets/controls",
          "model_name": "ProgressStyleModel",
          "model_module_version": "1.5.0",
          "state": {
            "_model_module": "@jupyter-widgets/controls",
            "_model_module_version": "1.5.0",
            "_model_name": "ProgressStyleModel",
            "_view_count": null,
            "_view_module": "@jupyter-widgets/base",
            "_view_module_version": "1.2.0",
            "_view_name": "StyleView",
            "bar_color": null,
            "description_width": ""
          }
        },
        "9d1f7fe756a04344a3df825351850151": {
          "model_module": "@jupyter-widgets/base",
          "model_name": "LayoutModel",
          "model_module_version": "1.2.0",
          "state": {
            "_model_module": "@jupyter-widgets/base",
            "_model_module_version": "1.2.0",
            "_model_name": "LayoutModel",
            "_view_count": null,
            "_view_module": "@jupyter-widgets/base",
            "_view_module_version": "1.2.0",
            "_view_name": "LayoutView",
            "align_content": null,
            "align_items": null,
            "align_self": null,
            "border": null,
            "bottom": null,
            "display": null,
            "flex": null,
            "flex_flow": null,
            "grid_area": null,
            "grid_auto_columns": null,
            "grid_auto_flow": null,
            "grid_auto_rows": null,
            "grid_column": null,
            "grid_gap": null,
            "grid_row": null,
            "grid_template_areas": null,
            "grid_template_columns": null,
            "grid_template_rows": null,
            "height": null,
            "justify_content": null,
            "justify_items": null,
            "left": null,
            "margin": null,
            "max_height": null,
            "max_width": null,
            "min_height": null,
            "min_width": null,
            "object_fit": null,
            "object_position": null,
            "order": null,
            "overflow": null,
            "overflow_x": null,
            "overflow_y": null,
            "padding": null,
            "right": null,
            "top": null,
            "visibility": null,
            "width": null
          }
        },
        "3a371ea226b14796aa4819e4b924a58d": {
          "model_module": "@jupyter-widgets/controls",
          "model_name": "DescriptionStyleModel",
          "model_module_version": "1.5.0",
          "state": {
            "_model_module": "@jupyter-widgets/controls",
            "_model_module_version": "1.5.0",
            "_model_name": "DescriptionStyleModel",
            "_view_count": null,
            "_view_module": "@jupyter-widgets/base",
            "_view_module_version": "1.2.0",
            "_view_name": "StyleView",
            "description_width": ""
          }
        },
        "c874ed78830740d68d6e71d379236a36": {
          "model_module": "@jupyter-widgets/controls",
          "model_name": "HBoxModel",
          "model_module_version": "1.5.0",
          "state": {
            "_dom_classes": [],
            "_model_module": "@jupyter-widgets/controls",
            "_model_module_version": "1.5.0",
            "_model_name": "HBoxModel",
            "_view_count": null,
            "_view_module": "@jupyter-widgets/controls",
            "_view_module_version": "1.5.0",
            "_view_name": "HBoxView",
            "box_style": "",
            "children": [
              "IPY_MODEL_c6b5c79f69324ada880504ab2f89fe5a",
              "IPY_MODEL_8dbf3d738a894378b27e6e196c134979",
              "IPY_MODEL_086aa2a357434cf5919b0dbfeb9f6be3"
            ],
            "layout": "IPY_MODEL_8557351dbd6e42918dfdd168bdae6d71"
          }
        },
        "c6b5c79f69324ada880504ab2f89fe5a": {
          "model_module": "@jupyter-widgets/controls",
          "model_name": "HTMLModel",
          "model_module_version": "1.5.0",
          "state": {
            "_dom_classes": [],
            "_model_module": "@jupyter-widgets/controls",
            "_model_module_version": "1.5.0",
            "_model_name": "HTMLModel",
            "_view_count": null,
            "_view_module": "@jupyter-widgets/controls",
            "_view_module_version": "1.5.0",
            "_view_name": "HTMLView",
            "description": "",
            "description_tooltip": null,
            "layout": "IPY_MODEL_24f05cdfcb9b46de903b9511ebea330b",
            "placeholder": "​",
            "style": "IPY_MODEL_37dd22fe4c16429dbbb09104226e8e87",
            "value": "Downloading: 100%"
          }
        },
        "8dbf3d738a894378b27e6e196c134979": {
          "model_module": "@jupyter-widgets/controls",
          "model_name": "FloatProgressModel",
          "model_module_version": "1.5.0",
          "state": {
            "_dom_classes": [],
            "_model_module": "@jupyter-widgets/controls",
            "_model_module_version": "1.5.0",
            "_model_name": "FloatProgressModel",
            "_view_count": null,
            "_view_module": "@jupyter-widgets/controls",
            "_view_module_version": "1.5.0",
            "_view_name": "ProgressView",
            "bar_style": "success",
            "description": "",
            "description_tooltip": null,
            "layout": "IPY_MODEL_22a903f78f2748ec8efd6e669f52742f",
            "max": 497933648,
            "min": 0,
            "orientation": "horizontal",
            "style": "IPY_MODEL_bfe6bfd3f4f8475c9ff5c395ec52bf42",
            "value": 497933648
          }
        },
        "086aa2a357434cf5919b0dbfeb9f6be3": {
          "model_module": "@jupyter-widgets/controls",
          "model_name": "HTMLModel",
          "model_module_version": "1.5.0",
          "state": {
            "_dom_classes": [],
            "_model_module": "@jupyter-widgets/controls",
            "_model_module_version": "1.5.0",
            "_model_name": "HTMLModel",
            "_view_count": null,
            "_view_module": "@jupyter-widgets/controls",
            "_view_module_version": "1.5.0",
            "_view_name": "HTMLView",
            "description": "",
            "description_tooltip": null,
            "layout": "IPY_MODEL_f556816d558245628bd60b500037cfce",
            "placeholder": "​",
            "style": "IPY_MODEL_fae31583f788498288cc4a557c53df20",
            "value": " 475M/475M [00:07&lt;00:00, 71.4MB/s]"
          }
        },
        "8557351dbd6e42918dfdd168bdae6d71": {
          "model_module": "@jupyter-widgets/base",
          "model_name": "LayoutModel",
          "model_module_version": "1.2.0",
          "state": {
            "_model_module": "@jupyter-widgets/base",
            "_model_module_version": "1.2.0",
            "_model_name": "LayoutModel",
            "_view_count": null,
            "_view_module": "@jupyter-widgets/base",
            "_view_module_version": "1.2.0",
            "_view_name": "LayoutView",
            "align_content": null,
            "align_items": null,
            "align_self": null,
            "border": null,
            "bottom": null,
            "display": null,
            "flex": null,
            "flex_flow": null,
            "grid_area": null,
            "grid_auto_columns": null,
            "grid_auto_flow": null,
            "grid_auto_rows": null,
            "grid_column": null,
            "grid_gap": null,
            "grid_row": null,
            "grid_template_areas": null,
            "grid_template_columns": null,
            "grid_template_rows": null,
            "height": null,
            "justify_content": null,
            "justify_items": null,
            "left": null,
            "margin": null,
            "max_height": null,
            "max_width": null,
            "min_height": null,
            "min_width": null,
            "object_fit": null,
            "object_position": null,
            "order": null,
            "overflow": null,
            "overflow_x": null,
            "overflow_y": null,
            "padding": null,
            "right": null,
            "top": null,
            "visibility": null,
            "width": null
          }
        },
        "24f05cdfcb9b46de903b9511ebea330b": {
          "model_module": "@jupyter-widgets/base",
          "model_name": "LayoutModel",
          "model_module_version": "1.2.0",
          "state": {
            "_model_module": "@jupyter-widgets/base",
            "_model_module_version": "1.2.0",
            "_model_name": "LayoutModel",
            "_view_count": null,
            "_view_module": "@jupyter-widgets/base",
            "_view_module_version": "1.2.0",
            "_view_name": "LayoutView",
            "align_content": null,
            "align_items": null,
            "align_self": null,
            "border": null,
            "bottom": null,
            "display": null,
            "flex": null,
            "flex_flow": null,
            "grid_area": null,
            "grid_auto_columns": null,
            "grid_auto_flow": null,
            "grid_auto_rows": null,
            "grid_column": null,
            "grid_gap": null,
            "grid_row": null,
            "grid_template_areas": null,
            "grid_template_columns": null,
            "grid_template_rows": null,
            "height": null,
            "justify_content": null,
            "justify_items": null,
            "left": null,
            "margin": null,
            "max_height": null,
            "max_width": null,
            "min_height": null,
            "min_width": null,
            "object_fit": null,
            "object_position": null,
            "order": null,
            "overflow": null,
            "overflow_x": null,
            "overflow_y": null,
            "padding": null,
            "right": null,
            "top": null,
            "visibility": null,
            "width": null
          }
        },
        "37dd22fe4c16429dbbb09104226e8e87": {
          "model_module": "@jupyter-widgets/controls",
          "model_name": "DescriptionStyleModel",
          "model_module_version": "1.5.0",
          "state": {
            "_model_module": "@jupyter-widgets/controls",
            "_model_module_version": "1.5.0",
            "_model_name": "DescriptionStyleModel",
            "_view_count": null,
            "_view_module": "@jupyter-widgets/base",
            "_view_module_version": "1.2.0",
            "_view_name": "StyleView",
            "description_width": ""
          }
        },
        "22a903f78f2748ec8efd6e669f52742f": {
          "model_module": "@jupyter-widgets/base",
          "model_name": "LayoutModel",
          "model_module_version": "1.2.0",
          "state": {
            "_model_module": "@jupyter-widgets/base",
            "_model_module_version": "1.2.0",
            "_model_name": "LayoutModel",
            "_view_count": null,
            "_view_module": "@jupyter-widgets/base",
            "_view_module_version": "1.2.0",
            "_view_name": "LayoutView",
            "align_content": null,
            "align_items": null,
            "align_self": null,
            "border": null,
            "bottom": null,
            "display": null,
            "flex": null,
            "flex_flow": null,
            "grid_area": null,
            "grid_auto_columns": null,
            "grid_auto_flow": null,
            "grid_auto_rows": null,
            "grid_column": null,
            "grid_gap": null,
            "grid_row": null,
            "grid_template_areas": null,
            "grid_template_columns": null,
            "grid_template_rows": null,
            "height": null,
            "justify_content": null,
            "justify_items": null,
            "left": null,
            "margin": null,
            "max_height": null,
            "max_width": null,
            "min_height": null,
            "min_width": null,
            "object_fit": null,
            "object_position": null,
            "order": null,
            "overflow": null,
            "overflow_x": null,
            "overflow_y": null,
            "padding": null,
            "right": null,
            "top": null,
            "visibility": null,
            "width": null
          }
        },
        "bfe6bfd3f4f8475c9ff5c395ec52bf42": {
          "model_module": "@jupyter-widgets/controls",
          "model_name": "ProgressStyleModel",
          "model_module_version": "1.5.0",
          "state": {
            "_model_module": "@jupyter-widgets/controls",
            "_model_module_version": "1.5.0",
            "_model_name": "ProgressStyleModel",
            "_view_count": null,
            "_view_module": "@jupyter-widgets/base",
            "_view_module_version": "1.2.0",
            "_view_name": "StyleView",
            "bar_color": null,
            "description_width": ""
          }
        },
        "f556816d558245628bd60b500037cfce": {
          "model_module": "@jupyter-widgets/base",
          "model_name": "LayoutModel",
          "model_module_version": "1.2.0",
          "state": {
            "_model_module": "@jupyter-widgets/base",
            "_model_module_version": "1.2.0",
            "_model_name": "LayoutModel",
            "_view_count": null,
            "_view_module": "@jupyter-widgets/base",
            "_view_module_version": "1.2.0",
            "_view_name": "LayoutView",
            "align_content": null,
            "align_items": null,
            "align_self": null,
            "border": null,
            "bottom": null,
            "display": null,
            "flex": null,
            "flex_flow": null,
            "grid_area": null,
            "grid_auto_columns": null,
            "grid_auto_flow": null,
            "grid_auto_rows": null,
            "grid_column": null,
            "grid_gap": null,
            "grid_row": null,
            "grid_template_areas": null,
            "grid_template_columns": null,
            "grid_template_rows": null,
            "height": null,
            "justify_content": null,
            "justify_items": null,
            "left": null,
            "margin": null,
            "max_height": null,
            "max_width": null,
            "min_height": null,
            "min_width": null,
            "object_fit": null,
            "object_position": null,
            "order": null,
            "overflow": null,
            "overflow_x": null,
            "overflow_y": null,
            "padding": null,
            "right": null,
            "top": null,
            "visibility": null,
            "width": null
          }
        },
        "fae31583f788498288cc4a557c53df20": {
          "model_module": "@jupyter-widgets/controls",
          "model_name": "DescriptionStyleModel",
          "model_module_version": "1.5.0",
          "state": {
            "_model_module": "@jupyter-widgets/controls",
            "_model_module_version": "1.5.0",
            "_model_name": "DescriptionStyleModel",
            "_view_count": null,
            "_view_module": "@jupyter-widgets/base",
            "_view_module_version": "1.2.0",
            "_view_name": "StyleView",
            "description_width": ""
          }
        }
      }
    }
  },
  "cells": [
    {
      "cell_type": "code",
      "execution_count": 1,
      "metadata": {
        "id": "1MEfOSlTVYbt"
      },
      "outputs": [],
      "source": [
        "input_model = 'gpt2'"
      ]
    },
    {
      "cell_type": "code",
      "source": [
        "BASE_PATH = 'drive/MyDrive/MIDS/w266/02_final_project/mids-w266-project/'"
      ],
      "metadata": {
        "id": "NFVXsDUqVe8e"
      },
      "execution_count": 2,
      "outputs": []
    },
    {
      "cell_type": "code",
      "source": [
        "#@title Mount google drive\n",
        "from google.colab import drive\n",
        "drive.mount('/content/drive')"
      ],
      "metadata": {
        "colab": {
          "base_uri": "https://localhost:8080/"
        },
        "id": "gCpnlv-GVgxv",
        "outputId": "2dd414ca-22e2-4b23-8acd-efe9d15608b4"
      },
      "execution_count": 3,
      "outputs": [
        {
          "output_type": "stream",
          "name": "stdout",
          "text": [
            "Mounted at /content/drive\n"
          ]
        }
      ]
    },
    {
      "cell_type": "code",
      "source": [
        "#@title Installs\n",
        "!pip install pydot --quiet\n",
        "!pip install gensim --quiet\n",
        "!pip install tensorflow==2.15.0 --quiet #15 13\n",
        "!pip install tf_keras==2.15.0 --quiet\n",
        "!pip install tensorflow-datasets==4.8 --quiet #8\n",
        "!pip install tensorflow-text==2.15.0 --quiet #15\n",
        "!pip install transformers==4.17 --quiet #4.40.2 #4.37.2\n",
        "!pip install pyyaml h5py"
      ],
      "metadata": {
        "colab": {
          "base_uri": "https://localhost:8080/"
        },
        "id": "XEmPL9LkVikH",
        "outputId": "99844907-a5c6-46ee-e392-8d1aa3629443"
      },
      "execution_count": 4,
      "outputs": [
        {
          "output_type": "stream",
          "name": "stdout",
          "text": [
            "\u001b[2K   \u001b[90m━━━━━━━━━━━━━━━━━━━━━━━━━━━━━━━━━━━━━━━━\u001b[0m \u001b[32m1.7/1.7 MB\u001b[0m \u001b[31m28.0 MB/s\u001b[0m eta \u001b[36m0:00:00\u001b[0m\n",
            "\u001b[2K   \u001b[90m━━━━━━━━━━━━━━━━━━━━━━━━━━━━━━━━━━━━━━━━\u001b[0m \u001b[32m5.2/5.2 MB\u001b[0m \u001b[31m28.8 MB/s\u001b[0m eta \u001b[36m0:00:00\u001b[0m\n",
            "\u001b[2K   \u001b[90m━━━━━━━━━━━━━━━━━━━━━━━━━━━━━━━━━━━━━━━━\u001b[0m \u001b[32m116.3/116.3 kB\u001b[0m \u001b[31m9.7 MB/s\u001b[0m eta \u001b[36m0:00:00\u001b[0m\n",
            "\u001b[2K   \u001b[90m━━━━━━━━━━━━━━━━━━━━━━━━━━━━━━━━━━━━━━━━\u001b[0m \u001b[32m5.2/5.2 MB\u001b[0m \u001b[31m87.4 MB/s\u001b[0m eta \u001b[36m0:00:00\u001b[0m\n",
            "\u001b[2K     \u001b[90m━━━━━━━━━━━━━━━━━━━━━━━━━━━━━━━━━━━━━━━━\u001b[0m \u001b[32m67.9/67.9 kB\u001b[0m \u001b[31m6.0 MB/s\u001b[0m eta \u001b[36m0:00:00\u001b[0m\n",
            "\u001b[2K   \u001b[90m━━━━━━━━━━━━━━━━━━━━━━━━━━━━━━━━━━━━━━━━\u001b[0m \u001b[32m3.8/3.8 MB\u001b[0m \u001b[31m84.5 MB/s\u001b[0m eta \u001b[36m0:00:00\u001b[0m\n",
            "\u001b[2K   \u001b[90m━━━━━━━━━━━━━━━━━━━━━━━━━━━━━━━━━━━━━━━━\u001b[0m \u001b[32m897.5/897.5 kB\u001b[0m \u001b[31m52.3 MB/s\u001b[0m eta \u001b[36m0:00:00\u001b[0m\n",
            "\u001b[?25hRequirement already satisfied: pyyaml in /usr/local/lib/python3.10/dist-packages (6.0.1)\n",
            "Requirement already satisfied: h5py in /usr/local/lib/python3.10/dist-packages (3.9.0)\n",
            "Requirement already satisfied: numpy>=1.17.3 in /usr/local/lib/python3.10/dist-packages (from h5py) (1.25.2)\n"
          ]
        }
      ]
    },
    {
      "cell_type": "code",
      "source": [
        "#@title Imports\n",
        "\n",
        "import numpy as np\n",
        "import tensorflow as tf\n",
        "from tensorflow import keras\n",
        "import pandas as pd\n",
        "\n",
        "from tensorflow.keras.layers import Embedding, Input, Dense, Lambda\n",
        "from tensorflow.keras.models import Model\n",
        "import tensorflow.keras.backend as K\n",
        "from tensorflow.keras.models import load_model\n",
        "import tensorflow_datasets as tfds\n",
        "import tensorflow_text as tf_text\n",
        "import transformers\n",
        "\n",
        "from tensorflow.keras.optimizers import Adam\n",
        "from transformers import DistilBertTokenizerFast, TFDistilBertForSequenceClassification\n",
        "import matplotlib.pyplot as plt\n",
        "from sklearn.metrics import confusion_matrix\n",
        "from sklearn.metrics import classification_report\n",
        "from sklearn.metrics import accuracy_score, f1_score, precision_score, recall_score\n",
        "from sklearn.metrics import roc_curve, roc_auc_score\n",
        "\n",
        "from sklearn.metrics import accuracy_score, f1_score, precision_score, recall_score\n",
        "from transformers import BertTokenizer, TFBertModel, BertConfig, TFBertForSequenceClassification\n",
        "from transformers import RobertaTokenizer, TFRobertaModel\n",
        "\n",
        "from transformers import logging\n",
        "logging.set_verbosity_error()\n",
        "\n",
        "import sklearn as sk\n",
        "import os\n",
        "import nltk\n",
        "from nltk.data import find\n",
        "\n",
        "import matplotlib.pyplot as plt\n",
        "\n",
        "import re\n",
        "\n",
        "import gensim\n",
        "from gensim.models import Word2Vec\n",
        "from gensim.models import KeyedVectors\n",
        "from gensim.test.utils import datapath"
      ],
      "metadata": {
        "id": "ei7xgjOcVk0f"
      },
      "execution_count": 29,
      "outputs": []
    },
    {
      "cell_type": "code",
      "source": [
        "#@title Global tunable parameters\n",
        "\n",
        "# Sequence length to truncate/pad\n",
        "MAX_SEQUENCE_LENGTH = 800\n",
        "\n",
        "# hidden layer size after BERT's ouput\n",
        "HIDDEN_LAYER_SIZE = 512\n",
        "\n",
        "# Max embeddings in BERT\n",
        "BERT_MAX_EMBEDDINGS = 1024\n",
        "\n",
        "# fraction of data to use for training\n",
        "FRACTION = 1.0\n",
        "\n",
        "# Base path to store trained snapshot and results\n",
        "BASE_PATH = 'drive/MyDrive/MIDS/w266/02_final_project/mids-w266-project/'"
      ],
      "metadata": {
        "id": "z8m6NvDCVnib"
      },
      "execution_count": 6,
      "outputs": []
    },
    {
      "cell_type": "code",
      "source": [
        "#@title Utility print function\n",
        "\n",
        "def print_version(library_name):\n",
        "    try:\n",
        "        lib = __import__(library_name)\n",
        "        version = getattr(lib, '__version__', 'Version number not found')\n",
        "        print(f\"{library_name} version: {version}\")\n",
        "    except ImportError:\n",
        "        print(f\"{library_name} not installed.\")\n",
        "    except Exception as e:\n",
        "        print(f\"An error occurred: {e}\")\n",
        "\n",
        "#confirm versions\n",
        "print_version('numpy')\n",
        "print_version('transformers')\n",
        "print_version('tensorflow')\n",
        "print_version('keras')\n",
        "print_version('pandas')\n",
        "print_version('sklearn')"
      ],
      "metadata": {
        "colab": {
          "base_uri": "https://localhost:8080/"
        },
        "id": "o5jHlL4TVp-j",
        "outputId": "24410155-f15e-4a41-a6ac-2f5ded1d9b31"
      },
      "execution_count": 7,
      "outputs": [
        {
          "output_type": "stream",
          "name": "stdout",
          "text": [
            "numpy version: 1.25.2\n",
            "transformers version: 4.17.0\n",
            "tensorflow version: 2.15.0\n",
            "keras version: 2.15.0\n",
            "pandas version: 2.0.3\n",
            "sklearn version: 1.2.2\n"
          ]
        }
      ]
    },
    {
      "cell_type": "code",
      "source": [
        "#@title Utility Plot Function\n",
        "\n",
        "# 4-window plot. Small modification from matplotlib examples.\n",
        "\n",
        "def make_plot(axs,\n",
        "              model_history1,\n",
        "              model_history2,\n",
        "              model_1_name='model 1',\n",
        "              model_2_name='model 2',\n",
        "              ):\n",
        "    box = dict(facecolor='yellow', pad=5, alpha=0.2)\n",
        "\n",
        "    for i, metric in enumerate(['loss', 'accuracy']):\n",
        "        # small adjustment to account for the 2 accuracy measures in the Weighted Averging Model with Attention\n",
        "        if 'classification_%s' % metric in model_history2.history:\n",
        "            metric2 = 'classification_%s' % metric\n",
        "        else:\n",
        "            metric2 = metric\n",
        "\n",
        "        y_lim_lower1 = np.min(model_history1.history[metric])\n",
        "        y_lim_lower2 = np.min(model_history2.history[metric2])\n",
        "        y_lim_lower = min(y_lim_lower1, y_lim_lower2) * 0.9\n",
        "\n",
        "        y_lim_upper1 = np.max(model_history1.history[metric])\n",
        "        y_lim_upper2 = np.max(model_history2.history[metric2])\n",
        "        y_lim_upper = max(y_lim_upper1, y_lim_upper2) * 1.1\n",
        "\n",
        "        for j, model_history in enumerate([model_history1, model_history2]):\n",
        "            model_name = [model_1_name, model_2_name][j]\n",
        "            model_metric = [metric, metric2][j]\n",
        "            ax1 = axs[i, j]\n",
        "            ax1.plot(model_history.history[model_metric])\n",
        "            ax1.plot(model_history.history['val_%s' % model_metric])\n",
        "            ax1.set_title('%s - %s' % (metric, model_name))\n",
        "            ax1.set_ylabel(metric, bbox=box)\n",
        "            ax1.set_ylim(y_lim_lower, y_lim_upper)"
      ],
      "metadata": {
        "id": "I3eDAy-UVsVX"
      },
      "execution_count": 8,
      "outputs": []
    },
    {
      "cell_type": "code",
      "source": [
        "#@title Read Reddit dataset into a dataframe\n",
        "rdt_trainfile = f'{BASE_PATH}/Reddit/both_train.csv'\n",
        "rdt_tesstfile = f'{BASE_PATH}/Reddit/both_test.csv'\n",
        "rdt_train = pd.read_csv(rdt_trainfile)\n",
        "rdt_test = pd.read_csv(rdt_tesstfile)\n",
        "\n",
        "# Shuffle all rows\n",
        "rdt_train = rdt_train.sample(frac=1).reset_index(drop=True)\n",
        "rdt_test = rdt_test.sample(frac=1).reset_index(drop=True)\n",
        "\n",
        "\n",
        "# Split data into test and train\n",
        "train_size = int(0.8 * len(rdt_train))\n",
        "X_train = rdt_train[0:train_size].post\n",
        "X_val = rdt_train[train_size:].post\n",
        "X_test = rdt_test.post\n",
        "y_train = rdt_train[0:train_size].class_id\n",
        "y_val = rdt_train[train_size:].class_id\n",
        "y_test = rdt_test.class_id\n",
        "\n",
        "train_labels = np.array(y_train)\n",
        "test_labels = np.array(y_test)\n",
        "val_labels = np.array(y_val)\n",
        "\n",
        "train_examples_list = []\n",
        "test_examples_list = []\n",
        "val_examples_list = []\n",
        "\n",
        "temp_train_examples = np.array(X_train)\n",
        "temp_test_examples = np.array(X_test)\n",
        "temp_val_examples = np.array(X_val)\n",
        "\n",
        "for i in range(len(temp_train_examples)):\n",
        "  size = len(temp_train_examples[i])\n",
        "  lower = int(0.3*MAX_SEQUENCE_LENGTH)\n",
        "  upper = int(0.7*MAX_SEQUENCE_LENGTH)\n",
        "  if size > MAX_SEQUENCE_LENGTH:\n",
        "    train_examples_list.append(temp_train_examples[i][:lower] + temp_train_examples[i][upper:])\n",
        "  else:\n",
        "    train_examples_list.append(temp_train_examples[i])\n",
        "\n",
        "for i in range(len(temp_test_examples)):\n",
        "  size = len(temp_test_examples[i])\n",
        "  lower = int(0.3*size)\n",
        "  upper = int(0.7*size)\n",
        "  if size > MAX_SEQUENCE_LENGTH:\n",
        "    test_examples_list.append(temp_test_examples[i][:lower] + temp_test_examples[i][upper:])\n",
        "  else:\n",
        "    test_examples_list.append(temp_test_examples[i])\n",
        "\n",
        "for i in range(len(temp_val_examples)):\n",
        "  size = len(temp_val_examples[i])\n",
        "  lower = int(0.3*size)\n",
        "  upper = int(0.7*size)\n",
        "  if size > MAX_SEQUENCE_LENGTH:\n",
        "    val_examples_list.append(temp_val_examples[i][:lower] + temp_val_examples[i][upper:])\n",
        "  else:\n",
        "    val_examples_list.append(temp_val_examples[i])\n",
        "\n",
        "train_examples = np.array(train_examples_list)\n",
        "test_examples = np.array(test_examples_list)\n",
        "val_examples = np.array(val_examples_list)\n"
      ],
      "metadata": {
        "id": "1KicR9qEVwxu"
      },
      "execution_count": 9,
      "outputs": []
    },
    {
      "cell_type": "code",
      "source": [
        "print(rdt_train.class_name.unique())\n",
        "rdt_train.class_id.unique()"
      ],
      "metadata": {
        "colab": {
          "base_uri": "https://localhost:8080/"
        },
        "id": "EVi5PhOFVzdn",
        "outputId": "f6544482-77dd-471b-89fc-e4c6905f54e0"
      },
      "execution_count": 10,
      "outputs": [
        {
          "output_type": "stream",
          "name": "stdout",
          "text": [
            "['depression' 'adhd' 'anxiety' 'bipolar' 'none' 'ptsd']\n"
          ]
        },
        {
          "output_type": "execute_result",
          "data": {
            "text/plain": [
              "array([3, 0, 1, 2, 5, 4])"
            ]
          },
          "metadata": {},
          "execution_count": 10
        }
      ]
    },
    {
      "cell_type": "code",
      "source": [
        "#@title Inspect data and label characteristics\n",
        "\n",
        "print(f'Training set labels shape: {train_labels.shape}')\n",
        "print(f'Validation set labels shape: {val_labels.shape}')\n",
        "print(f'Test set labels shape: {test_labels.shape}')\n",
        "\n",
        "print(f'Training set examples shape: {train_examples.shape}')\n",
        "print(f'Validation set examples shape: {val_examples.shape}')\n",
        "print(f'Test set examples shape: {test_examples.shape}')\n",
        "\n",
        "print(f'Distribution of the length of all title')\n",
        "print(rdt_train[\"title\"].str.len().describe())\n",
        "\n",
        "print('Distribution of the length of all posts')\n",
        "print(rdt_train[\"post\"].str.len().describe())\n",
        "\n",
        "print(f'Labels min : {rdt_train.class_id.min()} max : {rdt_train.class_id.max()}')\n"
      ],
      "metadata": {
        "colab": {
          "base_uri": "https://localhost:8080/"
        },
        "id": "zawF-rJMW1mO",
        "outputId": "1c91af78-0ea4-43cb-fc7b-fec885f6ec23"
      },
      "execution_count": 11,
      "outputs": [
        {
          "output_type": "stream",
          "name": "stdout",
          "text": [
            "Training set labels shape: (10981,)\n",
            "Validation set labels shape: (2746,)\n",
            "Test set labels shape: (1488,)\n",
            "Training set examples shape: (10981,)\n",
            "Validation set examples shape: (2746,)\n",
            "Test set examples shape: (1488,)\n",
            "Distribution of the length of all title\n",
            "count    13727.000000\n",
            "mean        67.111751\n",
            "std         48.713468\n",
            "min          2.000000\n",
            "25%         34.000000\n",
            "50%         54.000000\n",
            "75%         85.000000\n",
            "max        306.000000\n",
            "Name: title, dtype: float64\n",
            "Distribution of the length of all posts\n",
            "count    13727.000000\n",
            "mean      1065.297734\n",
            "std       1373.414370\n",
            "min        123.000000\n",
            "25%        362.000000\n",
            "50%        658.000000\n",
            "75%       1236.500000\n",
            "max      38168.000000\n",
            "Name: post, dtype: float64\n",
            "Labels min : 0 max : 5\n"
          ]
        }
      ]
    },
    {
      "cell_type": "code",
      "source": [
        "#@ Histogram of all post length\n",
        "plt.hist(rdt_train[\"post\"].str.len(), bins=10, range=(0, 10000))\n",
        "plt.title('Distribution of post length')\n",
        "plt.xlabel('Post length')\n",
        "plt.ylabel('Number of posts')\n",
        "plt.show()"
      ],
      "metadata": {
        "colab": {
          "base_uri": "https://localhost:8080/",
          "height": 472
        },
        "id": "-XFX3fBJW3zB",
        "outputId": "f097650c-d920-43c1-f545-3e7ee72b595c"
      },
      "execution_count": 12,
      "outputs": [
        {
          "output_type": "display_data",
          "data": {
            "text/plain": [
              "<Figure size 640x480 with 1 Axes>"
            ],
            "image/png": "[encoded data removed]"
          },
          "metadata": {}
        }
      ]
    },
    {
      "cell_type": "code",
      "source": [
        "#@title Distribution of labels in training and test sets\n",
        "for i in range(np.max(train_labels)):\n",
        "  pos_indices = np.where(train_labels == i)\n",
        "  pct_positive = len(pos_indices[0])/len(train_labels)\n",
        "  print(f'Labels {i} in training set: {len(pos_indices[0])}/{len(train_labels)} ({pct_positive})')\n",
        "\n",
        "for i in range(np.max(val_labels)):\n",
        "  pos_indices = np.where(val_labels == i)\n",
        "  pct_positive = len(pos_indices[0])/len(val_labels)\n",
        "  print(f'Labels {i} in validation set: {len(pos_indices[0])}/{len(val_labels)} ({pct_positive})')\n",
        "\n",
        "for i in range(np.max(test_labels)):\n",
        "  pos_indices = np.where(test_labels == i)\n",
        "  pct_positive = len(pos_indices[0])/len(test_labels)\n",
        "  print(f'Labels {i} in test set: {len(pos_indices[0])}/{len(test_labels)} ({pct_positive})')\n"
      ],
      "metadata": {
        "colab": {
          "base_uri": "https://localhost:8080/"
        },
        "id": "t56rec9zXFxx",
        "outputId": "55b5f033-9b41-4132-8784-bbafa01990e8"
      },
      "execution_count": 13,
      "outputs": [
        {
          "output_type": "stream",
          "name": "stdout",
          "text": [
            "Labels 0 in training set: 1981/10981 (0.18040251343229213)\n",
            "Labels 1 in training set: 1938/10981 (0.17648665877424644)\n",
            "Labels 2 in training set: 1936/10981 (0.1763045259994536)\n",
            "Labels 3 in training set: 1952/10981 (0.1777615881977962)\n",
            "Labels 4 in training set: 1585/10981 (0.144340224023313)\n",
            "Labels 0 in validation set: 484/2746 (0.17625637290604515)\n",
            "Labels 1 in validation set: 484/2746 (0.17625637290604515)\n",
            "Labels 2 in validation set: 471/2746 (0.1715222141296431)\n",
            "Labels 3 in validation set: 498/2746 (0.18135469774217042)\n",
            "Labels 4 in validation set: 416/2746 (0.15149308084486526)\n",
            "Labels 0 in test set: 248/1488 (0.16666666666666666)\n",
            "Labels 1 in test set: 248/1488 (0.16666666666666666)\n",
            "Labels 2 in test set: 248/1488 (0.16666666666666666)\n",
            "Labels 3 in test set: 248/1488 (0.16666666666666666)\n",
            "Labels 4 in test set: 248/1488 (0.16666666666666666)\n"
          ]
        }
      ]
    },
    {
      "cell_type": "code",
      "source": [
        "mh_cls_names = list(rdt_train.class_name.unique())\n",
        "mh_cls_names\n",
        "mh_cls_id = list(rdt_train.class_id.unique())\n",
        "mh_cls_id\n",
        "\n",
        "mh_dict_id_to_name = {}\n",
        "mh_dict_name_to_id = {}\n",
        "for idx, value in enumerate(mh_cls_id):\n",
        "    mh_dict_id_to_name[value] = mh_cls_names[idx]\n",
        "for idx, value in enumerate(mh_cls_names):\n",
        "    mh_dict_name_to_id[value] = mh_cls_id[idx]\n",
        "\n",
        "print(mh_dict_id_to_name)\n",
        "print(mh_dict_name_to_id)\n"
      ],
      "metadata": {
        "colab": {
          "base_uri": "https://localhost:8080/"
        },
        "id": "UUFlGEmrd9NJ",
        "outputId": "8710f3ec-53fa-4d56-ed37-948adaf2832c"
      },
      "execution_count": 14,
      "outputs": [
        {
          "output_type": "stream",
          "name": "stdout",
          "text": [
            "{3: 'depression', 0: 'adhd', 1: 'anxiety', 2: 'bipolar', 5: 'none', 4: 'ptsd'}\n",
            "{'depression': 3, 'adhd': 0, 'anxiety': 1, 'bipolar': 2, 'none': 5, 'ptsd': 4}\n"
          ]
        }
      ]
    },
    {
      "cell_type": "code",
      "source": [
        "#@title BERT Tokenization of training, validation and test data\n",
        "\n",
        "def tokenize_train_val(tokenizer, train_examples, val_examples):\n",
        "\n",
        "    train_examples_str = [x for x in train_examples]\n",
        "    val_examples_str = [x for x in val_examples]\n",
        "\n",
        "    # Tokenize training, validation and test data\n",
        "    bert_train_tokenized = tokenize_data(tokenizer, train_examples_str)\n",
        "    bert_val_tokenized = tokenize_data(tokenizer, val_examples_str)\n",
        "\n",
        "    bert_train_inputs = [bert_train_tokenized.input_ids,\n",
        "                        bert_train_tokenized.token_type_ids,\n",
        "                        bert_train_tokenized.attention_mask]\n",
        "\n",
        "\n",
        "    bert_val_inputs = [bert_val_tokenized.input_ids,\n",
        "                        bert_val_tokenized.token_type_ids,\n",
        "                        bert_val_tokenized.attention_mask]\n",
        "\n",
        "\n",
        "    return bert_train_inputs, bert_val_inputs"
      ],
      "metadata": {
        "id": "8ZM4zjM-eALa"
      },
      "execution_count": 15,
      "outputs": []
    },
    {
      "cell_type": "code",
      "source": [
        "def tokenize_data_gpt(tokenizer, examples):\n",
        "    tokenizer.pad_token = tokenizer.eos_token\n",
        "    return tokenizer(\n",
        "        examples,\n",
        "        padding='max_length',\n",
        "        truncation=True,\n",
        "        max_length=128,\n",
        "        return_tensors='tf'\n",
        "    )"
      ],
      "metadata": {
        "id": "y7AHkzToWAls"
      },
      "execution_count": 16,
      "outputs": []
    },
    {
      "cell_type": "code",
      "source": [
        "# !pip install --upgrade transformers\n",
        "# !pip install transformers==4.6.1\n",
        "# from transformers import GPT2Tokenizer, TFGPT2Model, GPT2Config\n",
        "from transformers import GPT2Tokenizer, TFGPT2Model, GPT2Config\n",
        "# Tokenize training and validation data\n",
        "def gpt2_tokenize_train_val(tokenizer, train_examples, val_examples):\n",
        "    train_examples_str = [str(x) for x in train_examples]\n",
        "    val_examples_str = [str(x) for x in val_examples]\n",
        "\n",
        "    # Tokenize training, validation data\n",
        "    train_tokenized = tokenize_data_gpt(tokenizer, train_examples_str)\n",
        "    val_tokenized = tokenize_data_gpt(tokenizer, val_examples_str)\n",
        "\n",
        "    train_inputs = [train_tokenized['input_ids']]\n",
        "    val_inputs = [val_tokenized['input_ids']]\n",
        "\n",
        "    return train_inputs, val_inputs"
      ],
      "metadata": {
        "id": "Dhx9FsHMeHZR"
      },
      "execution_count": 17,
      "outputs": []
    },
    {
      "cell_type": "code",
      "source": [
        "# Create GPT-2 classification model using the last hidden state\n",
        "def create_gpt2_cls_model(gpt2_base_model,\n",
        "                          max_sequence_length=128,\n",
        "                          hidden_size=100,\n",
        "                          dropout=0.3,\n",
        "                          learning_rate=0.00005):\n",
        "\n",
        "    gpt2_base_model.trainable = True\n",
        "\n",
        "    input_ids = tf.keras.layers.Input(shape=(max_sequence_length,), dtype=tf.int32, name='input_ids_layer')\n",
        "\n",
        "    gpt2_inputs = {'input_ids': input_ids}\n",
        "    gpt2_out = gpt2_base_model(gpt2_inputs)\n",
        "\n",
        "    # Use the last hidden state for classification\n",
        "    last_hidden_state = gpt2_out.last_hidden_state\n",
        "    cls_embedding = last_hidden_state[:, -1, :]\n",
        "    print(cls_embedding.shape)\n",
        "\n",
        "    hidden = tf.keras.layers.Dense(hidden_size, activation='relu', name='hidden_layer')(cls_embedding)\n",
        "    hidden = tf.keras.layers.Dropout(dropout)(hidden)\n",
        "\n",
        "    classification = tf.keras.layers.Dense(6, activation='softmax', name='classification_layer')(hidden)\n",
        "\n",
        "    classification_model = tf.keras.Model(inputs=[input_ids], outputs=[classification])\n",
        "\n",
        "    classification_model.compile(optimizer=tf.keras.optimizers.Adam(learning_rate=learning_rate),\n",
        "                                 loss=tf.keras.losses.SparseCategoricalCrossentropy(from_logits=False),\n",
        "                                 metrics=['accuracy'])\n",
        "\n",
        "    return classification_model"
      ],
      "metadata": {
        "id": "TTKCgtOHLedE"
      },
      "execution_count": 18,
      "outputs": []
    },
    {
      "cell_type": "code",
      "source": [
        "# Main function to train GPT-2 model\n",
        "def gpt2_main(train, val, tlabels, vlabels, fraction):\n",
        "    tsamples = train[:int(fraction * len(train))]\n",
        "    vsamples = val[:int(fraction * len(val))]\n",
        "\n",
        "    train_samples = tsamples\n",
        "    val_samples = vsamples\n",
        "\n",
        "    # Tokenize training and validation data\n",
        "    gpt2_tokenizer = GPT2Tokenizer.from_pretrained('gpt2')\n",
        "    gpt2_tokenizer.pad_token = gpt2_tokenizer.eos_token\n",
        "    gpt2_train_inputs, gpt2_val_inputs = gpt2_tokenize_train_val(gpt2_tokenizer, train_samples, val_samples)\n",
        "\n",
        "    # Convert labels to numpy arrays\n",
        "    gpt2_train_labels = np.array(tlabels)\n",
        "    gpt2_train_sample_labels = gpt2_train_labels[:int(fraction * len(tlabels))]\n",
        "\n",
        "    gpt2_val_labels = np.array(vlabels)\n",
        "    gpt2_val_sample_labels = gpt2_val_labels[:int(fraction * len(vlabels))]\n",
        "\n",
        "    # Create classification model\n",
        "    config_l = GPT2Config.from_pretrained(\"gpt2\")\n",
        "    # config_l.max_position_embeddings = 512\n",
        "    gpt2_model = TFGPT2Model.from_pretrained('gpt2', config=config_l)\n",
        "    gpt2_classification_model = create_gpt2_cls_model(gpt2_model)\n",
        "\n",
        "    gpt2_classification_model.summary()\n",
        "\n",
        "    gpt2_classification_model_history = gpt2_classification_model.fit(\n",
        "        gpt2_train_inputs,\n",
        "        gpt2_train_sample_labels,\n",
        "        validation_data=(gpt2_val_inputs, gpt2_val_sample_labels),\n",
        "        batch_size=8,\n",
        "        epochs=2\n",
        "    )\n",
        "\n",
        "    return gpt2_classification_model, gpt2_classification_model_history"
      ],
      "metadata": {
        "id": "gkp6TRjDWRFG"
      },
      "execution_count": 19,
      "outputs": []
    },
    {
      "cell_type": "code",
      "source": [
        "print(transformers.__version__)\n",
        "# ´2.0.0´\n",
        "\n",
        "print(transformers.RobertaConfig) # Correct the typo here"
      ],
      "metadata": {
        "colab": {
          "base_uri": "https://localhost:8080/"
        },
        "id": "2eSRF6CHWUU0",
        "outputId": "4a05facd-cdc5-4b99-ee99-b86ebbb3757f"
      },
      "execution_count": 20,
      "outputs": [
        {
          "output_type": "stream",
          "name": "stdout",
          "text": [
            "4.17.0\n",
            "<class 'transformers.models.roberta.configuration_roberta.RobertaConfig'>\n"
          ]
        }
      ]
    },
    {
      "cell_type": "code",
      "source": [
        "fraction = 1"
      ],
      "metadata": {
        "id": "rCYGhW5kMxLO"
      },
      "execution_count": 21,
      "outputs": []
    },
    {
      "cell_type": "code",
      "source": [
        "model, model_history = gpt2_main(train_examples, val_examples, train_labels, val_labels, fraction)"
      ],
      "metadata": {
        "colab": {
          "base_uri": "https://localhost:8080/",
          "height": 1000,
          "referenced_widgets": [
            "b216411d344541c1877c704531c93bc9",
            "a9dea0aa36764707b839877e4be6717f",
            "a93f3556a8bf47c8953cc987bd263b7c",
            "e4784f59fdac4a29a99e0b856815d1a5",
            "5ea5f02a6a17449889069dad8124ca1e",
            "b4f16d1dd0b6452cb19e33512f21b43a",
            "ad8de7faaff74ac48f8a4db066829eb2",
            "179a4a4a81c14d0ea7232ffd685d2e6a",
            "1531338dca5742d18059bb2328318eb4",
            "d6993aeaf53c48ceb2cf213e60a6954c",
            "34bc3912c7ee4b34b1a853757c1b84e8",
            "eeac0044ca6140f3a1a446cb9b7604ca",
            "3887db5828c44cf1a3de8c19b2293c0b",
            "4470d63909cf433db07da3132d408ccf",
            "098c7c20af4a479297ffcb7406cbf0a2",
            "03adc1f9d6f9469b8435cd45c0cb7c32",
            "1e6eba371a7a4f74a30d1ede77e3177e",
            "5dd45243e960412faaa987d0f10760b8",
            "cf3635170cb541d394a01c862dc5848b",
            "5c1e28ebc4ae46a0b6ab134e4845c477",
            "21ec86e3beb74863a3feabeed0391f1d",
            "fcc36a3ec9a7419080e5bd27d3cda61f",
            "20e5975ee31a42ab9600ca3d56790df5",
            "cc8adbb76dff4dfab84165be67beb5e9",
            "36aba1014d1343a094aa322fb800b042",
            "b9a8c56c5ae047d9b45240fc9160941d",
            "64cabf00a91e4ef5a9844e612b4466e2",
            "4c592ca9b11e41229105c1ad4dba363d",
            "be94cc2ebe39415cbbaa69f715e0a51b",
            "b5699342738d4db68180fdfa2f48d254",
            "207b043891e74d3ab613397e22eb8c60",
            "d3cf3e78dd3c4af7b32e15e70d16f991",
            "f72bab9084364b43ab35c0e458b4134a",
            "6d47e68c16df4b8986172d98e0061792",
            "3ad5ee675c8f407abb5cfd6700450514",
            "cb28d7dd1bf84044846890bec666421a",
            "564687fe0a644b9fb49a81c75b86a51f",
            "3e3028ac69fe46758b442329c33e6132",
            "996ef1e3f4cb4319995f6ed6c280601f",
            "6a6d05321d6e4b64af3eac6b76c9a578",
            "aef1cfcf49f64f339404de2b64967789",
            "82837f50778f493b804ce892440dfcbb",
            "9d1f7fe756a04344a3df825351850151",
            "3a371ea226b14796aa4819e4b924a58d",
            "c874ed78830740d68d6e71d379236a36",
            "c6b5c79f69324ada880504ab2f89fe5a",
            "8dbf3d738a894378b27e6e196c134979",
            "086aa2a357434cf5919b0dbfeb9f6be3",
            "8557351dbd6e42918dfdd168bdae6d71",
            "24f05cdfcb9b46de903b9511ebea330b",
            "37dd22fe4c16429dbbb09104226e8e87",
            "22a903f78f2748ec8efd6e669f52742f",
            "bfe6bfd3f4f8475c9ff5c395ec52bf42",
            "f556816d558245628bd60b500037cfce",
            "fae31583f788498288cc4a557c53df20"
          ]
        },
        "id": "f02o0jEpLj0r",
        "outputId": "4d202488-4692-4044-a82b-e19978fb76b3"
      },
      "execution_count": 22,
      "outputs": [
        {
          "output_type": "display_data",
          "data": {
            "text/plain": [
              "Downloading:   0%|          | 0.00/0.99M [00:00<?, ?B/s]"
            ],
            "application/vnd.jupyter.widget-view+json": {
              "version_major": 2,
              "version_minor": 0,
              "model_id": "b216411d344541c1877c704531c93bc9"
            }
          },
          "metadata": {}
        },
        {
          "output_type": "display_data",
          "data": {
            "text/plain": [
              "Downloading:   0%|          | 0.00/446k [00:00<?, ?B/s]"
            ],
            "application/vnd.jupyter.widget-view+json": {
              "version_major": 2,
              "version_minor": 0,
              "model_id": "eeac0044ca6140f3a1a446cb9b7604ca"
            }
          },
          "metadata": {}
        },
        {
          "output_type": "display_data",
          "data": {
            "text/plain": [
              "Downloading:   0%|          | 0.00/26.0 [00:00<?, ?B/s]"
            ],
            "application/vnd.jupyter.widget-view+json": {
              "version_major": 2,
              "version_minor": 0,
              "model_id": "20e5975ee31a42ab9600ca3d56790df5"
            }
          },
          "metadata": {}
        },
        {
          "output_type": "display_data",
          "data": {
            "text/plain": [
              "Downloading:   0%|          | 0.00/665 [00:00<?, ?B/s]"
            ],
            "application/vnd.jupyter.widget-view+json": {
              "version_major": 2,
              "version_minor": 0,
              "model_id": "6d47e68c16df4b8986172d98e0061792"
            }
          },
          "metadata": {}
        },
        {
          "output_type": "display_data",
          "data": {
            "text/plain": [
              "Downloading:   0%|          | 0.00/475M [00:00<?, ?B/s]"
            ],
            "application/vnd.jupyter.widget-view+json": {
              "version_major": 2,
              "version_minor": 0,
              "model_id": "c874ed78830740d68d6e71d379236a36"
            }
          },
          "metadata": {}
        },
        {
          "output_type": "stream",
          "name": "stdout",
          "text": [
            "(None, 768)\n",
            "Model: \"model\"\n",
            "_________________________________________________________________\n",
            " Layer (type)                Output Shape              Param #   \n",
            "=================================================================\n",
            " input_ids_layer (InputLaye  [(None, 128)]             0         \n",
            " r)                                                              \n",
            "                                                                 \n",
            " tfgpt2_model (TFGPT2Model)  TFBaseModelOutputWithPa   124439808 \n",
            "                             stAndCrossAttentions(la             \n",
            "                             st_hidden_state=(None,              \n",
            "                             128, 768),                          \n",
            "                              past_key_values=((2, N             \n",
            "                             one, 12, 128, 64),                  \n",
            "                              (2, None, 12, 128, 64)             \n",
            "                             , (2, None, 12, 128, 64             \n",
            "                             ),                                  \n",
            "                              (2, None, 12, 128, 64)             \n",
            "                             , (2, None, 12, 128, 64             \n",
            "                             ),                                  \n",
            "                              (2, None, 12, 128, 64)             \n",
            "                             , (2, None, 12, 128, 64             \n",
            "                             ),                                  \n",
            "                              (2, None, 12, 128, 64)             \n",
            "                             , (2, None, 12, 128, 64             \n",
            "                             ),                                  \n",
            "                              (2, None, 12, 128, 64)             \n",
            "                             , (2, None, 12, 128, 64             \n",
            "                             ),                                  \n",
            "                              (2, None, 12, 128, 64)             \n",
            "                             ),                                  \n",
            "                              hidden_states=None, at             \n",
            "                             tentions=None, cross_at             \n",
            "                             tentions=None)                      \n",
            "                                                                 \n",
            " tf.__operators__.getitem (  (None, 768)               0         \n",
            " SlicingOpLambda)                                                \n",
            "                                                                 \n",
            " hidden_layer (Dense)        (None, 100)               76900     \n",
            "                                                                 \n",
            " dropout_37 (Dropout)        (None, 100)               0         \n",
            "                                                                 \n",
            " classification_layer (Dens  (None, 6)                 606       \n",
            " e)                                                              \n",
            "                                                                 \n",
            "=================================================================\n",
            "Total params: 124517314 (475.00 MB)\n",
            "Trainable params: 124517314 (475.00 MB)\n",
            "Non-trainable params: 0 (0.00 Byte)\n",
            "_________________________________________________________________\n",
            "Epoch 1/2\n",
            "1373/1373 [==============================] - 384s 255ms/step - loss: 1.4555 - accuracy: 0.4430 - val_loss: 0.8034 - val_accuracy: 0.7149\n",
            "Epoch 2/2\n",
            "1373/1373 [==============================] - 349s 254ms/step - loss: 0.7675 - accuracy: 0.7437 - val_loss: 0.7600 - val_accuracy: 0.7334\n"
          ]
        }
      ]
    },
    {
      "cell_type": "code",
      "source": [
        "gpt2_tokenizer = GPT2Tokenizer.from_pretrained('gpt2')\n",
        "test_examples_list = test_examples.tolist()\n",
        "test_tokens = tokenize_data_gpt(gpt2_tokenizer, test_examples_list)\n",
        "y_prediction = model.predict(test_tokens['input_ids'])"
      ],
      "metadata": {
        "colab": {
          "base_uri": "https://localhost:8080/"
        },
        "id": "7idzZVYtLnuD",
        "outputId": "8c631f4b-761e-44d4-e536-c26c70dd60b4"
      },
      "execution_count": 23,
      "outputs": [
        {
          "output_type": "stream",
          "name": "stdout",
          "text": [
            "47/47 [==============================] - 16s 284ms/step\n"
          ]
        }
      ]
    },
    {
      "cell_type": "code",
      "source": [
        "# Convert predicted probabilities to class labels\n",
        "y_pred_label = np.argmax(y_prediction, axis=1)"
      ],
      "metadata": {
        "id": "GU7O0YWbLuFu"
      },
      "execution_count": 24,
      "outputs": []
    },
    {
      "cell_type": "code",
      "source": [
        "import seaborn as sns\n",
        "from sklearn.metrics import confusion_matrix\n",
        "print('\\t Printing confusion matrix')\n",
        "#Create confusion matrix and normalizes it over predicted (columns)\n",
        "result = confusion_matrix(test_labels, y_pred_label)\n",
        "\n",
        "# Plot the confusion matrix\n",
        "actuals_names = [mh_dict_id_to_name[i] for i in range(len(mh_cls_names))]\n",
        "predictions_names = [mh_dict_id_to_name[i] for i in range(len(mh_cls_names))]\n",
        "\n",
        "# Plot the confusion matrix\n",
        "plt.figure(figsize=(8, 6))\n",
        "sns.heatmap(result, annot=True, fmt='d', cmap='Blues')\n",
        "\n",
        "# Add string labels to the axes\n",
        "plt.xticks(ticks=np.arange(len(actuals_names)) + 0.5, labels=actuals_names, rotation=45)\n",
        "plt.yticks(ticks=np.arange(len(predictions_names)) + 0.5, labels=predictions_names, rotation=0)\n",
        "\n",
        "# Add labels, title, and color bar\n",
        "plt.ylabel('Actual Class')\n",
        "plt.xlabel('Predicted Class')\n",
        "plt.title('Confusion Matrix')\n",
        "plt.show()\n",
        "\n",
        "print(f'Accuracy: {accuracy_score(test_labels, y_pred_label)}')\n",
        "\n",
        "print(classification_report(test_labels, y_pred_label, target_names=predictions_names))"
      ],
      "metadata": {
        "colab": {
          "base_uri": "https://localhost:8080/",
          "height": 873
        },
        "id": "fJY2yk9bep-w",
        "outputId": "fe47d553-71de-48c2-fde6-0631a18f5ab4"
      },
      "execution_count": 30,
      "outputs": [
        {
          "output_type": "stream",
          "name": "stdout",
          "text": [
            "\t Printing confusion matrix\n"
          ]
        },
        {
          "output_type": "display_data",
          "data": {
            "text/plain": [
              "<Figure size 800x600 with 2 Axes>"
            ],
            "image/png": "[encoded data removed]"
          },
          "metadata": {}
        },
        {
          "output_type": "stream",
          "name": "stdout",
          "text": [
            "Accuracy: 0.7486559139784946\n",
            "              precision    recall  f1-score   support\n",
            "\n",
            "        adhd       0.79      0.68      0.73       248\n",
            "     anxiety       0.79      0.65      0.71       248\n",
            "     bipolar       0.77      0.67      0.72       248\n",
            "  depression       0.52      0.89      0.65       248\n",
            "        ptsd       0.92      0.70      0.79       248\n",
            "        none       0.94      0.91      0.92       248\n",
            "\n",
            "    accuracy                           0.75      1488\n",
            "   macro avg       0.79      0.75      0.75      1488\n",
            "weighted avg       0.79      0.75      0.75      1488\n",
            "\n"
          ]
        }
      ]
    },
    {
      "cell_type": "code",
      "source": [
        "fraction"
      ],
      "metadata": {
        "colab": {
          "base_uri": "https://localhost:8080/"
        },
        "id": "NslS8eYKhDdv",
        "outputId": "f04685bf-cdde-46d9-ade5-9d0a4669f431"
      },
      "execution_count": 31,
      "outputs": [
        {
          "output_type": "execute_result",
          "data": {
            "text/plain": [
              "1"
            ]
          },
          "metadata": {},
          "execution_count": 31
        }
      ]
    }
  ]
}