{
  "cells": [
    {
      "cell_type": "code",
      "execution_count": 1,
      "metadata": {
        "id": "1MEfOSlTVYbt"
      },
      "outputs": [],
      "source": [
        "input_model = \"roberta\""
      ]
    },
    {
      "cell_type": "code",
      "execution_count": 2,
      "metadata": {
        "id": "NFVXsDUqVe8e"
      },
      "outputs": [],
      "source": [
        "BASE_PATH = 'drive/MyDrive/MIDS/w266/02_final_project/mids-w266-project/'"
      ]
    },
    {
      "cell_type": "code",
      "execution_count": 3,
      "metadata": {
        "id": "gCpnlv-GVgxv",
        "colab": {
          "base_uri": "https://localhost:8080/"
        },
        "outputId": "759ba432-904d-4cce-9be6-d1e09cc94031"
      },
      "outputs": [
        {
          "output_type": "stream",
          "name": "stdout",
          "text": [
            "Mounted at /content/drive\n"
          ]
        }
      ],
      "source": [
        "#@title Mount google drive\n",
        "from google.colab import drive\n",
        "drive.mount('/content/drive')"
      ]
    },
    {
      "cell_type": "code",
      "execution_count": 4,
      "metadata": {
        "colab": {
          "base_uri": "https://localhost:8080/"
        },
        "id": "XEmPL9LkVikH",
        "outputId": "caff3c86-cb6b-42a6-aea0-8d45537cedff"
      },
      "outputs": [
        {
          "output_type": "stream",
          "name": "stdout",
          "text": [
            "\u001b[2K   \u001b[90m━━━━━━━━━━━━━━━━━━━━━━━━━━━━━━━━━━━━━━━━\u001b[0m \u001b[32m1.7/1.7 MB\u001b[0m \u001b[31m23.1 MB/s\u001b[0m eta \u001b[36m0:00:00\u001b[0m\n",
            "\u001b[2K   \u001b[90m━━━━━━━━━━━━━━━━━━━━━━━━━━━━━━━━━━━━━━━━\u001b[0m \u001b[32m5.2/5.2 MB\u001b[0m \u001b[31m60.9 MB/s\u001b[0m eta \u001b[36m0:00:00\u001b[0m\n",
            "\u001b[2K   \u001b[90m━━━━━━━━━━━━━━━━━━━━━━━━━━━━━━━━━━━━━━━━\u001b[0m \u001b[32m116.3/116.3 kB\u001b[0m \u001b[31m11.7 MB/s\u001b[0m eta \u001b[36m0:00:00\u001b[0m\n",
            "\u001b[2K   \u001b[90m━━━━━━━━━━━━━━━━━━━━━━━━━━━━━━━━━━━━━━━━\u001b[0m \u001b[32m5.2/5.2 MB\u001b[0m \u001b[31m38.2 MB/s\u001b[0m eta \u001b[36m0:00:00\u001b[0m\n",
            "\u001b[2K     \u001b[90m━━━━━━━━━━━━━━━━━━━━━━━━━━━━━━━━━━━━━━━━\u001b[0m \u001b[32m67.9/67.9 kB\u001b[0m \u001b[31m2.8 MB/s\u001b[0m eta \u001b[36m0:00:00\u001b[0m\n",
            "\u001b[2K   \u001b[90m━━━━━━━━━━━━━━━━━━━━━━━━━━━━━━━━━━━━━━━━\u001b[0m \u001b[32m3.8/3.8 MB\u001b[0m \u001b[31m61.0 MB/s\u001b[0m eta \u001b[36m0:00:00\u001b[0m\n",
            "\u001b[2K   \u001b[90m━━━━━━━━━━━━━━━━━━━━━━━━━━━━━━━━━━━━━━━━\u001b[0m \u001b[32m897.5/897.5 kB\u001b[0m \u001b[31m53.3 MB/s\u001b[0m eta \u001b[36m0:00:00\u001b[0m\n",
            "\u001b[?25hRequirement already satisfied: pyyaml in /usr/local/lib/python3.10/dist-packages (6.0.1)\n",
            "Requirement already satisfied: h5py in /usr/local/lib/python3.10/dist-packages (3.9.0)\n",
            "Requirement already satisfied: numpy>=1.17.3 in /usr/local/lib/python3.10/dist-packages (from h5py) (1.25.2)\n"
          ]
        }
      ],
      "source": [
        "#@title Installs\n",
        "!pip install pydot --quiet\n",
        "!pip install gensim --quiet\n",
        "!pip install tensorflow==2.15.0 --quiet #15 13\n",
        "!pip install tf_keras==2.15.0 --quiet\n",
        "!pip install tensorflow-datasets==4.8 --quiet #8\n",
        "!pip install tensorflow-text==2.15.0 --quiet #15\n",
        "!pip install transformers==4.17 --quiet #4.40.2 #4.37.2\n",
        "!pip install pyyaml h5py"
      ]
    },
    {
      "cell_type": "code",
      "execution_count": 5,
      "metadata": {
        "id": "ei7xgjOcVk0f"
      },
      "outputs": [],
      "source": [
        "#@title Imports\n",
        "\n",
        "import numpy as np\n",
        "import tensorflow as tf\n",
        "from tensorflow import keras\n",
        "import pandas as pd\n",
        "\n",
        "from tensorflow.keras.layers import Embedding, Input, Dense, Lambda\n",
        "from tensorflow.keras.models import Model\n",
        "import tensorflow.keras.backend as K\n",
        "from tensorflow.keras.models import load_model\n",
        "import tensorflow_datasets as tfds\n",
        "import tensorflow_text as tf_text\n",
        "import transformers\n",
        "\n",
        "from tensorflow.keras.optimizers import Adam\n",
        "from transformers import DistilBertTokenizerFast, TFDistilBertForSequenceClassification\n",
        "\n",
        "from transformers import BertTokenizer, TFBertModel, BertConfig, TFBertForSequenceClassification\n",
        "from transformers import RobertaTokenizer, TFRobertaModel, RobertaConfig, TFRobertaForSequenceClassification\n",
        "from transformers import DistilBertTokenizer, TFDistilBertModel, DistilBertConfig, TFDistilBertForSequenceClassification\n",
        "from transformers import AutoTokenizer, TFAutoModelForSequenceClassification, AutoConfig\n",
        "\n",
        "from transformers import logging\n",
        "logging.set_verbosity_error()\n",
        "\n",
        "import matplotlib.pyplot as plt\n",
        "import seaborn as sns\n",
        "\n",
        "\n",
        "import sklearn as sk\n",
        "import os\n",
        "import nltk\n",
        "from nltk.data import find\n",
        "\n",
        "import matplotlib.pyplot as plt\n",
        "from sklearn.metrics import confusion_matrix\n",
        "from sklearn.metrics import classification_report\n",
        "from sklearn.metrics import accuracy_score, f1_score, precision_score, recall_score\n",
        "from sklearn.metrics import roc_curve, roc_auc_score\n",
        "\n",
        "\n",
        "import re\n",
        "\n",
        "import gensim\n",
        "from gensim.models import Word2Vec\n",
        "from gensim.models import KeyedVectors\n",
        "from gensim.test.utils import datapath"
      ]
    },
    {
      "cell_type": "code",
      "execution_count": 6,
      "metadata": {
        "id": "z8m6NvDCVnib"
      },
      "outputs": [],
      "source": [
        "#@title Global tunable parameters\n",
        "\n",
        "# Sequence length to truncate/pad\n",
        "MAX_SEQUENCE_LENGTH = 800\n",
        "\n",
        "# hidden layer size after BERT's ouput\n",
        "HIDDEN_LAYER_SIZE = 512\n",
        "\n",
        "# Max embeddings in BERT\n",
        "BERT_MAX_EMBEDDINGS = 1024\n",
        "\n",
        "# fraction of data to use for training\n",
        "FRACTION = 1.0\n",
        "\n",
        "# Base path to store trained snapshot and results\n",
        "BASE_PATH = 'drive/MyDrive/MIDS/w266/02_final_project/mids-w266-project/'"
      ]
    },
    {
      "cell_type": "code",
      "execution_count": 7,
      "metadata": {
        "colab": {
          "base_uri": "https://localhost:8080/"
        },
        "id": "o5jHlL4TVp-j",
        "outputId": "951ec953-5fbe-4d9a-987a-a5443ebea6b6"
      },
      "outputs": [
        {
          "output_type": "stream",
          "name": "stdout",
          "text": [
            "numpy version: 1.25.2\n",
            "transformers version: 4.17.0\n",
            "tensorflow version: 2.15.0\n",
            "keras version: 2.15.0\n",
            "pandas version: 2.0.3\n",
            "sklearn version: 1.2.2\n"
          ]
        }
      ],
      "source": [
        "#@title Utility print function\n",
        "\n",
        "def print_version(library_name):\n",
        "    try:\n",
        "        lib = __import__(library_name)\n",
        "        version = getattr(lib, '__version__', 'Version number not found')\n",
        "        print(f\"{library_name} version: {version}\")\n",
        "    except ImportError:\n",
        "        print(f\"{library_name} not installed.\")\n",
        "    except Exception as e:\n",
        "        print(f\"An error occurred: {e}\")\n",
        "\n",
        "#confirm versions\n",
        "print_version('numpy')\n",
        "print_version('transformers')\n",
        "print_version('tensorflow')\n",
        "print_version('keras')\n",
        "print_version('pandas')\n",
        "print_version('sklearn')"
      ]
    },
    {
      "cell_type": "code",
      "execution_count": 8,
      "metadata": {
        "id": "I3eDAy-UVsVX"
      },
      "outputs": [],
      "source": [
        "#@title Utility Plot Function\n",
        "\n",
        "# 4-window plot. Small modification from matplotlib examples.\n",
        "\n",
        "def make_plot(axs,\n",
        "              model_history1,\n",
        "              model_history2,\n",
        "              model_1_name='model 1',\n",
        "              model_2_name='model 2',\n",
        "              ):\n",
        "    box = dict(facecolor='yellow', pad=5, alpha=0.2)\n",
        "\n",
        "    for i, metric in enumerate(['loss', 'accuracy']):\n",
        "        # small adjustment to account for the 2 accuracy measures in the Weighted Averging Model with Attention\n",
        "        if 'classification_%s' % metric in model_history2.history:\n",
        "            metric2 = 'classification_%s' % metric\n",
        "        else:\n",
        "            metric2 = metric\n",
        "\n",
        "        y_lim_lower1 = np.min(model_history1.history[metric])\n",
        "        y_lim_lower2 = np.min(model_history2.history[metric2])\n",
        "        y_lim_lower = min(y_lim_lower1, y_lim_lower2) * 0.9\n",
        "\n",
        "        y_lim_upper1 = np.max(model_history1.history[metric])\n",
        "        y_lim_upper2 = np.max(model_history2.history[metric2])\n",
        "        y_lim_upper = max(y_lim_upper1, y_lim_upper2) * 1.1\n",
        "\n",
        "        for j, model_history in enumerate([model_history1, model_history2]):\n",
        "            model_name = [model_1_name, model_2_name][j]\n",
        "            model_metric = [metric, metric2][j]\n",
        "            ax1 = axs[i, j]\n",
        "            ax1.plot(model_history.history[model_metric])\n",
        "            ax1.plot(model_history.history['val_%s' % model_metric])\n",
        "            ax1.set_title('%s - %s' % (metric, model_name))\n",
        "            ax1.set_ylabel(metric, bbox=box)\n",
        "            ax1.set_ylim(y_lim_lower, y_lim_upper)"
      ]
    },
    {
      "cell_type": "code",
      "execution_count": 9,
      "metadata": {
        "id": "1KicR9qEVwxu"
      },
      "outputs": [],
      "source": [
        "#@title Read Reddit dataset into a dataframe\n",
        "rdt_trainfile = f'{BASE_PATH}/Reddit/both_train.csv'\n",
        "rdt_tesstfile = f'{BASE_PATH}/Reddit/both_test.csv'\n",
        "rdt_train = pd.read_csv(rdt_trainfile)\n",
        "rdt_test = pd.read_csv(rdt_tesstfile)\n",
        "\n",
        "# Shuffle all rows\n",
        "rdt_train = rdt_train.sample(frac=1).reset_index(drop=True)\n",
        "rdt_test = rdt_test.sample(frac=1).reset_index(drop=True)\n",
        "\n",
        "\n",
        "# Split data into test and train\n",
        "train_size = int(0.8 * len(rdt_train))\n",
        "X_train = rdt_train[0:train_size].post\n",
        "X_val = rdt_train[train_size:].post\n",
        "X_test = rdt_test.post\n",
        "y_train = rdt_train[0:train_size].class_id\n",
        "y_val = rdt_train[train_size:].class_id\n",
        "y_test = rdt_test.class_id\n",
        "\n",
        "train_labels = np.array(y_train)\n",
        "test_labels = np.array(y_test)\n",
        "val_labels = np.array(y_val)\n",
        "\n",
        "train_examples_list = []\n",
        "test_examples_list = []\n",
        "val_examples_list = []\n",
        "\n",
        "temp_train_examples = np.array(X_train)\n",
        "temp_test_examples = np.array(X_test)\n",
        "temp_val_examples = np.array(X_val)\n",
        "\n",
        "for i in range(len(temp_train_examples)):\n",
        "  size = len(temp_train_examples[i])\n",
        "  lower = int(0.3*MAX_SEQUENCE_LENGTH)\n",
        "  upper = int(0.7*MAX_SEQUENCE_LENGTH)\n",
        "  if size > MAX_SEQUENCE_LENGTH:\n",
        "    train_examples_list.append(temp_train_examples[i][:lower] + temp_train_examples[i][upper:])\n",
        "  else:\n",
        "    train_examples_list.append(temp_train_examples[i])\n",
        "\n",
        "for i in range(len(temp_test_examples)):\n",
        "  size = len(temp_test_examples[i])\n",
        "  lower = int(0.3*size)\n",
        "  upper = int(0.7*size)\n",
        "  if size > MAX_SEQUENCE_LENGTH:\n",
        "    test_examples_list.append(temp_test_examples[i][:lower] + temp_test_examples[i][upper:])\n",
        "  else:\n",
        "    test_examples_list.append(temp_test_examples[i])\n",
        "\n",
        "for i in range(len(temp_val_examples)):\n",
        "  size = len(temp_val_examples[i])\n",
        "  lower = int(0.3*size)\n",
        "  upper = int(0.7*size)\n",
        "  if size > MAX_SEQUENCE_LENGTH:\n",
        "    val_examples_list.append(temp_val_examples[i][:lower] + temp_val_examples[i][upper:])\n",
        "  else:\n",
        "    val_examples_list.append(temp_val_examples[i])\n",
        "\n",
        "train_examples = np.array(train_examples_list)\n",
        "test_examples = np.array(test_examples_list)\n",
        "val_examples = np.array(val_examples_list)\n"
      ]
    },
    {
      "cell_type": "code",
      "execution_count": 10,
      "metadata": {
        "colab": {
          "base_uri": "https://localhost:8080/"
        },
        "id": "EVi5PhOFVzdn",
        "outputId": "c462e5c6-4e47-47bb-eb58-07395bcf7feb"
      },
      "outputs": [
        {
          "output_type": "stream",
          "name": "stdout",
          "text": [
            "['anxiety' 'depression' 'none' 'bipolar' 'adhd' 'ptsd']\n"
          ]
        },
        {
          "output_type": "execute_result",
          "data": {
            "text/plain": [
              "array([1, 3, 5, 2, 0, 4])"
            ]
          },
          "metadata": {},
          "execution_count": 10
        }
      ],
      "source": [
        "print(rdt_train.class_name.unique())\n",
        "rdt_train.class_id.unique()"
      ]
    },
    {
      "cell_type": "code",
      "execution_count": 11,
      "metadata": {
        "colab": {
          "base_uri": "https://localhost:8080/"
        },
        "id": "zawF-rJMW1mO",
        "outputId": "9147f072-dda8-49c8-a8b0-a3ed2b389154"
      },
      "outputs": [
        {
          "output_type": "stream",
          "name": "stdout",
          "text": [
            "Training set labels shape: (10981,)\n",
            "Validation set labels shape: (2746,)\n",
            "Test set labels shape: (1488,)\n",
            "Training set examples shape: (10981,)\n",
            "Validation set examples shape: (2746,)\n",
            "Test set examples shape: (1488,)\n",
            "Distribution of the length of all title\n",
            "count    13727.000000\n",
            "mean        67.111751\n",
            "std         48.713468\n",
            "min          2.000000\n",
            "25%         34.000000\n",
            "50%         54.000000\n",
            "75%         85.000000\n",
            "max        306.000000\n",
            "Name: title, dtype: float64\n",
            "Distribution of the length of all posts\n",
            "count    13727.000000\n",
            "mean      1065.297734\n",
            "std       1373.414370\n",
            "min        123.000000\n",
            "25%        362.000000\n",
            "50%        658.000000\n",
            "75%       1236.500000\n",
            "max      38168.000000\n",
            "Name: post, dtype: float64\n",
            "Labels min : 0 max : 5\n"
          ]
        }
      ],
      "source": [
        "#@title Inspect data and label characteristics\n",
        "\n",
        "print(f'Training set labels shape: {train_labels.shape}')\n",
        "print(f'Validation set labels shape: {val_labels.shape}')\n",
        "print(f'Test set labels shape: {test_labels.shape}')\n",
        "\n",
        "print(f'Training set examples shape: {train_examples.shape}')\n",
        "print(f'Validation set examples shape: {val_examples.shape}')\n",
        "print(f'Test set examples shape: {test_examples.shape}')\n",
        "\n",
        "print(f'Distribution of the length of all title')\n",
        "print(rdt_train[\"title\"].str.len().describe())\n",
        "\n",
        "print('Distribution of the length of all posts')\n",
        "print(rdt_train[\"post\"].str.len().describe())\n",
        "\n",
        "print(f'Labels min : {rdt_train.class_id.min()} max : {rdt_train.class_id.max()}')\n"
      ]
    },
    {
      "cell_type": "code",
      "execution_count": 12,
      "metadata": {
        "colab": {
          "base_uri": "https://localhost:8080/",
          "height": 472
        },
        "id": "-XFX3fBJW3zB",
        "outputId": "a7c1141d-7a86-4f8a-fc6a-359855180b1e"
      },
      "outputs": [
        {
          "output_type": "display_data",
          "data": {
            "text/plain": [
              "<Figure size 640x480 with 1 Axes>"
            ],
            "image/png": "[encoded data removed]"
          },
          "metadata": {}
        }
      ],
      "source": [
        "#@ Histogram of all post length\n",
        "plt.hist(rdt_train[\"post\"].str.len(), bins=10, range=(0, 10000))\n",
        "plt.title('Distribution of post length')\n",
        "plt.xlabel('Post length')\n",
        "plt.ylabel('Number of posts')\n",
        "plt.show()"
      ]
    },
    {
      "cell_type": "code",
      "execution_count": 13,
      "metadata": {
        "colab": {
          "base_uri": "https://localhost:8080/"
        },
        "id": "t56rec9zXFxx",
        "outputId": "6e78f473-1f6c-45af-c92e-ea5a9368b7d0"
      },
      "outputs": [
        {
          "output_type": "stream",
          "name": "stdout",
          "text": [
            "Labels 0 in training set: 1996/10981 (0.1817685092432383)\n",
            "Labels 1 in training set: 1951/10981 (0.17767052181039977)\n",
            "Labels 2 in training set: 1913/10981 (0.17420999908933613)\n",
            "Labels 3 in training set: 1959/10981 (0.1783990529095711)\n",
            "Labels 4 in training set: 1577/10981 (0.1436116929241417)\n",
            "Labels 0 in validation set: 469/2746 (0.17079388201019666)\n",
            "Labels 1 in validation set: 471/2746 (0.1715222141296431)\n",
            "Labels 2 in validation set: 494/2746 (0.1798980335032775)\n",
            "Labels 3 in validation set: 491/2746 (0.17880553532410778)\n",
            "Labels 4 in validation set: 424/2746 (0.15440640932265112)\n",
            "Labels 0 in test set: 248/1488 (0.16666666666666666)\n",
            "Labels 1 in test set: 248/1488 (0.16666666666666666)\n",
            "Labels 2 in test set: 248/1488 (0.16666666666666666)\n",
            "Labels 3 in test set: 248/1488 (0.16666666666666666)\n",
            "Labels 4 in test set: 248/1488 (0.16666666666666666)\n"
          ]
        }
      ],
      "source": [
        "#@title Distribution of labels in training and test sets\n",
        "for i in range(np.max(train_labels)):\n",
        "  pos_indices = np.where(train_labels == i)\n",
        "  pct_positive = len(pos_indices[0])/len(train_labels)\n",
        "  print(f'Labels {i} in training set: {len(pos_indices[0])}/{len(train_labels)} ({pct_positive})')\n",
        "\n",
        "for i in range(np.max(val_labels)):\n",
        "  pos_indices = np.where(val_labels == i)\n",
        "  pct_positive = len(pos_indices[0])/len(val_labels)\n",
        "  print(f'Labels {i} in validation set: {len(pos_indices[0])}/{len(val_labels)} ({pct_positive})')\n",
        "\n",
        "for i in range(np.max(test_labels)):\n",
        "  pos_indices = np.where(test_labels == i)\n",
        "  pct_positive = len(pos_indices[0])/len(test_labels)\n",
        "  print(f'Labels {i} in test set: {len(pos_indices[0])}/{len(test_labels)} ({pct_positive})')\n"
      ]
    },
    {
      "cell_type": "code",
      "execution_count": 14,
      "metadata": {
        "colab": {
          "base_uri": "https://localhost:8080/"
        },
        "id": "UUFlGEmrd9NJ",
        "outputId": "0e416aec-eb41-417c-f541-e7bca0171c84"
      },
      "outputs": [
        {
          "output_type": "stream",
          "name": "stdout",
          "text": [
            "{1: 'anxiety', 3: 'depression', 5: 'none', 2: 'bipolar', 0: 'adhd', 4: 'ptsd'}\n",
            "{'anxiety': 1, 'depression': 3, 'none': 5, 'bipolar': 2, 'adhd': 0, 'ptsd': 4}\n"
          ]
        }
      ],
      "source": [
        "mh_cls_names = list(rdt_train.class_name.unique())\n",
        "mh_cls_names\n",
        "mh_cls_id = list(rdt_train.class_id.unique())\n",
        "mh_cls_id\n",
        "\n",
        "mh_dict_id_to_name = {}\n",
        "mh_dict_name_to_id = {}\n",
        "for idx, value in enumerate(mh_cls_id):\n",
        "    mh_dict_id_to_name[value] = mh_cls_names[idx]\n",
        "for idx, value in enumerate(mh_cls_names):\n",
        "    mh_dict_name_to_id[value] = mh_cls_id[idx]\n",
        "\n",
        "print(mh_dict_id_to_name)\n",
        "print(mh_dict_name_to_id)\n"
      ]
    },
    {
      "cell_type": "code",
      "execution_count": 15,
      "metadata": {
        "id": "8ZM4zjM-eALa"
      },
      "outputs": [],
      "source": [
        "#@title BERT Tokenization of training, validation and test data\n",
        "\n",
        "def tokenize_train_val(tokenizer, train_examples, val_examples):\n",
        "\n",
        "    train_examples_str = [x for x in train_examples]\n",
        "    val_examples_str = [x for x in val_examples]\n",
        "\n",
        "    # Tokenize training, validation and test data\n",
        "    bert_train_tokenized = tokenize_data(tokenizer, train_examples_str)\n",
        "    bert_val_tokenized = tokenize_data(tokenizer, val_examples_str)\n",
        "\n",
        "    bert_train_inputs = [bert_train_tokenized.input_ids,\n",
        "                        bert_train_tokenized.token_type_ids,\n",
        "                        bert_train_tokenized.attention_mask]\n",
        "\n",
        "\n",
        "    bert_val_inputs = [bert_val_tokenized.input_ids,\n",
        "                        bert_val_tokenized.token_type_ids,\n",
        "                        bert_val_tokenized.attention_mask]\n",
        "\n",
        "\n",
        "    return bert_train_inputs, bert_val_inputs"
      ]
    },
    {
      "cell_type": "code",
      "execution_count": 16,
      "metadata": {
        "id": "J_iMd7vFeC79"
      },
      "outputs": [],
      "source": [
        "def tokenize_data(tokenizer, input_str):\n",
        "  tokenized = tokenizer(input_str,\n",
        "              max_length=MAX_SEQUENCE_LENGTH,\n",
        "              truncation=True,\n",
        "              padding='max_length',\n",
        "              return_tensors='tf')\n",
        "  return tokenized"
      ]
    },
    {
      "cell_type": "code",
      "execution_count": 17,
      "metadata": {
        "id": "Dhx9FsHMeHZR"
      },
      "outputs": [],
      "source": [
        "#@title BERT Tokenization of training, validation and test data\n",
        "\n",
        "def tokenize_test(tokenizer, test_examples):\n",
        "\n",
        "    test_examples_str = [x for x in test_examples]\n",
        "\n",
        "    # Tokenize training, validation and test data\n",
        "    bert_test_tokenized = tokenize_data(tokenizer, test_examples_str)\n",
        "\n",
        "    bert_test_inputs = [bert_test_tokenized.input_ids,\n",
        "                        bert_test_tokenized.token_type_ids,\n",
        "                        bert_test_tokenized.attention_mask]\n",
        "\n",
        "\n",
        "    return bert_test_inputs"
      ]
    },
    {
      "cell_type": "code",
      "execution_count": 18,
      "metadata": {
        "id": "676JJ--meNQo"
      },
      "outputs": [],
      "source": [
        "#@title BERT Tokenization of training, validation and test data\n",
        "\n",
        "def roberta_tokenize_train_val(tokenizer, train_examples, val_examples):\n",
        "\n",
        "    train_examples_str = [x for x in train_examples]\n",
        "    val_examples_str = [x for x in val_examples]\n",
        "\n",
        "    # Tokenize training, validation and test data\n",
        "    train_tokenized = tokenize_data(tokenizer, train_examples_str)\n",
        "    val_tokenized = tokenize_data(tokenizer, val_examples_str)\n",
        "\n",
        "    train_inputs = [train_tokenized.input_ids,\n",
        "                        train_tokenized.attention_mask]\n",
        "\n",
        "\n",
        "    val_inputs = [val_tokenized.input_ids,\n",
        "                        val_tokenized.attention_mask]\n",
        "\n",
        "\n",
        "    return train_inputs, val_inputs"
      ]
    },
    {
      "cell_type": "code",
      "execution_count": 19,
      "metadata": {
        "id": "qgkG1zcBeRkh"
      },
      "outputs": [],
      "source": [
        "#@title Train RoBERTa model - use CLS token\n",
        "def create_roberta_cls_model(base_model,\n",
        "                          max_sequence_length=MAX_SEQUENCE_LENGTH,\n",
        "                          hidden_size = 100,\n",
        "                          dropout=0.3,\n",
        "                          learning_rate=0.00005):\n",
        "    \"\"\"\n",
        "    Build a simple classification model with BERT. Use the CLS Token output for classification purposes.\n",
        "    \"\"\"\n",
        "\n",
        "    base_model.trainable = True\n",
        "\n",
        "    input_ids = tf.keras.layers.Input(shape=(max_sequence_length,), dtype=tf.int64, name='input_ids_layer')\n",
        "    attention_mask = tf.keras.layers.Input(shape=(max_sequence_length,), dtype=tf.int64, name='attention_mask_layer')\n",
        "\n",
        "    inputs = {'input_ids': input_ids,\n",
        "              'attention_mask': attention_mask}\n",
        "\n",
        "    # change dummy input for bert; Some hack to make load model\n",
        "    # https://wormtooth.com/20221229-save-bert-model-correctly/\n",
        "    # It did not work though !!\n",
        "    features = tf.constant([[0] * max_sequence_length])\n",
        "    base_model._saved_model_inputs_spec = None\n",
        "    base_model._set_save_spec(features)\n",
        "\n",
        "    roberta_out = base_model(inputs)\n",
        "    #roberta_out = base_model([input_ids, attention_mask])\n",
        "\n",
        "    # The first token of every example is a CLS token\n",
        "    cls_embedding = roberta_out[0][:, 0, :]\n",
        "    print(cls_embedding.shape)\n",
        "\n",
        "    hidden = tf.keras.layers.Dense(hidden_size, activation='relu', name='hidden_layer')(cls_embedding)\n",
        "\n",
        "    hidden = tf.keras.layers.Dropout(dropout)(hidden)\n",
        "\n",
        "    classification = tf.keras.layers.Dense(6, activation='softmax',name='classification_layer')(hidden)\n",
        "\n",
        "    classification_model = tf.keras.Model(inputs=[input_ids, attention_mask], outputs=[classification])\n",
        "\n",
        "    classification_model.compile(optimizer=tf.keras.optimizers.Adam(learning_rate=learning_rate),\n",
        "                                 loss=tf.keras.losses.SparseCategoricalCrossentropy(from_logits=False),\n",
        "                                 metrics='accuracy')\n",
        "\n",
        "    return classification_model\n",
        "\n",
        "\n"
      ]
    },
    {
      "cell_type": "code",
      "execution_count": 20,
      "metadata": {
        "id": "2IMCOvVBeT1B"
      },
      "outputs": [],
      "source": [
        "def roberta_main(train, val, tlabels, vlabels, fraction):\n",
        "    \"\"\"\n",
        "    Main function to train RoBerta model\n",
        "    \"\"\"\n",
        "\n",
        "    # Load training, validation and test data\n",
        "    tsamples = train[0:int(fraction*len(train))]\n",
        "    vsamples = val[0:int(fraction*len(val))]\n",
        "\n",
        "    train_samples = tsamples\n",
        "    val_samples = vsamples\n",
        "\n",
        "    # Tokenize training, validation and test data\n",
        "    roberta_tokenizer = RobertaTokenizer.from_pretrained('roberta-base')\n",
        "    roberta_train_inputs, roberta_val_inputs = roberta_tokenize_train_val(roberta_tokenizer, train_samples, val_samples)\n",
        "\n",
        "    # Convert labels to numpy arrays\n",
        "    roberta_train_labels = np.array(tlabels)\n",
        "    roberta_train_sample_labels = roberta_train_labels[0:int(fraction*len(tlabels))]\n",
        "\n",
        "    roberta_val_labels = np.array(vlabels)\n",
        "    roberta_val_sample_labels = roberta_val_labels[0:int(fraction*len(vlabels))]\n",
        "\n",
        "    # Create classification model\n",
        "    config_l = RobertaConfig.from_pretrained(\"roberta-base\")\n",
        "    config_l.num_max_position_embeddingslabels = 512\n",
        "\n",
        "    roberta_model = TFRobertaModel.from_pretrained('roberta-base', config = config_l)\n",
        "    roberta_classification_model = create_roberta_cls_model(roberta_model, hidden_size=HIDDEN_LAYER_SIZE)\n",
        "\n",
        "    roberta_classification_model.summary()\n",
        "\n",
        "    roberta_classification_model_history = roberta_classification_model.fit(\n",
        "        roberta_train_inputs,\n",
        "        roberta_train_sample_labels,\n",
        "        validation_data=(roberta_val_inputs, roberta_val_sample_labels),\n",
        "        batch_size=4, #8,\n",
        "        epochs=2\n",
        "    )\n",
        "\n",
        "    return roberta_classification_model, roberta_classification_model_history\n"
      ]
    },
    {
      "cell_type": "code",
      "execution_count": 21,
      "metadata": {
        "id": "vKs0pFqbhSv9"
      },
      "outputs": [],
      "source": [
        "fraction = 1"
      ]
    },
    {
      "cell_type": "code",
      "execution_count": 22,
      "metadata": {
        "colab": {
          "base_uri": "https://localhost:8080/",
          "height": 977,
          "referenced_widgets": [
            "bbf9dbd617304e288c5026007f59f5da",
            "d5da1e1d59df47809cc91b008f26f88a",
            "b7e3c731b06d413e94ef5d4557db7181",
            "9e1dd9adbee348a4b6af66218ccf621e",
            "ec61024a3b3e489c8d81b7a249b4fbb4",
            "cc44801d7f4f41b58af5fc5c1247b141",
            "adb4f7aa14ea483ea3264d9761f2aecf",
            "6537dfae0e0949c99c20b95518dfe099",
            "b97a1f895a39431f872315b81f8c6d19",
            "f844b3b9f1c245a5a70f5932db8316b3",
            "33310cca8f614e5f9e5b895ac6fbe502",
            "e8bcfab046bc459283acd054aa196d68",
            "8aea60c018aa40b88493f5449144429b",
            "0aabfa4dd8544f1a8fe914e867208b87",
            "9598a1df950d4dc083d8c5b621eabde9",
            "319aa661fad94257bd982bd7af004059",
            "cb28a975c77d4ab2b1b2a342c29dc0e8",
            "29ef2ef7c52240459205b00c30b83533",
            "12f5ee63a16541728efba931190740a0",
            "2c81370276e444f292874e21f8de9b3d",
            "285f08df6bda424d9c3ddc2d4ce914ff",
            "24c2cdbb3c4c40d2ba0600f401f21ba9",
            "dfff41dff52042988dd7db0b3c56f954",
            "7c16e126fbbd4af6b00d5e3897cb5272",
            "93a597c8f9aa46d684ed004f635b36da",
            "71450c6c2b0646aca75d046bde3e1dc3",
            "b7a42ea8211c4df4a6699dedb6092bff",
            "85688bd20f3c409baef0640402d98e6b",
            "9ffc776c0db14c928d83bf79a4a7f36d",
            "76a5d9f832044ebd801c2f80f9b43e34",
            "d0554edb4092491388a21f6f36dbb4e7",
            "0cdd70fc89a34f5a8c8e84571ff51d91",
            "0e7541ed9bb24ebf815f638d72fd6e70",
            "94d4afbb1c9245a29bb3bb99d54c8bb3",
            "991518db8e8e4697b6a687aedb0185ac",
            "de2593e6cae84848bebc9993a708e969",
            "e194896560db4c92a8d62e496aea3567",
            "a8a553e0e3dc41f4bd548b367a94953d",
            "1a24de78aa4e4ec2b86fda3d3680ea3c",
            "0502b36de40d437683ff4becc3078fa8",
            "a8f98528abcc44edaec137152c6eab3c",
            "b3372d06525542f4b4aa5a84af1a52cb",
            "6e64b0a499df48958df9a9ec4941e08f",
            "2426cb72e3734ef29f6b45b431f0af7f",
            "8e50a704a8d645ad95eedc3e85a9acd0",
            "926f2244160a467ebe609f949e005cac",
            "ef07a7fe05e346548fc07a7001c4c840",
            "b9cfcadbdc284feab2c9425b01567ec9",
            "259a42af6cee4e6ba47416ad681d6c26",
            "cdb315332dae4e5d8b945a9762ae3aa3",
            "3a4a8270182d477fa20d6b31367303a5",
            "cb1ce40c25c548f78462779d3901e5a5",
            "53ffc007a5dd4bafb47b6e3bf0a667e1",
            "3b772abd48e64fa1b840f1e743704a0d",
            "afb5f0457b3a4cd196c408da8dde8a03"
          ]
        },
        "id": "3IOD_dGdeXor",
        "outputId": "d4ef7101-3b8a-47a7-c8d9-57a89ae6e3d5"
      },
      "outputs": [
        {
          "data": {
            "application/vnd.jupyter.widget-view+json": {
              "model_id": "bbf9dbd617304e288c5026007f59f5da",
              "version_major": 2,
              "version_minor": 0
            },
            "text/plain": [
              "Downloading:   0%|          | 0.00/878k [00:00<?, ?B/s]"
            ]
          },
          "metadata": {},
          "output_type": "display_data"
        },
        {
          "data": {
            "application/vnd.jupyter.widget-view+json": {
              "model_id": "e8bcfab046bc459283acd054aa196d68",
              "version_major": 2,
              "version_minor": 0
            },
            "text/plain": [
              "Downloading:   0%|          | 0.00/446k [00:00<?, ?B/s]"
            ]
          },
          "metadata": {},
          "output_type": "display_data"
        },
        {
          "data": {
            "application/vnd.jupyter.widget-view+json": {
              "model_id": "dfff41dff52042988dd7db0b3c56f954",
              "version_major": 2,
              "version_minor": 0
            },
            "text/plain": [
              "Downloading:   0%|          | 0.00/25.0 [00:00<?, ?B/s]"
            ]
          },
          "metadata": {},
          "output_type": "display_data"
        },
        {
          "data": {
            "application/vnd.jupyter.widget-view+json": {
              "model_id": "94d4afbb1c9245a29bb3bb99d54c8bb3",
              "version_major": 2,
              "version_minor": 0
            },
            "text/plain": [
              "Downloading:   0%|          | 0.00/481 [00:00<?, ?B/s]"
            ]
          },
          "metadata": {},
          "output_type": "display_data"
        },
        {
          "data": {
            "application/vnd.jupyter.widget-view+json": {
              "model_id": "8e50a704a8d645ad95eedc3e85a9acd0",
              "version_major": 2,
              "version_minor": 0
            },
            "text/plain": [
              "Downloading:   0%|          | 0.00/627M [00:00<?, ?B/s]"
            ]
          },
          "metadata": {},
          "output_type": "display_data"
        },
        {
          "metadata": {
            "tags": null
          },
          "name": "stdout",
          "output_type": "stream",
          "text": [
            "(None, 768)\n",
            "Model: \"model\"\n",
            "__________________________________________________________________________________________________\n",
            " Layer (type)                Output Shape                 Param #   Connected to                  \n",
            "==================================================================================================\n",
            " attention_mask_layer (Inpu  [(None, 800)]                0         []                            \n",
            " tLayer)                                                                                          \n",
            "                                                                                                  \n",
            " input_ids_layer (InputLaye  [(None, 800)]                0         []                            \n",
            " r)                                                                                               \n",
            "                                                                                                  \n",
            " tf_roberta_model (TFRobert  TFBaseModelOutputWithPooli   1246456   ['attention_mask_layer[0][0]',\n",
            " aModel)                     ngAndCrossAttentions(last_   32         'input_ids_layer[0][0]']     \n",
            "                             hidden_state=(None, 800, 7                                           \n",
            "                             68),                                                                 \n",
            "                              pooler_output=(None, 768)                                           \n",
            "                             , past_key_values=None, hi                                           \n",
            "                             dden_states=None, attentio                                           \n",
            "                             ns=None, cross_attentions=                                           \n",
            "                             None)                                                                \n",
            "                                                                                                  \n",
            " tf.__operators__.getitem (  (None, 768)                  0         ['tf_roberta_model[0][0]']    \n",
            " SlicingOpLambda)                                                                                 \n",
            "                                                                                                  \n",
            " hidden_layer (Dense)        (None, 512)                  393728    ['tf.__operators__.getitem[0][\n",
            "                                                                    0]']                          \n",
            "                                                                                                  \n",
            " dropout_37 (Dropout)        (None, 512)                  0         ['hidden_layer[0][0]']        \n",
            "                                                                                                  \n",
            " classification_layer (Dens  (None, 6)                    3078      ['dropout_37[0][0]']          \n",
            " e)                                                                                               \n",
            "                                                                                                  \n",
            "==================================================================================================\n",
            "Total params: 125042438 (477.00 MB)\n",
            "Trainable params: 125042438 (477.00 MB)\n",
            "Non-trainable params: 0 (0.00 Byte)\n",
            "__________________________________________________________________________________________________\n",
            "Epoch 1/2\n"
          ]
        },
        {
          "metadata": {
            "tags": null
          },
          "name": "stderr",
          "output_type": "stream",
          "text": [
            "WARNING:tensorflow:Gradients do not exist for variables ['tf_roberta_model/roberta/pooler/dense/kernel:0', 'tf_roberta_model/roberta/pooler/dense/bias:0'] when minimizing the loss. If you're using `model.compile()`, did you forget to provide a `loss` argument?\n",
            "WARNING:tensorflow:Gradients do not exist for variables ['tf_roberta_model/roberta/pooler/dense/kernel:0', 'tf_roberta_model/roberta/pooler/dense/bias:0'] when minimizing the loss. If you're using `model.compile()`, did you forget to provide a `loss` argument?\n",
            "WARNING:tensorflow:Gradients do not exist for variables ['tf_roberta_model/roberta/pooler/dense/kernel:0', 'tf_roberta_model/roberta/pooler/dense/bias:0'] when minimizing the loss. If you're using `model.compile()`, did you forget to provide a `loss` argument?\n",
            "WARNING:tensorflow:Gradients do not exist for variables ['tf_roberta_model/roberta/pooler/dense/kernel:0', 'tf_roberta_model/roberta/pooler/dense/bias:0'] when minimizing the loss. If you're using `model.compile()`, did you forget to provide a `loss` argument?\n"
          ]
        },
        {
          "output_type": "stream",
          "name": "stdout",
          "text": [
            "2746/2746 [==============================] - 688s 235ms/step - loss: 1.8173 - accuracy: 0.1771 - val_loss: 1.7912 - val_accuracy: 0.1715\n",
            "Epoch 2/2\n",
            "2746/2746 [==============================] - 593s 216ms/step - loss: 1.7965 - accuracy: 0.1771 - val_loss: 1.7903 - val_accuracy: 0.1788\n"
          ]
        }
      ],
      "source": [
        "model, model_history = roberta_main(train_examples, val_examples, train_labels, val_labels, fraction)"
      ]
    },
    {
      "cell_type": "code",
      "execution_count": 23,
      "metadata": {
        "id": "dtN6TLGIebHL",
        "colab": {
          "base_uri": "https://localhost:8080/"
        },
        "outputId": "b7905b8f-214c-4fea-8332-667ae4bd3a10"
      },
      "outputs": [
        {
          "output_type": "stream",
          "name": "stdout",
          "text": [
            "Saving model to drive/MyDrive/MIDS/w266/02_final_project/mids-w266-project/saved_models/roberta\n"
          ]
        }
      ],
      "source": [
        "# Save the model\n",
        "path = f'drive/MyDrive/MIDS/w266/02_final_project/mids-w266-project/saved_models/{input_model}'\n",
        "if not os.path.exists(path):\n",
        "  os.makedirs(path, exist_ok=True)\n",
        "print(f'Saving model to {path}')\n",
        "tf.keras.models.save_model(model, path)"
      ]
    },
    {
      "cell_type": "code",
      "execution_count": 24,
      "metadata": {
        "id": "vS11zlZsefGK",
        "colab": {
          "base_uri": "https://localhost:8080/"
        },
        "outputId": "baadebdc-9650-4746-d665-5baa2ddcf300"
      },
      "outputs": [
        {
          "output_type": "stream",
          "name": "stdout",
          "text": [
            "47/47 [==============================] - 24s 432ms/step\n"
          ]
        }
      ],
      "source": [
        "roberta_tokenizer = RobertaTokenizer.from_pretrained('roberta-base')\n",
        "test_examples_list = test_examples.tolist()\n",
        "test_tokens = tokenize_data(roberta_tokenizer, test_examples_list)\n",
        "y_prediction = model.predict((test_tokens['input_ids'], test_tokens['attention_mask']))"
      ]
    },
    {
      "cell_type": "code",
      "execution_count": 25,
      "metadata": {
        "id": "lFSvBIczelIw"
      },
      "outputs": [],
      "source": [
        "y_pred_label = np.argmax(y_prediction, axis=1) # Convert probabilities to discrete class labels"
      ]
    },
    {
      "cell_type": "code",
      "execution_count": 26,
      "metadata": {
        "id": "fJY2yk9bep-w",
        "colab": {
          "base_uri": "https://localhost:8080/",
          "height": 997
        },
        "outputId": "e008ef4c-5fa7-4209-fe16-67f8c00b9bb2"
      },
      "outputs": [
        {
          "output_type": "stream",
          "name": "stdout",
          "text": [
            "\t Printing confusion matrix\n"
          ]
        },
        {
          "output_type": "display_data",
          "data": {
            "text/plain": [
              "<Figure size 800x600 with 2 Axes>"
            ],
            "image/png": "[encoded data removed]"
          },
          "metadata": {}
        },
        {
          "output_type": "stream",
          "name": "stdout",
          "text": [
            "Accuracy: 0.16666666666666666\n",
            "              precision    recall  f1-score   support\n",
            "\n",
            "        adhd       0.00      0.00      0.00       248\n",
            "     anxiety       0.00      0.00      0.00       248\n",
            "     bipolar       0.00      0.00      0.00       248\n",
            "  depression       0.17      1.00      0.29       248\n",
            "        ptsd       0.00      0.00      0.00       248\n",
            "        none       0.00      0.00      0.00       248\n",
            "\n",
            "    accuracy                           0.17      1488\n",
            "   macro avg       0.03      0.17      0.05      1488\n",
            "weighted avg       0.03      0.17      0.05      1488\n",
            "\n"
          ]
        },
        {
          "output_type": "stream",
          "name": "stderr",
          "text": [
            "/usr/local/lib/python3.10/dist-packages/sklearn/metrics/_classification.py:1344: UndefinedMetricWarning: Precision and F-score are ill-defined and being set to 0.0 in labels with no predicted samples. Use `zero_division` parameter to control this behavior.\n",
            "  _warn_prf(average, modifier, msg_start, len(result))\n",
            "/usr/local/lib/python3.10/dist-packages/sklearn/metrics/_classification.py:1344: UndefinedMetricWarning: Precision and F-score are ill-defined and being set to 0.0 in labels with no predicted samples. Use `zero_division` parameter to control this behavior.\n",
            "  _warn_prf(average, modifier, msg_start, len(result))\n",
            "/usr/local/lib/python3.10/dist-packages/sklearn/metrics/_classification.py:1344: UndefinedMetricWarning: Precision and F-score are ill-defined and being set to 0.0 in labels with no predicted samples. Use `zero_division` parameter to control this behavior.\n",
            "  _warn_prf(average, modifier, msg_start, len(result))\n"
          ]
        }
      ],
      "source": [
        "from sklearn.metrics import confusion_matrix\n",
        "print('\\t Printing confusion matrix')\n",
        "#Create confusion matrix and normalizes it over predicted (columns)\n",
        "result = confusion_matrix(test_labels, y_pred_label)\n",
        "\n",
        "# Plot the confusion matrix\n",
        "actuals_names = [mh_dict_id_to_name[i] for i in range(len(mh_cls_names))]\n",
        "predictions_names = [mh_dict_id_to_name[i] for i in range(len(mh_cls_names))]\n",
        "\n",
        "# Plot the confusion matrix\n",
        "plt.figure(figsize=(8, 6))\n",
        "sns.heatmap(result, annot=True, fmt='d', cmap='Blues')\n",
        "\n",
        "# Add string labels to the axes\n",
        "plt.xticks(ticks=np.arange(len(actuals_names)) + 0.5, labels=actuals_names, rotation=45)\n",
        "plt.yticks(ticks=np.arange(len(predictions_names)) + 0.5, labels=predictions_names, rotation=0)\n",
        "\n",
        "# Add labels, title, and color bar\n",
        "plt.ylabel('Actual Class')\n",
        "plt.xlabel('Predicted Class')\n",
        "plt.title('Confusion Matrix')\n",
        "plt.show()\n",
        "\n",
        "print(f'Accuracy: {accuracy_score(test_labels, y_pred_label)}')\n",
        "\n",
        "print(classification_report(test_labels, y_pred_label, target_names=predictions_names))"
      ]
    },
    {
      "cell_type": "code",
      "execution_count": 27,
      "metadata": {
        "id": "NslS8eYKhDdv",
        "colab": {
          "base_uri": "https://localhost:8080/"
        },
        "outputId": "7a740f14-7d62-4bb6-9f80-f0e813006152"
      },
      "outputs": [
        {
          "output_type": "execute_result",
          "data": {
            "text/plain": [
              "1"
            ]
          },
          "metadata": {},
          "execution_count": 27
        }
      ],
      "source": [
        "fraction\n",
        "# 0.7856182795698925"
      ]
    },
    {
      "cell_type": "code",
      "execution_count": 28,
      "metadata": {
        "id": "7ZW3YciSqM2J",
        "colab": {
          "base_uri": "https://localhost:8080/"
        },
        "outputId": "ed833af6-37c4-4ce6-f467-f42cccaaaeb2"
      },
      "outputs": [
        {
          "output_type": "stream",
          "name": "stdout",
          "text": [
            "\t Saving all mismatches\n"
          ]
        }
      ],
      "source": [
        "print('\\t Saving all mismatches')\n",
        "# Plot the confusion matrix\n",
        "actuals_names = [mh_dict_id_to_name[i] for i in range(len(mh_cls_names))]\n",
        "predictions_names = [mh_dict_id_to_name[i] for i in range(len(mh_cls_names))]\n",
        "\n",
        "mismatches = []\n",
        "for i in range(len(test_labels)):\n",
        "    if test_labels[i] != y_pred_label[i]:\n",
        "        id1 = test_labels[i]\n",
        "        id2 = y_pred_label[i]\n",
        "        entry = {}\n",
        "        entry['actual'] = actuals_names[id1]\n",
        "        entry['predicted'] = predictions_names[id2]\n",
        "        entry['test_id'] = i\n",
        "        entry['text'] = test_examples[i]\n",
        "        mismatches.append(entry)\n",
        "df = pd.DataFrame(mismatches)\n",
        "df.to_csv('drive/MyDrive/MIDS/w266/02_final_project/mids-w266-project/mismatches_roberta.csv', index=False)\n"
      ]
    }
  ],
  "metadata": {
    "colab": {
      "provenance": [],
      "machine_shape": "hm",
      "gpuType": "A100"
    },
    "kernelspec": {
      "display_name": "Python 3",
      "name": "python3"
    },
    "language_info": {
      "name": "python"
    },
    "widgets": {
      "application/vnd.jupyter.widget-state+json": {
        "bbf9dbd617304e288c5026007f59f5da": {
          "model_module": "@jupyter-widgets/controls",
          "model_name": "HBoxModel",
          "model_module_version": "1.5.0",
          "state": {
            "_dom_classes": [],
            "_model_module": "@jupyter-widgets/controls",
            "_model_module_version": "1.5.0",
            "_model_name": "HBoxModel",
            "_view_count": null,
            "_view_module": "@jupyter-widgets/controls",
            "_view_module_version": "1.5.0",
            "_view_name": "HBoxView",
            "box_style": "",
            "children": [
              "IPY_MODEL_d5da1e1d59df47809cc91b008f26f88a",
              "IPY_MODEL_b7e3c731b06d413e94ef5d4557db7181",
              "IPY_MODEL_9e1dd9adbee348a4b6af66218ccf621e"
            ],
            "layout": "IPY_MODEL_ec61024a3b3e489c8d81b7a249b4fbb4"
          }
        },
        "d5da1e1d59df47809cc91b008f26f88a": {
          "model_module": "@jupyter-widgets/controls",
          "model_name": "HTMLModel",
          "model_module_version": "1.5.0",
          "state": {
            "_dom_classes": [],
            "_model_module": "@jupyter-widgets/controls",
            "_model_module_version": "1.5.0",
            "_model_name": "HTMLModel",
            "_view_count": null,
            "_view_module": "@jupyter-widgets/controls",
            "_view_module_version": "1.5.0",
            "_view_name": "HTMLView",
            "description": "",
            "description_tooltip": null,
            "layout": "IPY_MODEL_cc44801d7f4f41b58af5fc5c1247b141",
            "placeholder": "​",
            "style": "IPY_MODEL_adb4f7aa14ea483ea3264d9761f2aecf",
            "value": "Downloading: 100%"
          }
        },
        "b7e3c731b06d413e94ef5d4557db7181": {
          "model_module": "@jupyter-widgets/controls",
          "model_name": "FloatProgressModel",
          "model_module_version": "1.5.0",
          "state": {
            "_dom_classes": [],
            "_model_module": "@jupyter-widgets/controls",
            "_model_module_version": "1.5.0",
            "_model_name": "FloatProgressModel",
            "_view_count": null,
            "_view_module": "@jupyter-widgets/controls",
            "_view_module_version": "1.5.0",
            "_view_name": "ProgressView",
            "bar_style": "success",
            "description": "",
            "description_tooltip": null,
            "layout": "IPY_MODEL_6537dfae0e0949c99c20b95518dfe099",
            "max": 898823,
            "min": 0,
            "orientation": "horizontal",
            "style": "IPY_MODEL_b97a1f895a39431f872315b81f8c6d19",
            "value": 898823
          }
        },
        "9e1dd9adbee348a4b6af66218ccf621e": {
          "model_module": "@jupyter-widgets/controls",
          "model_name": "HTMLModel",
          "model_module_version": "1.5.0",
          "state": {
            "_dom_classes": [],
            "_model_module": "@jupyter-widgets/controls",
            "_model_module_version": "1.5.0",
            "_model_name": "HTMLModel",
            "_view_count": null,
            "_view_module": "@jupyter-widgets/controls",
            "_view_module_version": "1.5.0",
            "_view_name": "HTMLView",
            "description": "",
            "description_tooltip": null,
            "layout": "IPY_MODEL_f844b3b9f1c245a5a70f5932db8316b3",
            "placeholder": "​",
            "style": "IPY_MODEL_33310cca8f614e5f9e5b895ac6fbe502",
            "value": " 878k/878k [00:00&lt;00:00, 2.24MB/s]"
          }
        },
        "ec61024a3b3e489c8d81b7a249b4fbb4": {
          "model_module": "@jupyter-widgets/base",
          "model_name": "LayoutModel",
          "model_module_version": "1.2.0",
          "state": {
            "_model_module": "@jupyter-widgets/base",
            "_model_module_version": "1.2.0",
            "_model_name": "LayoutModel",
            "_view_count": null,
            "_view_module": "@jupyter-widgets/base",
            "_view_module_version": "1.2.0",
            "_view_name": "LayoutView",
            "align_content": null,
            "align_items": null,
            "align_self": null,
            "border": null,
            "bottom": null,
            "display": null,
            "flex": null,
            "flex_flow": null,
            "grid_area": null,
            "grid_auto_columns": null,
            "grid_auto_flow": null,
            "grid_auto_rows": null,
            "grid_column": null,
            "grid_gap": null,
            "grid_row": null,
            "grid_template_areas": null,
            "grid_template_columns": null,
            "grid_template_rows": null,
            "height": null,
            "justify_content": null,
            "justify_items": null,
            "left": null,
            "margin": null,
            "max_height": null,
            "max_width": null,
            "min_height": null,
            "min_width": null,
            "object_fit": null,
            "object_position": null,
            "order": null,
            "overflow": null,
            "overflow_x": null,
            "overflow_y": null,
            "padding": null,
            "right": null,
            "top": null,
            "visibility": null,
            "width": null
          }
        },
        "cc44801d7f4f41b58af5fc5c1247b141": {
          "model_module": "@jupyter-widgets/base",
          "model_name": "LayoutModel",
          "model_module_version": "1.2.0",
          "state": {
            "_model_module": "@jupyter-widgets/base",
            "_model_module_version": "1.2.0",
            "_model_name": "LayoutModel",
            "_view_count": null,
            "_view_module": "@jupyter-widgets/base",
            "_view_module_version": "1.2.0",
            "_view_name": "LayoutView",
            "align_content": null,
            "align_items": null,
            "align_self": null,
            "border": null,
            "bottom": null,
            "display": null,
            "flex": null,
            "flex_flow": null,
            "grid_area": null,
            "grid_auto_columns": null,
            "grid_auto_flow": null,
            "grid_auto_rows": null,
            "grid_column": null,
            "grid_gap": null,
            "grid_row": null,
            "grid_template_areas": null,
            "grid_template_columns": null,
            "grid_template_rows": null,
            "height": null,
            "justify_content": null,
            "justify_items": null,
            "left": null,
            "margin": null,
            "max_height": null,
            "max_width": null,
            "min_height": null,
            "min_width": null,
            "object_fit": null,
            "object_position": null,
            "order": null,
            "overflow": null,
            "overflow_x": null,
            "overflow_y": null,
            "padding": null,
            "right": null,
            "top": null,
            "visibility": null,
            "width": null
          }
        },
        "adb4f7aa14ea483ea3264d9761f2aecf": {
          "model_module": "@jupyter-widgets/controls",
          "model_name": "DescriptionStyleModel",
          "model_module_version": "1.5.0",
          "state": {
            "_model_module": "@jupyter-widgets/controls",
            "_model_module_version": "1.5.0",
            "_model_name": "DescriptionStyleModel",
            "_view_count": null,
            "_view_module": "@jupyter-widgets/base",
            "_view_module_version": "1.2.0",
            "_view_name": "StyleView",
            "description_width": ""
          }
        },
        "6537dfae0e0949c99c20b95518dfe099": {
          "model_module": "@jupyter-widgets/base",
          "model_name": "LayoutModel",
          "model_module_version": "1.2.0",
          "state": {
            "_model_module": "@jupyter-widgets/base",
            "_model_module_version": "1.2.0",
            "_model_name": "LayoutModel",
            "_view_count": null,
            "_view_module": "@jupyter-widgets/base",
            "_view_module_version": "1.2.0",
            "_view_name": "LayoutView",
            "align_content": null,
            "align_items": null,
            "align_self": null,
            "border": null,
            "bottom": null,
            "display": null,
            "flex": null,
            "flex_flow": null,
            "grid_area": null,
            "grid_auto_columns": null,
            "grid_auto_flow": null,
            "grid_auto_rows": null,
            "grid_column": null,
            "grid_gap": null,
            "grid_row": null,
            "grid_template_areas": null,
            "grid_template_columns": null,
            "grid_template_rows": null,
            "height": null,
            "justify_content": null,
            "justify_items": null,
            "left": null,
            "margin": null,
            "max_height": null,
            "max_width": null,
            "min_height": null,
            "min_width": null,
            "object_fit": null,
            "object_position": null,
            "order": null,
            "overflow": null,
            "overflow_x": null,
            "overflow_y": null,
            "padding": null,
            "right": null,
            "top": null,
            "visibility": null,
            "width": null
          }
        },
        "b97a1f895a39431f872315b81f8c6d19": {
          "model_module": "@jupyter-widgets/controls",
          "model_name": "ProgressStyleModel",
          "model_module_version": "1.5.0",
          "state": {
            "_model_module": "@jupyter-widgets/controls",
            "_model_module_version": "1.5.0",
            "_model_name": "ProgressStyleModel",
            "_view_count": null,
            "_view_module": "@jupyter-widgets/base",
            "_view_module_version": "1.2.0",
            "_view_name": "StyleView",
            "bar_color": null,
            "description_width": ""
          }
        },
        "f844b3b9f1c245a5a70f5932db8316b3": {
          "model_module": "@jupyter-widgets/base",
          "model_name": "LayoutModel",
          "model_module_version": "1.2.0",
          "state": {
            "_model_module": "@jupyter-widgets/base",
            "_model_module_version": "1.2.0",
            "_model_name": "LayoutModel",
            "_view_count": null,
            "_view_module": "@jupyter-widgets/base",
            "_view_module_version": "1.2.0",
            "_view_name": "LayoutView",
            "align_content": null,
            "align_items": null,
            "align_self": null,
            "border": null,
            "bottom": null,
            "display": null,
            "flex": null,
            "flex_flow": null,
            "grid_area": null,
            "grid_auto_columns": null,
            "grid_auto_flow": null,
            "grid_auto_rows": null,
            "grid_column": null,
            "grid_gap": null,
            "grid_row": null,
            "grid_template_areas": null,
            "grid_template_columns": null,
            "grid_template_rows": null,
            "height": null,
            "justify_content": null,
            "justify_items": null,
            "left": null,
            "margin": null,
            "max_height": null,
            "max_width": null,
            "min_height": null,
            "min_width": null,
            "object_fit": null,
            "object_position": null,
            "order": null,
            "overflow": null,
            "overflow_x": null,
            "overflow_y": null,
            "padding": null,
            "right": null,
            "top": null,
            "visibility": null,
            "width": null
          }
        },
        "33310cca8f614e5f9e5b895ac6fbe502": {
          "model_module": "@jupyter-widgets/controls",
          "model_name": "DescriptionStyleModel",
          "model_module_version": "1.5.0",
          "state": {
            "_model_module": "@jupyter-widgets/controls",
            "_model_module_version": "1.5.0",
            "_model_name": "DescriptionStyleModel",
            "_view_count": null,
            "_view_module": "@jupyter-widgets/base",
            "_view_module_version": "1.2.0",
            "_view_name": "StyleView",
            "description_width": ""
          }
        },
        "e8bcfab046bc459283acd054aa196d68": {
          "model_module": "@jupyter-widgets/controls",
          "model_name": "HBoxModel",
          "model_module_version": "1.5.0",
          "state": {
            "_dom_classes": [],
            "_model_module": "@jupyter-widgets/controls",
            "_model_module_version": "1.5.0",
            "_model_name": "HBoxModel",
            "_view_count": null,
            "_view_module": "@jupyter-widgets/controls",
            "_view_module_version": "1.5.0",
            "_view_name": "HBoxView",
            "box_style": "",
            "children": [
              "IPY_MODEL_8aea60c018aa40b88493f5449144429b",
              "IPY_MODEL_0aabfa4dd8544f1a8fe914e867208b87",
              "IPY_MODEL_9598a1df950d4dc083d8c5b621eabde9"
            ],
            "layout": "IPY_MODEL_319aa661fad94257bd982bd7af004059"
          }
        },
        "8aea60c018aa40b88493f5449144429b": {
          "model_module": "@jupyter-widgets/controls",
          "model_name": "HTMLModel",
          "model_module_version": "1.5.0",
          "state": {
            "_dom_classes": [],
            "_model_module": "@jupyter-widgets/controls",
            "_model_module_version": "1.5.0",
            "_model_name": "HTMLModel",
            "_view_count": null,
            "_view_module": "@jupyter-widgets/controls",
            "_view_module_version": "1.5.0",
            "_view_name": "HTMLView",
            "description": "",
            "description_tooltip": null,
            "layout": "IPY_MODEL_cb28a975c77d4ab2b1b2a342c29dc0e8",
            "placeholder": "​",
            "style": "IPY_MODEL_29ef2ef7c52240459205b00c30b83533",
            "value": "Downloading: 100%"
          }
        },
        "0aabfa4dd8544f1a8fe914e867208b87": {
          "model_module": "@jupyter-widgets/controls",
          "model_name": "FloatProgressModel",
          "model_module_version": "1.5.0",
          "state": {
            "_dom_classes": [],
            "_model_module": "@jupyter-widgets/controls",
            "_model_module_version": "1.5.0",
            "_model_name": "FloatProgressModel",
            "_view_count": null,
            "_view_module": "@jupyter-widgets/controls",
            "_view_module_version": "1.5.0",
            "_view_name": "ProgressView",
            "bar_style": "success",
            "description": "",
            "description_tooltip": null,
            "layout": "IPY_MODEL_12f5ee63a16541728efba931190740a0",
            "max": 456318,
            "min": 0,
            "orientation": "horizontal",
            "style": "IPY_MODEL_2c81370276e444f292874e21f8de9b3d",
            "value": 456318
          }
        },
        "9598a1df950d4dc083d8c5b621eabde9": {
          "model_module": "@jupyter-widgets/controls",
          "model_name": "HTMLModel",
          "model_module_version": "1.5.0",
          "state": {
            "_dom_classes": [],
            "_model_module": "@jupyter-widgets/controls",
            "_model_module_version": "1.5.0",
            "_model_name": "HTMLModel",
            "_view_count": null,
            "_view_module": "@jupyter-widgets/controls",
            "_view_module_version": "1.5.0",
            "_view_name": "HTMLView",
            "description": "",
            "description_tooltip": null,
            "layout": "IPY_MODEL_285f08df6bda424d9c3ddc2d4ce914ff",
            "placeholder": "​",
            "style": "IPY_MODEL_24c2cdbb3c4c40d2ba0600f401f21ba9",
            "value": " 446k/446k [00:00&lt;00:00, 2.40MB/s]"
          }
        },
        "319aa661fad94257bd982bd7af004059": {
          "model_module": "@jupyter-widgets/base",
          "model_name": "LayoutModel",
          "model_module_version": "1.2.0",
          "state": {
            "_model_module": "@jupyter-widgets/base",
            "_model_module_version": "1.2.0",
            "_model_name": "LayoutModel",
            "_view_count": null,
            "_view_module": "@jupyter-widgets/base",
            "_view_module_version": "1.2.0",
            "_view_name": "LayoutView",
            "align_content": null,
            "align_items": null,
            "align_self": null,
            "border": null,
            "bottom": null,
            "display": null,
            "flex": null,
            "flex_flow": null,
            "grid_area": null,
            "grid_auto_columns": null,
            "grid_auto_flow": null,
            "grid_auto_rows": null,
            "grid_column": null,
            "grid_gap": null,
            "grid_row": null,
            "grid_template_areas": null,
            "grid_template_columns": null,
            "grid_template_rows": null,
            "height": null,
            "justify_content": null,
            "justify_items": null,
            "left": null,
            "margin": null,
            "max_height": null,
            "max_width": null,
            "min_height": null,
            "min_width": null,
            "object_fit": null,
            "object_position": null,
            "order": null,
            "overflow": null,
            "overflow_x": null,
            "overflow_y": null,
            "padding": null,
            "right": null,
            "top": null,
            "visibility": null,
            "width": null
          }
        },
        "cb28a975c77d4ab2b1b2a342c29dc0e8": {
          "model_module": "@jupyter-widgets/base",
          "model_name": "LayoutModel",
          "model_module_version": "1.2.0",
          "state": {
            "_model_module": "@jupyter-widgets/base",
            "_model_module_version": "1.2.0",
            "_model_name": "LayoutModel",
            "_view_count": null,
            "_view_module": "@jupyter-widgets/base",
            "_view_module_version": "1.2.0",
            "_view_name": "LayoutView",
            "align_content": null,
            "align_items": null,
            "align_self": null,
            "border": null,
            "bottom": null,
            "display": null,
            "flex": null,
            "flex_flow": null,
            "grid_area": null,
            "grid_auto_columns": null,
            "grid_auto_flow": null,
            "grid_auto_rows": null,
            "grid_column": null,
            "grid_gap": null,
            "grid_row": null,
            "grid_template_areas": null,
            "grid_template_columns": null,
            "grid_template_rows": null,
            "height": null,
            "justify_content": null,
            "justify_items": null,
            "left": null,
            "margin": null,
            "max_height": null,
            "max_width": null,
            "min_height": null,
            "min_width": null,
            "object_fit": null,
            "object_position": null,
            "order": null,
            "overflow": null,
            "overflow_x": null,
            "overflow_y": null,
            "padding": null,
            "right": null,
            "top": null,
            "visibility": null,
            "width": null
          }
        },
        "29ef2ef7c52240459205b00c30b83533": {
          "model_module": "@jupyter-widgets/controls",
          "model_name": "DescriptionStyleModel",
          "model_module_version": "1.5.0",
          "state": {
            "_model_module": "@jupyter-widgets/controls",
            "_model_module_version": "1.5.0",
            "_model_name": "DescriptionStyleModel",
            "_view_count": null,
            "_view_module": "@jupyter-widgets/base",
            "_view_module_version": "1.2.0",
            "_view_name": "StyleView",
            "description_width": ""
          }
        },
        "12f5ee63a16541728efba931190740a0": {
          "model_module": "@jupyter-widgets/base",
          "model_name": "LayoutModel",
          "model_module_version": "1.2.0",
          "state": {
            "_model_module": "@jupyter-widgets/base",
            "_model_module_version": "1.2.0",
            "_model_name": "LayoutModel",
            "_view_count": null,
            "_view_module": "@jupyter-widgets/base",
            "_view_module_version": "1.2.0",
            "_view_name": "LayoutView",
            "align_content": null,
            "align_items": null,
            "align_self": null,
            "border": null,
            "bottom": null,
            "display": null,
            "flex": null,
            "flex_flow": null,
            "grid_area": null,
            "grid_auto_columns": null,
            "grid_auto_flow": null,
            "grid_auto_rows": null,
            "grid_column": null,
            "grid_gap": null,
            "grid_row": null,
            "grid_template_areas": null,
            "grid_template_columns": null,
            "grid_template_rows": null,
            "height": null,
            "justify_content": null,
            "justify_items": null,
            "left": null,
            "margin": null,
            "max_height": null,
            "max_width": null,
            "min_height": null,
            "min_width": null,
            "object_fit": null,
            "object_position": null,
            "order": null,
            "overflow": null,
            "overflow_x": null,
            "overflow_y": null,
            "padding": null,
            "right": null,
            "top": null,
            "visibility": null,
            "width": null
          }
        },
        "2c81370276e444f292874e21f8de9b3d": {
          "model_module": "@jupyter-widgets/controls",
          "model_name": "ProgressStyleModel",
          "model_module_version": "1.5.0",
          "state": {
            "_model_module": "@jupyter-widgets/controls",
            "_model_module_version": "1.5.0",
            "_model_name": "ProgressStyleModel",
            "_view_count": null,
            "_view_module": "@jupyter-widgets/base",
            "_view_module_version": "1.2.0",
            "_view_name": "StyleView",
            "bar_color": null,
            "description_width": ""
          }
        },
        "285f08df6bda424d9c3ddc2d4ce914ff": {
          "model_module": "@jupyter-widgets/base",
          "model_name": "LayoutModel",
          "model_module_version": "1.2.0",
          "state": {
            "_model_module": "@jupyter-widgets/base",
            "_model_module_version": "1.2.0",
            "_model_name": "LayoutModel",
            "_view_count": null,
            "_view_module": "@jupyter-widgets/base",
            "_view_module_version": "1.2.0",
            "_view_name": "LayoutView",
            "align_content": null,
            "align_items": null,
            "align_self": null,
            "border": null,
            "bottom": null,
            "display": null,
            "flex": null,
            "flex_flow": null,
            "grid_area": null,
            "grid_auto_columns": null,
            "grid_auto_flow": null,
            "grid_auto_rows": null,
            "grid_column": null,
            "grid_gap": null,
            "grid_row": null,
            "grid_template_areas": null,
            "grid_template_columns": null,
            "grid_template_rows": null,
            "height": null,
            "justify_content": null,
            "justify_items": null,
            "left": null,
            "margin": null,
            "max_height": null,
            "max_width": null,
            "min_height": null,
            "min_width": null,
            "object_fit": null,
            "object_position": null,
            "order": null,
            "overflow": null,
            "overflow_x": null,
            "overflow_y": null,
            "padding": null,
            "right": null,
            "top": null,
            "visibility": null,
            "width": null
          }
        },
        "24c2cdbb3c4c40d2ba0600f401f21ba9": {
          "model_module": "@jupyter-widgets/controls",
          "model_name": "DescriptionStyleModel",
          "model_module_version": "1.5.0",
          "state": {
            "_model_module": "@jupyter-widgets/controls",
            "_model_module_version": "1.5.0",
            "_model_name": "DescriptionStyleModel",
            "_view_count": null,
            "_view_module": "@jupyter-widgets/base",
            "_view_module_version": "1.2.0",
            "_view_name": "StyleView",
            "description_width": ""
          }
        },
        "dfff41dff52042988dd7db0b3c56f954": {
          "model_module": "@jupyter-widgets/controls",
          "model_name": "HBoxModel",
          "model_module_version": "1.5.0",
          "state": {
            "_dom_classes": [],
            "_model_module": "@jupyter-widgets/controls",
            "_model_module_version": "1.5.0",
            "_model_name": "HBoxModel",
            "_view_count": null,
            "_view_module": "@jupyter-widgets/controls",
            "_view_module_version": "1.5.0",
            "_view_name": "HBoxView",
            "box_style": "",
            "children": [
              "IPY_MODEL_7c16e126fbbd4af6b00d5e3897cb5272",
              "IPY_MODEL_93a597c8f9aa46d684ed004f635b36da",
              "IPY_MODEL_71450c6c2b0646aca75d046bde3e1dc3"
            ],
            "layout": "IPY_MODEL_b7a42ea8211c4df4a6699dedb6092bff"
          }
        },
        "7c16e126fbbd4af6b00d5e3897cb5272": {
          "model_module": "@jupyter-widgets/controls",
          "model_name": "HTMLModel",
          "model_module_version": "1.5.0",
          "state": {
            "_dom_classes": [],
            "_model_module": "@jupyter-widgets/controls",
            "_model_module_version": "1.5.0",
            "_model_name": "HTMLModel",
            "_view_count": null,
            "_view_module": "@jupyter-widgets/controls",
            "_view_module_version": "1.5.0",
            "_view_name": "HTMLView",
            "description": "",
            "description_tooltip": null,
            "layout": "IPY_MODEL_85688bd20f3c409baef0640402d98e6b",
            "placeholder": "​",
            "style": "IPY_MODEL_9ffc776c0db14c928d83bf79a4a7f36d",
            "value": "Downloading: 100%"
          }
        },
        "93a597c8f9aa46d684ed004f635b36da": {
          "model_module": "@jupyter-widgets/controls",
          "model_name": "FloatProgressModel",
          "model_module_version": "1.5.0",
          "state": {
            "_dom_classes": [],
            "_model_module": "@jupyter-widgets/controls",
            "_model_module_version": "1.5.0",
            "_model_name": "FloatProgressModel",
            "_view_count": null,
            "_view_module": "@jupyter-widgets/controls",
            "_view_module_version": "1.5.0",
            "_view_name": "ProgressView",
            "bar_style": "success",
            "description": "",
            "description_tooltip": null,
            "layout": "IPY_MODEL_76a5d9f832044ebd801c2f80f9b43e34",
            "max": 25,
            "min": 0,
            "orientation": "horizontal",
            "style": "IPY_MODEL_d0554edb4092491388a21f6f36dbb4e7",
            "value": 25
          }
        },
        "71450c6c2b0646aca75d046bde3e1dc3": {
          "model_module": "@jupyter-widgets/controls",
          "model_name": "HTMLModel",
          "model_module_version": "1.5.0",
          "state": {
            "_dom_classes": [],
            "_model_module": "@jupyter-widgets/controls",
            "_model_module_version": "1.5.0",
            "_model_name": "HTMLModel",
            "_view_count": null,
            "_view_module": "@jupyter-widgets/controls",
            "_view_module_version": "1.5.0",
            "_view_name": "HTMLView",
            "description": "",
            "description_tooltip": null,
            "layout": "IPY_MODEL_0cdd70fc89a34f5a8c8e84571ff51d91",
            "placeholder": "​",
            "style": "IPY_MODEL_0e7541ed9bb24ebf815f638d72fd6e70",
            "value": " 25.0/25.0 [00:00&lt;00:00, 2.20kB/s]"
          }
        },
        "b7a42ea8211c4df4a6699dedb6092bff": {
          "model_module": "@jupyter-widgets/base",
          "model_name": "LayoutModel",
          "model_module_version": "1.2.0",
          "state": {
            "_model_module": "@jupyter-widgets/base",
            "_model_module_version": "1.2.0",
            "_model_name": "LayoutModel",
            "_view_count": null,
            "_view_module": "@jupyter-widgets/base",
            "_view_module_version": "1.2.0",
            "_view_name": "LayoutView",
            "align_content": null,
            "align_items": null,
            "align_self": null,
            "border": null,
            "bottom": null,
            "display": null,
            "flex": null,
            "flex_flow": null,
            "grid_area": null,
            "grid_auto_columns": null,
            "grid_auto_flow": null,
            "grid_auto_rows": null,
            "grid_column": null,
            "grid_gap": null,
            "grid_row": null,
            "grid_template_areas": null,
            "grid_template_columns": null,
            "grid_template_rows": null,
            "height": null,
            "justify_content": null,
            "justify_items": null,
            "left": null,
            "margin": null,
            "max_height": null,
            "max_width": null,
            "min_height": null,
            "min_width": null,
            "object_fit": null,
            "object_position": null,
            "order": null,
            "overflow": null,
            "overflow_x": null,
            "overflow_y": null,
            "padding": null,
            "right": null,
            "top": null,
            "visibility": null,
            "width": null
          }
        },
        "85688bd20f3c409baef0640402d98e6b": {
          "model_module": "@jupyter-widgets/base",
          "model_name": "LayoutModel",
          "model_module_version": "1.2.0",
          "state": {
            "_model_module": "@jupyter-widgets/base",
            "_model_module_version": "1.2.0",
            "_model_name": "LayoutModel",
            "_view_count": null,
            "_view_module": "@jupyter-widgets/base",
            "_view_module_version": "1.2.0",
            "_view_name": "LayoutView",
            "align_content": null,
            "align_items": null,
            "align_self": null,
            "border": null,
            "bottom": null,
            "display": null,
            "flex": null,
            "flex_flow": null,
            "grid_area": null,
            "grid_auto_columns": null,
            "grid_auto_flow": null,
            "grid_auto_rows": null,
            "grid_column": null,
            "grid_gap": null,
            "grid_row": null,
            "grid_template_areas": null,
            "grid_template_columns": null,
            "grid_template_rows": null,
            "height": null,
            "justify_content": null,
            "justify_items": null,
            "left": null,
            "margin": null,
            "max_height": null,
            "max_width": null,
            "min_height": null,
            "min_width": null,
            "object_fit": null,
            "object_position": null,
            "order": null,
            "overflow": null,
            "overflow_x": null,
            "overflow_y": null,
            "padding": null,
            "right": null,
            "top": null,
            "visibility": null,
            "width": null
          }
        },
        "9ffc776c0db14c928d83bf79a4a7f36d": {
          "model_module": "@jupyter-widgets/controls",
          "model_name": "DescriptionStyleModel",
          "model_module_version": "1.5.0",
          "state": {
            "_model_module": "@jupyter-widgets/controls",
            "_model_module_version": "1.5.0",
            "_model_name": "DescriptionStyleModel",
            "_view_count": null,
            "_view_module": "@jupyter-widgets/base",
            "_view_module_version": "1.2.0",
            "_view_name": "StyleView",
            "description_width": ""
          }
        },
        "76a5d9f832044ebd801c2f80f9b43e34": {
          "model_module": "@jupyter-widgets/base",
          "model_name": "LayoutModel",
          "model_module_version": "1.2.0",
          "state": {
            "_model_module": "@jupyter-widgets/base",
            "_model_module_version": "1.2.0",
            "_model_name": "LayoutModel",
            "_view_count": null,
            "_view_module": "@jupyter-widgets/base",
            "_view_module_version": "1.2.0",
            "_view_name": "LayoutView",
            "align_content": null,
            "align_items": null,
            "align_self": null,
            "border": null,
            "bottom": null,
            "display": null,
            "flex": null,
            "flex_flow": null,
            "grid_area": null,
            "grid_auto_columns": null,
            "grid_auto_flow": null,
            "grid_auto_rows": null,
            "grid_column": null,
            "grid_gap": null,
            "grid_row": null,
            "grid_template_areas": null,
            "grid_template_columns": null,
            "grid_template_rows": null,
            "height": null,
            "justify_content": null,
            "justify_items": null,
            "left": null,
            "margin": null,
            "max_height": null,
            "max_width": null,
            "min_height": null,
            "min_width": null,
            "object_fit": null,
            "object_position": null,
            "order": null,
            "overflow": null,
            "overflow_x": null,
            "overflow_y": null,
            "padding": null,
            "right": null,
            "top": null,
            "visibility": null,
            "width": null
          }
        },
        "d0554edb4092491388a21f6f36dbb4e7": {
          "model_module": "@jupyter-widgets/controls",
          "model_name": "ProgressStyleModel",
          "model_module_version": "1.5.0",
          "state": {
            "_model_module": "@jupyter-widgets/controls",
            "_model_module_version": "1.5.0",
            "_model_name": "ProgressStyleModel",
            "_view_count": null,
            "_view_module": "@jupyter-widgets/base",
            "_view_module_version": "1.2.0",
            "_view_name": "StyleView",
            "bar_color": null,
            "description_width": ""
          }
        },
        "0cdd70fc89a34f5a8c8e84571ff51d91": {
          "model_module": "@jupyter-widgets/base",
          "model_name": "LayoutModel",
          "model_module_version": "1.2.0",
          "state": {
            "_model_module": "@jupyter-widgets/base",
            "_model_module_version": "1.2.0",
            "_model_name": "LayoutModel",
            "_view_count": null,
            "_view_module": "@jupyter-widgets/base",
            "_view_module_version": "1.2.0",
            "_view_name": "LayoutView",
            "align_content": null,
            "align_items": null,
            "align_self": null,
            "border": null,
            "bottom": null,
            "display": null,
            "flex": null,
            "flex_flow": null,
            "grid_area": null,
            "grid_auto_columns": null,
            "grid_auto_flow": null,
            "grid_auto_rows": null,
            "grid_column": null,
            "grid_gap": null,
            "grid_row": null,
            "grid_template_areas": null,
            "grid_template_columns": null,
            "grid_template_rows": null,
            "height": null,
            "justify_content": null,
            "justify_items": null,
            "left": null,
            "margin": null,
            "max_height": null,
            "max_width": null,
            "min_height": null,
            "min_width": null,
            "object_fit": null,
            "object_position": null,
            "order": null,
            "overflow": null,
            "overflow_x": null,
            "overflow_y": null,
            "padding": null,
            "right": null,
            "top": null,
            "visibility": null,
            "width": null
          }
        },
        "0e7541ed9bb24ebf815f638d72fd6e70": {
          "model_module": "@jupyter-widgets/controls",
          "model_name": "DescriptionStyleModel",
          "model_module_version": "1.5.0",
          "state": {
            "_model_module": "@jupyter-widgets/controls",
            "_model_module_version": "1.5.0",
            "_model_name": "DescriptionStyleModel",
            "_view_count": null,
            "_view_module": "@jupyter-widgets/base",
            "_view_module_version": "1.2.0",
            "_view_name": "StyleView",
            "description_width": ""
          }
        },
        "94d4afbb1c9245a29bb3bb99d54c8bb3": {
          "model_module": "@jupyter-widgets/controls",
          "model_name": "HBoxModel",
          "model_module_version": "1.5.0",
          "state": {
            "_dom_classes": [],
            "_model_module": "@jupyter-widgets/controls",
            "_model_module_version": "1.5.0",
            "_model_name": "HBoxModel",
            "_view_count": null,
            "_view_module": "@jupyter-widgets/controls",
            "_view_module_version": "1.5.0",
            "_view_name": "HBoxView",
            "box_style": "",
            "children": [
              "IPY_MODEL_991518db8e8e4697b6a687aedb0185ac",
              "IPY_MODEL_de2593e6cae84848bebc9993a708e969",
              "IPY_MODEL_e194896560db4c92a8d62e496aea3567"
            ],
            "layout": "IPY_MODEL_a8a553e0e3dc41f4bd548b367a94953d"
          }
        },
        "991518db8e8e4697b6a687aedb0185ac": {
          "model_module": "@jupyter-widgets/controls",
          "model_name": "HTMLModel",
          "model_module_version": "1.5.0",
          "state": {
            "_dom_classes": [],
            "_model_module": "@jupyter-widgets/controls",
            "_model_module_version": "1.5.0",
            "_model_name": "HTMLModel",
            "_view_count": null,
            "_view_module": "@jupyter-widgets/controls",
            "_view_module_version": "1.5.0",
            "_view_name": "HTMLView",
            "description": "",
            "description_tooltip": null,
            "layout": "IPY_MODEL_1a24de78aa4e4ec2b86fda3d3680ea3c",
            "placeholder": "​",
            "style": "IPY_MODEL_0502b36de40d437683ff4becc3078fa8",
            "value": "Downloading: 100%"
          }
        },
        "de2593e6cae84848bebc9993a708e969": {
          "model_module": "@jupyter-widgets/controls",
          "model_name": "FloatProgressModel",
          "model_module_version": "1.5.0",
          "state": {
            "_dom_classes": [],
            "_model_module": "@jupyter-widgets/controls",
            "_model_module_version": "1.5.0",
            "_model_name": "FloatProgressModel",
            "_view_count": null,
            "_view_module": "@jupyter-widgets/controls",
            "_view_module_version": "1.5.0",
            "_view_name": "ProgressView",
            "bar_style": "success",
            "description": "",
            "description_tooltip": null,
            "layout": "IPY_MODEL_a8f98528abcc44edaec137152c6eab3c",
            "max": 481,
            "min": 0,
            "orientation": "horizontal",
            "style": "IPY_MODEL_b3372d06525542f4b4aa5a84af1a52cb",
            "value": 481
          }
        },
        "e194896560db4c92a8d62e496aea3567": {
          "model_module": "@jupyter-widgets/controls",
          "model_name": "HTMLModel",
          "model_module_version": "1.5.0",
          "state": {
            "_dom_classes": [],
            "_model_module": "@jupyter-widgets/controls",
            "_model_module_version": "1.5.0",
            "_model_name": "HTMLModel",
            "_view_count": null,
            "_view_module": "@jupyter-widgets/controls",
            "_view_module_version": "1.5.0",
            "_view_name": "HTMLView",
            "description": "",
            "description_tooltip": null,
            "layout": "IPY_MODEL_6e64b0a499df48958df9a9ec4941e08f",
            "placeholder": "​",
            "style": "IPY_MODEL_2426cb72e3734ef29f6b45b431f0af7f",
            "value": " 481/481 [00:00&lt;00:00, 40.8kB/s]"
          }
        },
        "a8a553e0e3dc41f4bd548b367a94953d": {
          "model_module": "@jupyter-widgets/base",
          "model_name": "LayoutModel",
          "model_module_version": "1.2.0",
          "state": {
            "_model_module": "@jupyter-widgets/base",
            "_model_module_version": "1.2.0",
            "_model_name": "LayoutModel",
            "_view_count": null,
            "_view_module": "@jupyter-widgets/base",
            "_view_module_version": "1.2.0",
            "_view_name": "LayoutView",
            "align_content": null,
            "align_items": null,
            "align_self": null,
            "border": null,
            "bottom": null,
            "display": null,
            "flex": null,
            "flex_flow": null,
            "grid_area": null,
            "grid_auto_columns": null,
            "grid_auto_flow": null,
            "grid_auto_rows": null,
            "grid_column": null,
            "grid_gap": null,
            "grid_row": null,
            "grid_template_areas": null,
            "grid_template_columns": null,
            "grid_template_rows": null,
            "height": null,
            "justify_content": null,
            "justify_items": null,
            "left": null,
            "margin": null,
            "max_height": null,
            "max_width": null,
            "min_height": null,
            "min_width": null,
            "object_fit": null,
            "object_position": null,
            "order": null,
            "overflow": null,
            "overflow_x": null,
            "overflow_y": null,
            "padding": null,
            "right": null,
            "top": null,
            "visibility": null,
            "width": null
          }
        },
        "1a24de78aa4e4ec2b86fda3d3680ea3c": {
          "model_module": "@jupyter-widgets/base",
          "model_name": "LayoutModel",
          "model_module_version": "1.2.0",
          "state": {
            "_model_module": "@jupyter-widgets/base",
            "_model_module_version": "1.2.0",
            "_model_name": "LayoutModel",
            "_view_count": null,
            "_view_module": "@jupyter-widgets/base",
            "_view_module_version": "1.2.0",
            "_view_name": "LayoutView",
            "align_content": null,
            "align_items": null,
            "align_self": null,
            "border": null,
            "bottom": null,
            "display": null,
            "flex": null,
            "flex_flow": null,
            "grid_area": null,
            "grid_auto_columns": null,
            "grid_auto_flow": null,
            "grid_auto_rows": null,
            "grid_column": null,
            "grid_gap": null,
            "grid_row": null,
            "grid_template_areas": null,
            "grid_template_columns": null,
            "grid_template_rows": null,
            "height": null,
            "justify_content": null,
            "justify_items": null,
            "left": null,
            "margin": null,
            "max_height": null,
            "max_width": null,
            "min_height": null,
            "min_width": null,
            "object_fit": null,
            "object_position": null,
            "order": null,
            "overflow": null,
            "overflow_x": null,
            "overflow_y": null,
            "padding": null,
            "right": null,
            "top": null,
            "visibility": null,
            "width": null
          }
        },
        "0502b36de40d437683ff4becc3078fa8": {
          "model_module": "@jupyter-widgets/controls",
          "model_name": "DescriptionStyleModel",
          "model_module_version": "1.5.0",
          "state": {
            "_model_module": "@jupyter-widgets/controls",
            "_model_module_version": "1.5.0",
            "_model_name": "DescriptionStyleModel",
            "_view_count": null,
            "_view_module": "@jupyter-widgets/base",
            "_view_module_version": "1.2.0",
            "_view_name": "StyleView",
            "description_width": ""
          }
        },
        "a8f98528abcc44edaec137152c6eab3c": {
          "model_module": "@jupyter-widgets/base",
          "model_name": "LayoutModel",
          "model_module_version": "1.2.0",
          "state": {
            "_model_module": "@jupyter-widgets/base",
            "_model_module_version": "1.2.0",
            "_model_name": "LayoutModel",
            "_view_count": null,
            "_view_module": "@jupyter-widgets/base",
            "_view_module_version": "1.2.0",
            "_view_name": "LayoutView",
            "align_content": null,
            "align_items": null,
            "align_self": null,
            "border": null,
            "bottom": null,
            "display": null,
            "flex": null,
            "flex_flow": null,
            "grid_area": null,
            "grid_auto_columns": null,
            "grid_auto_flow": null,
            "grid_auto_rows": null,
            "grid_column": null,
            "grid_gap": null,
            "grid_row": null,
            "grid_template_areas": null,
            "grid_template_columns": null,
            "grid_template_rows": null,
            "height": null,
            "justify_content": null,
            "justify_items": null,
            "left": null,
            "margin": null,
            "max_height": null,
            "max_width": null,
            "min_height": null,
            "min_width": null,
            "object_fit": null,
            "object_position": null,
            "order": null,
            "overflow": null,
            "overflow_x": null,
            "overflow_y": null,
            "padding": null,
            "right": null,
            "top": null,
            "visibility": null,
            "width": null
          }
        },
        "b3372d06525542f4b4aa5a84af1a52cb": {
          "model_module": "@jupyter-widgets/controls",
          "model_name": "ProgressStyleModel",
          "model_module_version": "1.5.0",
          "state": {
            "_model_module": "@jupyter-widgets/controls",
            "_model_module_version": "1.5.0",
            "_model_name": "ProgressStyleModel",
            "_view_count": null,
            "_view_module": "@jupyter-widgets/base",
            "_view_module_version": "1.2.0",
            "_view_name": "StyleView",
            "bar_color": null,
            "description_width": ""
          }
        },
        "6e64b0a499df48958df9a9ec4941e08f": {
          "model_module": "@jupyter-widgets/base",
          "model_name": "LayoutModel",
          "model_module_version": "1.2.0",
          "state": {
            "_model_module": "@jupyter-widgets/base",
            "_model_module_version": "1.2.0",
            "_model_name": "LayoutModel",
            "_view_count": null,
            "_view_module": "@jupyter-widgets/base",
            "_view_module_version": "1.2.0",
            "_view_name": "LayoutView",
            "align_content": null,
            "align_items": null,
            "align_self": null,
            "border": null,
            "bottom": null,
            "display": null,
            "flex": null,
            "flex_flow": null,
            "grid_area": null,
            "grid_auto_columns": null,
            "grid_auto_flow": null,
            "grid_auto_rows": null,
            "grid_column": null,
            "grid_gap": null,
            "grid_row": null,
            "grid_template_areas": null,
            "grid_template_columns": null,
            "grid_template_rows": null,
            "height": null,
            "justify_content": null,
            "justify_items": null,
            "left": null,
            "margin": null,
            "max_height": null,
            "max_width": null,
            "min_height": null,
            "min_width": null,
            "object_fit": null,
            "object_position": null,
            "order": null,
            "overflow": null,
            "overflow_x": null,
            "overflow_y": null,
            "padding": null,
            "right": null,
            "top": null,
            "visibility": null,
            "width": null
          }
        },
        "2426cb72e3734ef29f6b45b431f0af7f": {
          "model_module": "@jupyter-widgets/controls",
          "model_name": "DescriptionStyleModel",
          "model_module_version": "1.5.0",
          "state": {
            "_model_module": "@jupyter-widgets/controls",
            "_model_module_version": "1.5.0",
            "_model_name": "DescriptionStyleModel",
            "_view_count": null,
            "_view_module": "@jupyter-widgets/base",
            "_view_module_version": "1.2.0",
            "_view_name": "StyleView",
            "description_width": ""
          }
        },
        "8e50a704a8d645ad95eedc3e85a9acd0": {
          "model_module": "@jupyter-widgets/controls",
          "model_name": "HBoxModel",
          "model_module_version": "1.5.0",
          "state": {
            "_dom_classes": [],
            "_model_module": "@jupyter-widgets/controls",
            "_model_module_version": "1.5.0",
            "_model_name": "HBoxModel",
            "_view_count": null,
            "_view_module": "@jupyter-widgets/controls",
            "_view_module_version": "1.5.0",
            "_view_name": "HBoxView",
            "box_style": "",
            "children": [
              "IPY_MODEL_926f2244160a467ebe609f949e005cac",
              "IPY_MODEL_ef07a7fe05e346548fc07a7001c4c840",
              "IPY_MODEL_b9cfcadbdc284feab2c9425b01567ec9"
            ],
            "layout": "IPY_MODEL_259a42af6cee4e6ba47416ad681d6c26"
          }
        },
        "926f2244160a467ebe609f949e005cac": {
          "model_module": "@jupyter-widgets/controls",
          "model_name": "HTMLModel",
          "model_module_version": "1.5.0",
          "state": {
            "_dom_classes": [],
            "_model_module": "@jupyter-widgets/controls",
            "_model_module_version": "1.5.0",
            "_model_name": "HTMLModel",
            "_view_count": null,
            "_view_module": "@jupyter-widgets/controls",
            "_view_module_version": "1.5.0",
            "_view_name": "HTMLView",
            "description": "",
            "description_tooltip": null,
            "layout": "IPY_MODEL_cdb315332dae4e5d8b945a9762ae3aa3",
            "placeholder": "​",
            "style": "IPY_MODEL_3a4a8270182d477fa20d6b31367303a5",
            "value": "Downloading: 100%"
          }
        },
        "ef07a7fe05e346548fc07a7001c4c840": {
          "model_module": "@jupyter-widgets/controls",
          "model_name": "FloatProgressModel",
          "model_module_version": "1.5.0",
          "state": {
            "_dom_classes": [],
            "_model_module": "@jupyter-widgets/controls",
            "_model_module_version": "1.5.0",
            "_model_name": "FloatProgressModel",
            "_view_count": null,
            "_view_module": "@jupyter-widgets/controls",
            "_view_module_version": "1.5.0",
            "_view_name": "ProgressView",
            "bar_style": "success",
            "description": "",
            "description_tooltip": null,
            "layout": "IPY_MODEL_cb1ce40c25c548f78462779d3901e5a5",
            "max": 657434796,
            "min": 0,
            "orientation": "horizontal",
            "style": "IPY_MODEL_53ffc007a5dd4bafb47b6e3bf0a667e1",
            "value": 657434796
          }
        },
        "b9cfcadbdc284feab2c9425b01567ec9": {
          "model_module": "@jupyter-widgets/controls",
          "model_name": "HTMLModel",
          "model_module_version": "1.5.0",
          "state": {
            "_dom_classes": [],
            "_model_module": "@jupyter-widgets/controls",
            "_model_module_version": "1.5.0",
            "_model_name": "HTMLModel",
            "_view_count": null,
            "_view_module": "@jupyter-widgets/controls",
            "_view_module_version": "1.5.0",
            "_view_name": "HTMLView",
            "description": "",
            "description_tooltip": null,
            "layout": "IPY_MODEL_3b772abd48e64fa1b840f1e743704a0d",
            "placeholder": "​",
            "style": "IPY_MODEL_afb5f0457b3a4cd196c408da8dde8a03",
            "value": " 627M/627M [00:09&lt;00:00, 84.6MB/s]"
          }
        },
        "259a42af6cee4e6ba47416ad681d6c26": {
          "model_module": "@jupyter-widgets/base",
          "model_name": "LayoutModel",
          "model_module_version": "1.2.0",
          "state": {
            "_model_module": "@jupyter-widgets/base",
            "_model_module_version": "1.2.0",
            "_model_name": "LayoutModel",
            "_view_count": null,
            "_view_module": "@jupyter-widgets/base",
            "_view_module_version": "1.2.0",
            "_view_name": "LayoutView",
            "align_content": null,
            "align_items": null,
            "align_self": null,
            "border": null,
            "bottom": null,
            "display": null,
            "flex": null,
            "flex_flow": null,
            "grid_area": null,
            "grid_auto_columns": null,
            "grid_auto_flow": null,
            "grid_auto_rows": null,
            "grid_column": null,
            "grid_gap": null,
            "grid_row": null,
            "grid_template_areas": null,
            "grid_template_columns": null,
            "grid_template_rows": null,
            "height": null,
            "justify_content": null,
            "justify_items": null,
            "left": null,
            "margin": null,
            "max_height": null,
            "max_width": null,
            "min_height": null,
            "min_width": null,
            "object_fit": null,
            "object_position": null,
            "order": null,
            "overflow": null,
            "overflow_x": null,
            "overflow_y": null,
            "padding": null,
            "right": null,
            "top": null,
            "visibility": null,
            "width": null
          }
        },
        "cdb315332dae4e5d8b945a9762ae3aa3": {
          "model_module": "@jupyter-widgets/base",
          "model_name": "LayoutModel",
          "model_module_version": "1.2.0",
          "state": {
            "_model_module": "@jupyter-widgets/base",
            "_model_module_version": "1.2.0",
            "_model_name": "LayoutModel",
            "_view_count": null,
            "_view_module": "@jupyter-widgets/base",
            "_view_module_version": "1.2.0",
            "_view_name": "LayoutView",
            "align_content": null,
            "align_items": null,
            "align_self": null,
            "border": null,
            "bottom": null,
            "display": null,
            "flex": null,
            "flex_flow": null,
            "grid_area": null,
            "grid_auto_columns": null,
            "grid_auto_flow": null,
            "grid_auto_rows": null,
            "grid_column": null,
            "grid_gap": null,
            "grid_row": null,
            "grid_template_areas": null,
            "grid_template_columns": null,
            "grid_template_rows": null,
            "height": null,
            "justify_content": null,
            "justify_items": null,
            "left": null,
            "margin": null,
            "max_height": null,
            "max_width": null,
            "min_height": null,
            "min_width": null,
            "object_fit": null,
            "object_position": null,
            "order": null,
            "overflow": null,
            "overflow_x": null,
            "overflow_y": null,
            "padding": null,
            "right": null,
            "top": null,
            "visibility": null,
            "width": null
          }
        },
        "3a4a8270182d477fa20d6b31367303a5": {
          "model_module": "@jupyter-widgets/controls",
          "model_name": "DescriptionStyleModel",
          "model_module_version": "1.5.0",
          "state": {
            "_model_module": "@jupyter-widgets/controls",
            "_model_module_version": "1.5.0",
            "_model_name": "DescriptionStyleModel",
            "_view_count": null,
            "_view_module": "@jupyter-widgets/base",
            "_view_module_version": "1.2.0",
            "_view_name": "StyleView",
            "description_width": ""
          }
        },
        "cb1ce40c25c548f78462779d3901e5a5": {
          "model_module": "@jupyter-widgets/base",
          "model_name": "LayoutModel",
          "model_module_version": "1.2.0",
          "state": {
            "_model_module": "@jupyter-widgets/base",
            "_model_module_version": "1.2.0",
            "_model_name": "LayoutModel",
            "_view_count": null,
            "_view_module": "@jupyter-widgets/base",
            "_view_module_version": "1.2.0",
            "_view_name": "LayoutView",
            "align_content": null,
            "align_items": null,
            "align_self": null,
            "border": null,
            "bottom": null,
            "display": null,
            "flex": null,
            "flex_flow": null,
            "grid_area": null,
            "grid_auto_columns": null,
            "grid_auto_flow": null,
            "grid_auto_rows": null,
            "grid_column": null,
            "grid_gap": null,
            "grid_row": null,
            "grid_template_areas": null,
            "grid_template_columns": null,
            "grid_template_rows": null,
            "height": null,
            "justify_content": null,
            "justify_items": null,
            "left": null,
            "margin": null,
            "max_height": null,
            "max_width": null,
            "min_height": null,
            "min_width": null,
            "object_fit": null,
            "object_position": null,
            "order": null,
            "overflow": null,
            "overflow_x": null,
            "overflow_y": null,
            "padding": null,
            "right": null,
            "top": null,
            "visibility": null,
            "width": null
          }
        },
        "53ffc007a5dd4bafb47b6e3bf0a667e1": {
          "model_module": "@jupyter-widgets/controls",
          "model_name": "ProgressStyleModel",
          "model_module_version": "1.5.0",
          "state": {
            "_model_module": "@jupyter-widgets/controls",
            "_model_module_version": "1.5.0",
            "_model_name": "ProgressStyleModel",
            "_view_count": null,
            "_view_module": "@jupyter-widgets/base",
            "_view_module_version": "1.2.0",
            "_view_name": "StyleView",
            "bar_color": null,
            "description_width": ""
          }
        },
        "3b772abd48e64fa1b840f1e743704a0d": {
          "model_module": "@jupyter-widgets/base",
          "model_name": "LayoutModel",
          "model_module_version": "1.2.0",
          "state": {
            "_model_module": "@jupyter-widgets/base",
            "_model_module_version": "1.2.0",
            "_model_name": "LayoutModel",
            "_view_count": null,
            "_view_module": "@jupyter-widgets/base",
            "_view_module_version": "1.2.0",
            "_view_name": "LayoutView",
            "align_content": null,
            "align_items": null,
            "align_self": null,
            "border": null,
            "bottom": null,
            "display": null,
            "flex": null,
            "flex_flow": null,
            "grid_area": null,
            "grid_auto_columns": null,
            "grid_auto_flow": null,
            "grid_auto_rows": null,
            "grid_column": null,
            "grid_gap": null,
            "grid_row": null,
            "grid_template_areas": null,
            "grid_template_columns": null,
            "grid_template_rows": null,
            "height": null,
            "justify_content": null,
            "justify_items": null,
            "left": null,
            "margin": null,
            "max_height": null,
            "max_width": null,
            "min_height": null,
            "min_width": null,
            "object_fit": null,
            "object_position": null,
            "order": null,
            "overflow": null,
            "overflow_x": null,
            "overflow_y": null,
            "padding": null,
            "right": null,
            "top": null,
            "visibility": null,
            "width": null
          }
        },
        "afb5f0457b3a4cd196c408da8dde8a03": {
          "model_module": "@jupyter-widgets/controls",
          "model_name": "DescriptionStyleModel",
          "model_module_version": "1.5.0",
          "state": {
            "_model_module": "@jupyter-widgets/controls",
            "_model_module_version": "1.5.0",
            "_model_name": "DescriptionStyleModel",
            "_view_count": null,
            "_view_module": "@jupyter-widgets/base",
            "_view_module_version": "1.2.0",
            "_view_name": "StyleView",
            "description_width": ""
          }
        }
      }
    },
    "accelerator": "GPU"
  },
  "nbformat": 4,
  "nbformat_minor": 0
}