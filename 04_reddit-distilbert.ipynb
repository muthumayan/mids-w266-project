{
  "nbformat": 4,
  "nbformat_minor": 0,
  "metadata": {
    "colab": {
      "provenance": [],
      "machine_shape": "hm",
      "gpuType": "A100"
    },
    "kernelspec": {
      "name": "python3",
      "display_name": "Python 3"
    },
    "language_info": {
      "name": "python"
    },
    "accelerator": "GPU",
    "widgets": {
      "application/vnd.jupyter.widget-state+json": {
        "fe5c5937abf4497780169865c56e0277": {
          "model_module": "@jupyter-widgets/controls",
          "model_name": "HBoxModel",
          "model_module_version": "1.5.0",
          "state": {
            "_dom_classes": [],
            "_model_module": "@jupyter-widgets/controls",
            "_model_module_version": "1.5.0",
            "_model_name": "HBoxModel",
            "_view_count": null,
            "_view_module": "@jupyter-widgets/controls",
            "_view_module_version": "1.5.0",
            "_view_name": "HBoxView",
            "box_style": "",
            "children": [
              "IPY_MODEL_9dc2774da895413a961d8e5f059bb5db",
              "IPY_MODEL_3094a1689af4457c9dc00d9e1e610f41",
              "IPY_MODEL_06fdfc9faaa04df5b9d32e847e50b9c1"
            ],
            "layout": "IPY_MODEL_4d6d310c843546ceb6665f0b0e4e5df9"
          }
        },
        "9dc2774da895413a961d8e5f059bb5db": {
          "model_module": "@jupyter-widgets/controls",
          "model_name": "HTMLModel",
          "model_module_version": "1.5.0",
          "state": {
            "_dom_classes": [],
            "_model_module": "@jupyter-widgets/controls",
            "_model_module_version": "1.5.0",
            "_model_name": "HTMLModel",
            "_view_count": null,
            "_view_module": "@jupyter-widgets/controls",
            "_view_module_version": "1.5.0",
            "_view_name": "HTMLView",
            "description": "",
            "description_tooltip": null,
            "layout": "IPY_MODEL_f4f30968478342988e707205709b2799",
            "placeholder": "​",
            "style": "IPY_MODEL_e908d958686140c2a67759a916c2dc5c",
            "value": "Downloading: 100%"
          }
        },
        "3094a1689af4457c9dc00d9e1e610f41": {
          "model_module": "@jupyter-widgets/controls",
          "model_name": "FloatProgressModel",
          "model_module_version": "1.5.0",
          "state": {
            "_dom_classes": [],
            "_model_module": "@jupyter-widgets/controls",
            "_model_module_version": "1.5.0",
            "_model_name": "FloatProgressModel",
            "_view_count": null,
            "_view_module": "@jupyter-widgets/controls",
            "_view_module_version": "1.5.0",
            "_view_name": "ProgressView",
            "bar_style": "success",
            "description": "",
            "description_tooltip": null,
            "layout": "IPY_MODEL_d163ba786fc64fe0b6a6647bece29768",
            "max": 483,
            "min": 0,
            "orientation": "horizontal",
            "style": "IPY_MODEL_ceb481e40aa2491ca84395bf6cbe62ed",
            "value": 483
          }
        },
        "06fdfc9faaa04df5b9d32e847e50b9c1": {
          "model_module": "@jupyter-widgets/controls",
          "model_name": "HTMLModel",
          "model_module_version": "1.5.0",
          "state": {
            "_dom_classes": [],
            "_model_module": "@jupyter-widgets/controls",
            "_model_module_version": "1.5.0",
            "_model_name": "HTMLModel",
            "_view_count": null,
            "_view_module": "@jupyter-widgets/controls",
            "_view_module_version": "1.5.0",
            "_view_name": "HTMLView",
            "description": "",
            "description_tooltip": null,
            "layout": "IPY_MODEL_1d6a610341fd45b88fc164399be1c051",
            "placeholder": "​",
            "style": "IPY_MODEL_488a27872364440e864e92f5f275b351",
            "value": " 483/483 [00:00&lt;00:00, 39.5kB/s]"
          }
        },
        "4d6d310c843546ceb6665f0b0e4e5df9": {
          "model_module": "@jupyter-widgets/base",
          "model_name": "LayoutModel",
          "model_module_version": "1.2.0",
          "state": {
            "_model_module": "@jupyter-widgets/base",
            "_model_module_version": "1.2.0",
            "_model_name": "LayoutModel",
            "_view_count": null,
            "_view_module": "@jupyter-widgets/base",
            "_view_module_version": "1.2.0",
            "_view_name": "LayoutView",
            "align_content": null,
            "align_items": null,
            "align_self": null,
            "border": null,
            "bottom": null,
            "display": null,
            "flex": null,
            "flex_flow": null,
            "grid_area": null,
            "grid_auto_columns": null,
            "grid_auto_flow": null,
            "grid_auto_rows": null,
            "grid_column": null,
            "grid_gap": null,
            "grid_row": null,
            "grid_template_areas": null,
            "grid_template_columns": null,
            "grid_template_rows": null,
            "height": null,
            "justify_content": null,
            "justify_items": null,
            "left": null,
            "margin": null,
            "max_height": null,
            "max_width": null,
            "min_height": null,
            "min_width": null,
            "object_fit": null,
            "object_position": null,
            "order": null,
            "overflow": null,
            "overflow_x": null,
            "overflow_y": null,
            "padding": null,
            "right": null,
            "top": null,
            "visibility": null,
            "width": null
          }
        },
        "f4f30968478342988e707205709b2799": {
          "model_module": "@jupyter-widgets/base",
          "model_name": "LayoutModel",
          "model_module_version": "1.2.0",
          "state": {
            "_model_module": "@jupyter-widgets/base",
            "_model_module_version": "1.2.0",
            "_model_name": "LayoutModel",
            "_view_count": null,
            "_view_module": "@jupyter-widgets/base",
            "_view_module_version": "1.2.0",
            "_view_name": "LayoutView",
            "align_content": null,
            "align_items": null,
            "align_self": null,
            "border": null,
            "bottom": null,
            "display": null,
            "flex": null,
            "flex_flow": null,
            "grid_area": null,
            "grid_auto_columns": null,
            "grid_auto_flow": null,
            "grid_auto_rows": null,
            "grid_column": null,
            "grid_gap": null,
            "grid_row": null,
            "grid_template_areas": null,
            "grid_template_columns": null,
            "grid_template_rows": null,
            "height": null,
            "justify_content": null,
            "justify_items": null,
            "left": null,
            "margin": null,
            "max_height": null,
            "max_width": null,
            "min_height": null,
            "min_width": null,
            "object_fit": null,
            "object_position": null,
            "order": null,
            "overflow": null,
            "overflow_x": null,
            "overflow_y": null,
            "padding": null,
            "right": null,
            "top": null,
            "visibility": null,
            "width": null
          }
        },
        "e908d958686140c2a67759a916c2dc5c": {
          "model_module": "@jupyter-widgets/controls",
          "model_name": "DescriptionStyleModel",
          "model_module_version": "1.5.0",
          "state": {
            "_model_module": "@jupyter-widgets/controls",
            "_model_module_version": "1.5.0",
            "_model_name": "DescriptionStyleModel",
            "_view_count": null,
            "_view_module": "@jupyter-widgets/base",
            "_view_module_version": "1.2.0",
            "_view_name": "StyleView",
            "description_width": ""
          }
        },
        "d163ba786fc64fe0b6a6647bece29768": {
          "model_module": "@jupyter-widgets/base",
          "model_name": "LayoutModel",
          "model_module_version": "1.2.0",
          "state": {
            "_model_module": "@jupyter-widgets/base",
            "_model_module_version": "1.2.0",
            "_model_name": "LayoutModel",
            "_view_count": null,
            "_view_module": "@jupyter-widgets/base",
            "_view_module_version": "1.2.0",
            "_view_name": "LayoutView",
            "align_content": null,
            "align_items": null,
            "align_self": null,
            "border": null,
            "bottom": null,
            "display": null,
            "flex": null,
            "flex_flow": null,
            "grid_area": null,
            "grid_auto_columns": null,
            "grid_auto_flow": null,
            "grid_auto_rows": null,
            "grid_column": null,
            "grid_gap": null,
            "grid_row": null,
            "grid_template_areas": null,
            "grid_template_columns": null,
            "grid_template_rows": null,
            "height": null,
            "justify_content": null,
            "justify_items": null,
            "left": null,
            "margin": null,
            "max_height": null,
            "max_width": null,
            "min_height": null,
            "min_width": null,
            "object_fit": null,
            "object_position": null,
            "order": null,
            "overflow": null,
            "overflow_x": null,
            "overflow_y": null,
            "padding": null,
            "right": null,
            "top": null,
            "visibility": null,
            "width": null
          }
        },
        "ceb481e40aa2491ca84395bf6cbe62ed": {
          "model_module": "@jupyter-widgets/controls",
          "model_name": "ProgressStyleModel",
          "model_module_version": "1.5.0",
          "state": {
            "_model_module": "@jupyter-widgets/controls",
            "_model_module_version": "1.5.0",
            "_model_name": "ProgressStyleModel",
            "_view_count": null,
            "_view_module": "@jupyter-widgets/base",
            "_view_module_version": "1.2.0",
            "_view_name": "StyleView",
            "bar_color": null,
            "description_width": ""
          }
        },
        "1d6a610341fd45b88fc164399be1c051": {
          "model_module": "@jupyter-widgets/base",
          "model_name": "LayoutModel",
          "model_module_version": "1.2.0",
          "state": {
            "_model_module": "@jupyter-widgets/base",
            "_model_module_version": "1.2.0",
            "_model_name": "LayoutModel",
            "_view_count": null,
            "_view_module": "@jupyter-widgets/base",
            "_view_module_version": "1.2.0",
            "_view_name": "LayoutView",
            "align_content": null,
            "align_items": null,
            "align_self": null,
            "border": null,
            "bottom": null,
            "display": null,
            "flex": null,
            "flex_flow": null,
            "grid_area": null,
            "grid_auto_columns": null,
            "grid_auto_flow": null,
            "grid_auto_rows": null,
            "grid_column": null,
            "grid_gap": null,
            "grid_row": null,
            "grid_template_areas": null,
            "grid_template_columns": null,
            "grid_template_rows": null,
            "height": null,
            "justify_content": null,
            "justify_items": null,
            "left": null,
            "margin": null,
            "max_height": null,
            "max_width": null,
            "min_height": null,
            "min_width": null,
            "object_fit": null,
            "object_position": null,
            "order": null,
            "overflow": null,
            "overflow_x": null,
            "overflow_y": null,
            "padding": null,
            "right": null,
            "top": null,
            "visibility": null,
            "width": null
          }
        },
        "488a27872364440e864e92f5f275b351": {
          "model_module": "@jupyter-widgets/controls",
          "model_name": "DescriptionStyleModel",
          "model_module_version": "1.5.0",
          "state": {
            "_model_module": "@jupyter-widgets/controls",
            "_model_module_version": "1.5.0",
            "_model_name": "DescriptionStyleModel",
            "_view_count": null,
            "_view_module": "@jupyter-widgets/base",
            "_view_module_version": "1.2.0",
            "_view_name": "StyleView",
            "description_width": ""
          }
        },
        "0654ef01f02c4ffdb16943e960c3085f": {
          "model_module": "@jupyter-widgets/controls",
          "model_name": "HBoxModel",
          "model_module_version": "1.5.0",
          "state": {
            "_dom_classes": [],
            "_model_module": "@jupyter-widgets/controls",
            "_model_module_version": "1.5.0",
            "_model_name": "HBoxModel",
            "_view_count": null,
            "_view_module": "@jupyter-widgets/controls",
            "_view_module_version": "1.5.0",
            "_view_name": "HBoxView",
            "box_style": "",
            "children": [
              "IPY_MODEL_190f60b65071481c936e036f9cc4b0ef",
              "IPY_MODEL_55d55437e8a340f796610c4caff46773",
              "IPY_MODEL_73358bba4a0646098a2939d0be62ba06"
            ],
            "layout": "IPY_MODEL_5ae660414270478e93ea435f1999ccd0"
          }
        },
        "190f60b65071481c936e036f9cc4b0ef": {
          "model_module": "@jupyter-widgets/controls",
          "model_name": "HTMLModel",
          "model_module_version": "1.5.0",
          "state": {
            "_dom_classes": [],
            "_model_module": "@jupyter-widgets/controls",
            "_model_module_version": "1.5.0",
            "_model_name": "HTMLModel",
            "_view_count": null,
            "_view_module": "@jupyter-widgets/controls",
            "_view_module_version": "1.5.0",
            "_view_name": "HTMLView",
            "description": "",
            "description_tooltip": null,
            "layout": "IPY_MODEL_46b3a1f4e35945aeb9a2fac05557eb76",
            "placeholder": "​",
            "style": "IPY_MODEL_072453408e584cbf92bf031addd2d4a6",
            "value": "Downloading: 100%"
          }
        },
        "55d55437e8a340f796610c4caff46773": {
          "model_module": "@jupyter-widgets/controls",
          "model_name": "FloatProgressModel",
          "model_module_version": "1.5.0",
          "state": {
            "_dom_classes": [],
            "_model_module": "@jupyter-widgets/controls",
            "_model_module_version": "1.5.0",
            "_model_name": "FloatProgressModel",
            "_view_count": null,
            "_view_module": "@jupyter-widgets/controls",
            "_view_module_version": "1.5.0",
            "_view_name": "ProgressView",
            "bar_style": "success",
            "description": "",
            "description_tooltip": null,
            "layout": "IPY_MODEL_abd88a2f04b94101bbd5ed6ea1fd6e54",
            "max": 363423424,
            "min": 0,
            "orientation": "horizontal",
            "style": "IPY_MODEL_57784257fcee41b9a7528e08fb4d2b12",
            "value": 363423424
          }
        },
        "73358bba4a0646098a2939d0be62ba06": {
          "model_module": "@jupyter-widgets/controls",
          "model_name": "HTMLModel",
          "model_module_version": "1.5.0",
          "state": {
            "_dom_classes": [],
            "_model_module": "@jupyter-widgets/controls",
            "_model_module_version": "1.5.0",
            "_model_name": "HTMLModel",
            "_view_count": null,
            "_view_module": "@jupyter-widgets/controls",
            "_view_module_version": "1.5.0",
            "_view_name": "HTMLView",
            "description": "",
            "description_tooltip": null,
            "layout": "IPY_MODEL_a065f4d327af46da978b039041b10d89",
            "placeholder": "​",
            "style": "IPY_MODEL_3137bb7bf0464e13acd2a25ece635a59",
            "value": " 347M/347M [00:04&lt;00:00, 85.8MB/s]"
          }
        },
        "5ae660414270478e93ea435f1999ccd0": {
          "model_module": "@jupyter-widgets/base",
          "model_name": "LayoutModel",
          "model_module_version": "1.2.0",
          "state": {
            "_model_module": "@jupyter-widgets/base",
            "_model_module_version": "1.2.0",
            "_model_name": "LayoutModel",
            "_view_count": null,
            "_view_module": "@jupyter-widgets/base",
            "_view_module_version": "1.2.0",
            "_view_name": "LayoutView",
            "align_content": null,
            "align_items": null,
            "align_self": null,
            "border": null,
            "bottom": null,
            "display": null,
            "flex": null,
            "flex_flow": null,
            "grid_area": null,
            "grid_auto_columns": null,
            "grid_auto_flow": null,
            "grid_auto_rows": null,
            "grid_column": null,
            "grid_gap": null,
            "grid_row": null,
            "grid_template_areas": null,
            "grid_template_columns": null,
            "grid_template_rows": null,
            "height": null,
            "justify_content": null,
            "justify_items": null,
            "left": null,
            "margin": null,
            "max_height": null,
            "max_width": null,
            "min_height": null,
            "min_width": null,
            "object_fit": null,
            "object_position": null,
            "order": null,
            "overflow": null,
            "overflow_x": null,
            "overflow_y": null,
            "padding": null,
            "right": null,
            "top": null,
            "visibility": null,
            "width": null
          }
        },
        "46b3a1f4e35945aeb9a2fac05557eb76": {
          "model_module": "@jupyter-widgets/base",
          "model_name": "LayoutModel",
          "model_module_version": "1.2.0",
          "state": {
            "_model_module": "@jupyter-widgets/base",
            "_model_module_version": "1.2.0",
            "_model_name": "LayoutModel",
            "_view_count": null,
            "_view_module": "@jupyter-widgets/base",
            "_view_module_version": "1.2.0",
            "_view_name": "LayoutView",
            "align_content": null,
            "align_items": null,
            "align_self": null,
            "border": null,
            "bottom": null,
            "display": null,
            "flex": null,
            "flex_flow": null,
            "grid_area": null,
            "grid_auto_columns": null,
            "grid_auto_flow": null,
            "grid_auto_rows": null,
            "grid_column": null,
            "grid_gap": null,
            "grid_row": null,
            "grid_template_areas": null,
            "grid_template_columns": null,
            "grid_template_rows": null,
            "height": null,
            "justify_content": null,
            "justify_items": null,
            "left": null,
            "margin": null,
            "max_height": null,
            "max_width": null,
            "min_height": null,
            "min_width": null,
            "object_fit": null,
            "object_position": null,
            "order": null,
            "overflow": null,
            "overflow_x": null,
            "overflow_y": null,
            "padding": null,
            "right": null,
            "top": null,
            "visibility": null,
            "width": null
          }
        },
        "072453408e584cbf92bf031addd2d4a6": {
          "model_module": "@jupyter-widgets/controls",
          "model_name": "DescriptionStyleModel",
          "model_module_version": "1.5.0",
          "state": {
            "_model_module": "@jupyter-widgets/controls",
            "_model_module_version": "1.5.0",
            "_model_name": "DescriptionStyleModel",
            "_view_count": null,
            "_view_module": "@jupyter-widgets/base",
            "_view_module_version": "1.2.0",
            "_view_name": "StyleView",
            "description_width": ""
          }
        },
        "abd88a2f04b94101bbd5ed6ea1fd6e54": {
          "model_module": "@jupyter-widgets/base",
          "model_name": "LayoutModel",
          "model_module_version": "1.2.0",
          "state": {
            "_model_module": "@jupyter-widgets/base",
            "_model_module_version": "1.2.0",
            "_model_name": "LayoutModel",
            "_view_count": null,
            "_view_module": "@jupyter-widgets/base",
            "_view_module_version": "1.2.0",
            "_view_name": "LayoutView",
            "align_content": null,
            "align_items": null,
            "align_self": null,
            "border": null,
            "bottom": null,
            "display": null,
            "flex": null,
            "flex_flow": null,
            "grid_area": null,
            "grid_auto_columns": null,
            "grid_auto_flow": null,
            "grid_auto_rows": null,
            "grid_column": null,
            "grid_gap": null,
            "grid_row": null,
            "grid_template_areas": null,
            "grid_template_columns": null,
            "grid_template_rows": null,
            "height": null,
            "justify_content": null,
            "justify_items": null,
            "left": null,
            "margin": null,
            "max_height": null,
            "max_width": null,
            "min_height": null,
            "min_width": null,
            "object_fit": null,
            "object_position": null,
            "order": null,
            "overflow": null,
            "overflow_x": null,
            "overflow_y": null,
            "padding": null,
            "right": null,
            "top": null,
            "visibility": null,
            "width": null
          }
        },
        "57784257fcee41b9a7528e08fb4d2b12": {
          "model_module": "@jupyter-widgets/controls",
          "model_name": "ProgressStyleModel",
          "model_module_version": "1.5.0",
          "state": {
            "_model_module": "@jupyter-widgets/controls",
            "_model_module_version": "1.5.0",
            "_model_name": "ProgressStyleModel",
            "_view_count": null,
            "_view_module": "@jupyter-widgets/base",
            "_view_module_version": "1.2.0",
            "_view_name": "StyleView",
            "bar_color": null,
            "description_width": ""
          }
        },
        "a065f4d327af46da978b039041b10d89": {
          "model_module": "@jupyter-widgets/base",
          "model_name": "LayoutModel",
          "model_module_version": "1.2.0",
          "state": {
            "_model_module": "@jupyter-widgets/base",
            "_model_module_version": "1.2.0",
            "_model_name": "LayoutModel",
            "_view_count": null,
            "_view_module": "@jupyter-widgets/base",
            "_view_module_version": "1.2.0",
            "_view_name": "LayoutView",
            "align_content": null,
            "align_items": null,
            "align_self": null,
            "border": null,
            "bottom": null,
            "display": null,
            "flex": null,
            "flex_flow": null,
            "grid_area": null,
            "grid_auto_columns": null,
            "grid_auto_flow": null,
            "grid_auto_rows": null,
            "grid_column": null,
            "grid_gap": null,
            "grid_row": null,
            "grid_template_areas": null,
            "grid_template_columns": null,
            "grid_template_rows": null,
            "height": null,
            "justify_content": null,
            "justify_items": null,
            "left": null,
            "margin": null,
            "max_height": null,
            "max_width": null,
            "min_height": null,
            "min_width": null,
            "object_fit": null,
            "object_position": null,
            "order": null,
            "overflow": null,
            "overflow_x": null,
            "overflow_y": null,
            "padding": null,
            "right": null,
            "top": null,
            "visibility": null,
            "width": null
          }
        },
        "3137bb7bf0464e13acd2a25ece635a59": {
          "model_module": "@jupyter-widgets/controls",
          "model_name": "DescriptionStyleModel",
          "model_module_version": "1.5.0",
          "state": {
            "_model_module": "@jupyter-widgets/controls",
            "_model_module_version": "1.5.0",
            "_model_name": "DescriptionStyleModel",
            "_view_count": null,
            "_view_module": "@jupyter-widgets/base",
            "_view_module_version": "1.2.0",
            "_view_name": "StyleView",
            "description_width": ""
          }
        },
        "dad334ea75744dd19fbe2f87a2c3837a": {
          "model_module": "@jupyter-widgets/controls",
          "model_name": "HBoxModel",
          "model_module_version": "1.5.0",
          "state": {
            "_dom_classes": [],
            "_model_module": "@jupyter-widgets/controls",
            "_model_module_version": "1.5.0",
            "_model_name": "HBoxModel",
            "_view_count": null,
            "_view_module": "@jupyter-widgets/controls",
            "_view_module_version": "1.5.0",
            "_view_name": "HBoxView",
            "box_style": "",
            "children": [
              "IPY_MODEL_497a1dae1be449c4b3817dc2ddaa1061",
              "IPY_MODEL_1139093f9b64493580690c5ca626f55c",
              "IPY_MODEL_e6c46df9125b49e9be86c62d59a1e9eb"
            ],
            "layout": "IPY_MODEL_96b5dff69e5f410483baf7d5eade0868"
          }
        },
        "497a1dae1be449c4b3817dc2ddaa1061": {
          "model_module": "@jupyter-widgets/controls",
          "model_name": "HTMLModel",
          "model_module_version": "1.5.0",
          "state": {
            "_dom_classes": [],
            "_model_module": "@jupyter-widgets/controls",
            "_model_module_version": "1.5.0",
            "_model_name": "HTMLModel",
            "_view_count": null,
            "_view_module": "@jupyter-widgets/controls",
            "_view_module_version": "1.5.0",
            "_view_name": "HTMLView",
            "description": "",
            "description_tooltip": null,
            "layout": "IPY_MODEL_87dc8337d94c410eba3fa31574c8f419",
            "placeholder": "​",
            "style": "IPY_MODEL_1fcecbfdc12f4114ba72dcd3b28b2363",
            "value": "Downloading: 100%"
          }
        },
        "1139093f9b64493580690c5ca626f55c": {
          "model_module": "@jupyter-widgets/controls",
          "model_name": "FloatProgressModel",
          "model_module_version": "1.5.0",
          "state": {
            "_dom_classes": [],
            "_model_module": "@jupyter-widgets/controls",
            "_model_module_version": "1.5.0",
            "_model_name": "FloatProgressModel",
            "_view_count": null,
            "_view_module": "@jupyter-widgets/controls",
            "_view_module_version": "1.5.0",
            "_view_name": "ProgressView",
            "bar_style": "success",
            "description": "",
            "description_tooltip": null,
            "layout": "IPY_MODEL_5f70c9f6416c44f28e68543c94528ec1",
            "max": 48,
            "min": 0,
            "orientation": "horizontal",
            "style": "IPY_MODEL_a725ac2672e048c8b622770cac32d3a0",
            "value": 48
          }
        },
        "e6c46df9125b49e9be86c62d59a1e9eb": {
          "model_module": "@jupyter-widgets/controls",
          "model_name": "HTMLModel",
          "model_module_version": "1.5.0",
          "state": {
            "_dom_classes": [],
            "_model_module": "@jupyter-widgets/controls",
            "_model_module_version": "1.5.0",
            "_model_name": "HTMLModel",
            "_view_count": null,
            "_view_module": "@jupyter-widgets/controls",
            "_view_module_version": "1.5.0",
            "_view_name": "HTMLView",
            "description": "",
            "description_tooltip": null,
            "layout": "IPY_MODEL_b5f4c753c8984e62a2e1faf224ac17e6",
            "placeholder": "​",
            "style": "IPY_MODEL_4a1d16c58fbd40598c14b5d51d47e53e",
            "value": " 48.0/48.0 [00:00&lt;00:00, 3.65kB/s]"
          }
        },
        "96b5dff69e5f410483baf7d5eade0868": {
          "model_module": "@jupyter-widgets/base",
          "model_name": "LayoutModel",
          "model_module_version": "1.2.0",
          "state": {
            "_model_module": "@jupyter-widgets/base",
            "_model_module_version": "1.2.0",
            "_model_name": "LayoutModel",
            "_view_count": null,
            "_view_module": "@jupyter-widgets/base",
            "_view_module_version": "1.2.0",
            "_view_name": "LayoutView",
            "align_content": null,
            "align_items": null,
            "align_self": null,
            "border": null,
            "bottom": null,
            "display": null,
            "flex": null,
            "flex_flow": null,
            "grid_area": null,
            "grid_auto_columns": null,
            "grid_auto_flow": null,
            "grid_auto_rows": null,
            "grid_column": null,
            "grid_gap": null,
            "grid_row": null,
            "grid_template_areas": null,
            "grid_template_columns": null,
            "grid_template_rows": null,
            "height": null,
            "justify_content": null,
            "justify_items": null,
            "left": null,
            "margin": null,
            "max_height": null,
            "max_width": null,
            "min_height": null,
            "min_width": null,
            "object_fit": null,
            "object_position": null,
            "order": null,
            "overflow": null,
            "overflow_x": null,
            "overflow_y": null,
            "padding": null,
            "right": null,
            "top": null,
            "visibility": null,
            "width": null
          }
        },
        "87dc8337d94c410eba3fa31574c8f419": {
          "model_module": "@jupyter-widgets/base",
          "model_name": "LayoutModel",
          "model_module_version": "1.2.0",
          "state": {
            "_model_module": "@jupyter-widgets/base",
            "_model_module_version": "1.2.0",
            "_model_name": "LayoutModel",
            "_view_count": null,
            "_view_module": "@jupyter-widgets/base",
            "_view_module_version": "1.2.0",
            "_view_name": "LayoutView",
            "align_content": null,
            "align_items": null,
            "align_self": null,
            "border": null,
            "bottom": null,
            "display": null,
            "flex": null,
            "flex_flow": null,
            "grid_area": null,
            "grid_auto_columns": null,
            "grid_auto_flow": null,
            "grid_auto_rows": null,
            "grid_column": null,
            "grid_gap": null,
            "grid_row": null,
            "grid_template_areas": null,
            "grid_template_columns": null,
            "grid_template_rows": null,
            "height": null,
            "justify_content": null,
            "justify_items": null,
            "left": null,
            "margin": null,
            "max_height": null,
            "max_width": null,
            "min_height": null,
            "min_width": null,
            "object_fit": null,
            "object_position": null,
            "order": null,
            "overflow": null,
            "overflow_x": null,
            "overflow_y": null,
            "padding": null,
            "right": null,
            "top": null,
            "visibility": null,
            "width": null
          }
        },
        "1fcecbfdc12f4114ba72dcd3b28b2363": {
          "model_module": "@jupyter-widgets/controls",
          "model_name": "DescriptionStyleModel",
          "model_module_version": "1.5.0",
          "state": {
            "_model_module": "@jupyter-widgets/controls",
            "_model_module_version": "1.5.0",
            "_model_name": "DescriptionStyleModel",
            "_view_count": null,
            "_view_module": "@jupyter-widgets/base",
            "_view_module_version": "1.2.0",
            "_view_name": "StyleView",
            "description_width": ""
          }
        },
        "5f70c9f6416c44f28e68543c94528ec1": {
          "model_module": "@jupyter-widgets/base",
          "model_name": "LayoutModel",
          "model_module_version": "1.2.0",
          "state": {
            "_model_module": "@jupyter-widgets/base",
            "_model_module_version": "1.2.0",
            "_model_name": "LayoutModel",
            "_view_count": null,
            "_view_module": "@jupyter-widgets/base",
            "_view_module_version": "1.2.0",
            "_view_name": "LayoutView",
            "align_content": null,
            "align_items": null,
            "align_self": null,
            "border": null,
            "bottom": null,
            "display": null,
            "flex": null,
            "flex_flow": null,
            "grid_area": null,
            "grid_auto_columns": null,
            "grid_auto_flow": null,
            "grid_auto_rows": null,
            "grid_column": null,
            "grid_gap": null,
            "grid_row": null,
            "grid_template_areas": null,
            "grid_template_columns": null,
            "grid_template_rows": null,
            "height": null,
            "justify_content": null,
            "justify_items": null,
            "left": null,
            "margin": null,
            "max_height": null,
            "max_width": null,
            "min_height": null,
            "min_width": null,
            "object_fit": null,
            "object_position": null,
            "order": null,
            "overflow": null,
            "overflow_x": null,
            "overflow_y": null,
            "padding": null,
            "right": null,
            "top": null,
            "visibility": null,
            "width": null
          }
        },
        "a725ac2672e048c8b622770cac32d3a0": {
          "model_module": "@jupyter-widgets/controls",
          "model_name": "ProgressStyleModel",
          "model_module_version": "1.5.0",
          "state": {
            "_model_module": "@jupyter-widgets/controls",
            "_model_module_version": "1.5.0",
            "_model_name": "ProgressStyleModel",
            "_view_count": null,
            "_view_module": "@jupyter-widgets/base",
            "_view_module_version": "1.2.0",
            "_view_name": "StyleView",
            "bar_color": null,
            "description_width": ""
          }
        },
        "b5f4c753c8984e62a2e1faf224ac17e6": {
          "model_module": "@jupyter-widgets/base",
          "model_name": "LayoutModel",
          "model_module_version": "1.2.0",
          "state": {
            "_model_module": "@jupyter-widgets/base",
            "_model_module_version": "1.2.0",
            "_model_name": "LayoutModel",
            "_view_count": null,
            "_view_module": "@jupyter-widgets/base",
            "_view_module_version": "1.2.0",
            "_view_name": "LayoutView",
            "align_content": null,
            "align_items": null,
            "align_self": null,
            "border": null,
            "bottom": null,
            "display": null,
            "flex": null,
            "flex_flow": null,
            "grid_area": null,
            "grid_auto_columns": null,
            "grid_auto_flow": null,
            "grid_auto_rows": null,
            "grid_column": null,
            "grid_gap": null,
            "grid_row": null,
            "grid_template_areas": null,
            "grid_template_columns": null,
            "grid_template_rows": null,
            "height": null,
            "justify_content": null,
            "justify_items": null,
            "left": null,
            "margin": null,
            "max_height": null,
            "max_width": null,
            "min_height": null,
            "min_width": null,
            "object_fit": null,
            "object_position": null,
            "order": null,
            "overflow": null,
            "overflow_x": null,
            "overflow_y": null,
            "padding": null,
            "right": null,
            "top": null,
            "visibility": null,
            "width": null
          }
        },
        "4a1d16c58fbd40598c14b5d51d47e53e": {
          "model_module": "@jupyter-widgets/controls",
          "model_name": "DescriptionStyleModel",
          "model_module_version": "1.5.0",
          "state": {
            "_model_module": "@jupyter-widgets/controls",
            "_model_module_version": "1.5.0",
            "_model_name": "DescriptionStyleModel",
            "_view_count": null,
            "_view_module": "@jupyter-widgets/base",
            "_view_module_version": "1.2.0",
            "_view_name": "StyleView",
            "description_width": ""
          }
        },
        "b7fc9dad6ca8409c9e8bf7fc2708d940": {
          "model_module": "@jupyter-widgets/controls",
          "model_name": "HBoxModel",
          "model_module_version": "1.5.0",
          "state": {
            "_dom_classes": [],
            "_model_module": "@jupyter-widgets/controls",
            "_model_module_version": "1.5.0",
            "_model_name": "HBoxModel",
            "_view_count": null,
            "_view_module": "@jupyter-widgets/controls",
            "_view_module_version": "1.5.0",
            "_view_name": "HBoxView",
            "box_style": "",
            "children": [
              "IPY_MODEL_8a032590fa8e40868c1352e4bb49bfba",
              "IPY_MODEL_f1059309e6254a6893d13abde8e52990",
              "IPY_MODEL_11737abdb9844878a07697fad22e88e9"
            ],
            "layout": "IPY_MODEL_fcc3528391094f379ca945fc172de42e"
          }
        },
        "8a032590fa8e40868c1352e4bb49bfba": {
          "model_module": "@jupyter-widgets/controls",
          "model_name": "HTMLModel",
          "model_module_version": "1.5.0",
          "state": {
            "_dom_classes": [],
            "_model_module": "@jupyter-widgets/controls",
            "_model_module_version": "1.5.0",
            "_model_name": "HTMLModel",
            "_view_count": null,
            "_view_module": "@jupyter-widgets/controls",
            "_view_module_version": "1.5.0",
            "_view_name": "HTMLView",
            "description": "",
            "description_tooltip": null,
            "layout": "IPY_MODEL_40eb41b5a22b4ace8818cdb800c07138",
            "placeholder": "​",
            "style": "IPY_MODEL_a00258ff83264544a53dfc30e23317f6",
            "value": "Downloading: 100%"
          }
        },
        "f1059309e6254a6893d13abde8e52990": {
          "model_module": "@jupyter-widgets/controls",
          "model_name": "FloatProgressModel",
          "model_module_version": "1.5.0",
          "state": {
            "_dom_classes": [],
            "_model_module": "@jupyter-widgets/controls",
            "_model_module_version": "1.5.0",
            "_model_name": "FloatProgressModel",
            "_view_count": null,
            "_view_module": "@jupyter-widgets/controls",
            "_view_module_version": "1.5.0",
            "_view_name": "ProgressView",
            "bar_style": "success",
            "description": "",
            "description_tooltip": null,
            "layout": "IPY_MODEL_dc6d9a78730a429d935e80bccf675cfc",
            "max": 231508,
            "min": 0,
            "orientation": "horizontal",
            "style": "IPY_MODEL_290e7b266df8452c9eaaac5afaa56500",
            "value": 231508
          }
        },
        "11737abdb9844878a07697fad22e88e9": {
          "model_module": "@jupyter-widgets/controls",
          "model_name": "HTMLModel",
          "model_module_version": "1.5.0",
          "state": {
            "_dom_classes": [],
            "_model_module": "@jupyter-widgets/controls",
            "_model_module_version": "1.5.0",
            "_model_name": "HTMLModel",
            "_view_count": null,
            "_view_module": "@jupyter-widgets/controls",
            "_view_module_version": "1.5.0",
            "_view_name": "HTMLView",
            "description": "",
            "description_tooltip": null,
            "layout": "IPY_MODEL_dbb27a1e76fb499c90ea46d8e747cfa4",
            "placeholder": "​",
            "style": "IPY_MODEL_6beb0cadf056492aac6137f8cb1abee3",
            "value": " 226k/226k [00:00&lt;00:00, 5.04MB/s]"
          }
        },
        "fcc3528391094f379ca945fc172de42e": {
          "model_module": "@jupyter-widgets/base",
          "model_name": "LayoutModel",
          "model_module_version": "1.2.0",
          "state": {
            "_model_module": "@jupyter-widgets/base",
            "_model_module_version": "1.2.0",
            "_model_name": "LayoutModel",
            "_view_count": null,
            "_view_module": "@jupyter-widgets/base",
            "_view_module_version": "1.2.0",
            "_view_name": "LayoutView",
            "align_content": null,
            "align_items": null,
            "align_self": null,
            "border": null,
            "bottom": null,
            "display": null,
            "flex": null,
            "flex_flow": null,
            "grid_area": null,
            "grid_auto_columns": null,
            "grid_auto_flow": null,
            "grid_auto_rows": null,
            "grid_column": null,
            "grid_gap": null,
            "grid_row": null,
            "grid_template_areas": null,
            "grid_template_columns": null,
            "grid_template_rows": null,
            "height": null,
            "justify_content": null,
            "justify_items": null,
            "left": null,
            "margin": null,
            "max_height": null,
            "max_width": null,
            "min_height": null,
            "min_width": null,
            "object_fit": null,
            "object_position": null,
            "order": null,
            "overflow": null,
            "overflow_x": null,
            "overflow_y": null,
            "padding": null,
            "right": null,
            "top": null,
            "visibility": null,
            "width": null
          }
        },
        "40eb41b5a22b4ace8818cdb800c07138": {
          "model_module": "@jupyter-widgets/base",
          "model_name": "LayoutModel",
          "model_module_version": "1.2.0",
          "state": {
            "_model_module": "@jupyter-widgets/base",
            "_model_module_version": "1.2.0",
            "_model_name": "LayoutModel",
            "_view_count": null,
            "_view_module": "@jupyter-widgets/base",
            "_view_module_version": "1.2.0",
            "_view_name": "LayoutView",
            "align_content": null,
            "align_items": null,
            "align_self": null,
            "border": null,
            "bottom": null,
            "display": null,
            "flex": null,
            "flex_flow": null,
            "grid_area": null,
            "grid_auto_columns": null,
            "grid_auto_flow": null,
            "grid_auto_rows": null,
            "grid_column": null,
            "grid_gap": null,
            "grid_row": null,
            "grid_template_areas": null,
            "grid_template_columns": null,
            "grid_template_rows": null,
            "height": null,
            "justify_content": null,
            "justify_items": null,
            "left": null,
            "margin": null,
            "max_height": null,
            "max_width": null,
            "min_height": null,
            "min_width": null,
            "object_fit": null,
            "object_position": null,
            "order": null,
            "overflow": null,
            "overflow_x": null,
            "overflow_y": null,
            "padding": null,
            "right": null,
            "top": null,
            "visibility": null,
            "width": null
          }
        },
        "a00258ff83264544a53dfc30e23317f6": {
          "model_module": "@jupyter-widgets/controls",
          "model_name": "DescriptionStyleModel",
          "model_module_version": "1.5.0",
          "state": {
            "_model_module": "@jupyter-widgets/controls",
            "_model_module_version": "1.5.0",
            "_model_name": "DescriptionStyleModel",
            "_view_count": null,
            "_view_module": "@jupyter-widgets/base",
            "_view_module_version": "1.2.0",
            "_view_name": "StyleView",
            "description_width": ""
          }
        },
        "dc6d9a78730a429d935e80bccf675cfc": {
          "model_module": "@jupyter-widgets/base",
          "model_name": "LayoutModel",
          "model_module_version": "1.2.0",
          "state": {
            "_model_module": "@jupyter-widgets/base",
            "_model_module_version": "1.2.0",
            "_model_name": "LayoutModel",
            "_view_count": null,
            "_view_module": "@jupyter-widgets/base",
            "_view_module_version": "1.2.0",
            "_view_name": "LayoutView",
            "align_content": null,
            "align_items": null,
            "align_self": null,
            "border": null,
            "bottom": null,
            "display": null,
            "flex": null,
            "flex_flow": null,
            "grid_area": null,
            "grid_auto_columns": null,
            "grid_auto_flow": null,
            "grid_auto_rows": null,
            "grid_column": null,
            "grid_gap": null,
            "grid_row": null,
            "grid_template_areas": null,
            "grid_template_columns": null,
            "grid_template_rows": null,
            "height": null,
            "justify_content": null,
            "justify_items": null,
            "left": null,
            "margin": null,
            "max_height": null,
            "max_width": null,
            "min_height": null,
            "min_width": null,
            "object_fit": null,
            "object_position": null,
            "order": null,
            "overflow": null,
            "overflow_x": null,
            "overflow_y": null,
            "padding": null,
            "right": null,
            "top": null,
            "visibility": null,
            "width": null
          }
        },
        "290e7b266df8452c9eaaac5afaa56500": {
          "model_module": "@jupyter-widgets/controls",
          "model_name": "ProgressStyleModel",
          "model_module_version": "1.5.0",
          "state": {
            "_model_module": "@jupyter-widgets/controls",
            "_model_module_version": "1.5.0",
            "_model_name": "ProgressStyleModel",
            "_view_count": null,
            "_view_module": "@jupyter-widgets/base",
            "_view_module_version": "1.2.0",
            "_view_name": "StyleView",
            "bar_color": null,
            "description_width": ""
          }
        },
        "dbb27a1e76fb499c90ea46d8e747cfa4": {
          "model_module": "@jupyter-widgets/base",
          "model_name": "LayoutModel",
          "model_module_version": "1.2.0",
          "state": {
            "_model_module": "@jupyter-widgets/base",
            "_model_module_version": "1.2.0",
            "_model_name": "LayoutModel",
            "_view_count": null,
            "_view_module": "@jupyter-widgets/base",
            "_view_module_version": "1.2.0",
            "_view_name": "LayoutView",
            "align_content": null,
            "align_items": null,
            "align_self": null,
            "border": null,
            "bottom": null,
            "display": null,
            "flex": null,
            "flex_flow": null,
            "grid_area": null,
            "grid_auto_columns": null,
            "grid_auto_flow": null,
            "grid_auto_rows": null,
            "grid_column": null,
            "grid_gap": null,
            "grid_row": null,
            "grid_template_areas": null,
            "grid_template_columns": null,
            "grid_template_rows": null,
            "height": null,
            "justify_content": null,
            "justify_items": null,
            "left": null,
            "margin": null,
            "max_height": null,
            "max_width": null,
            "min_height": null,
            "min_width": null,
            "object_fit": null,
            "object_position": null,
            "order": null,
            "overflow": null,
            "overflow_x": null,
            "overflow_y": null,
            "padding": null,
            "right": null,
            "top": null,
            "visibility": null,
            "width": null
          }
        },
        "6beb0cadf056492aac6137f8cb1abee3": {
          "model_module": "@jupyter-widgets/controls",
          "model_name": "DescriptionStyleModel",
          "model_module_version": "1.5.0",
          "state": {
            "_model_module": "@jupyter-widgets/controls",
            "_model_module_version": "1.5.0",
            "_model_name": "DescriptionStyleModel",
            "_view_count": null,
            "_view_module": "@jupyter-widgets/base",
            "_view_module_version": "1.2.0",
            "_view_name": "StyleView",
            "description_width": ""
          }
        },
        "318fe3c22567486f8ec16b25a71f30c7": {
          "model_module": "@jupyter-widgets/controls",
          "model_name": "HBoxModel",
          "model_module_version": "1.5.0",
          "state": {
            "_dom_classes": [],
            "_model_module": "@jupyter-widgets/controls",
            "_model_module_version": "1.5.0",
            "_model_name": "HBoxModel",
            "_view_count": null,
            "_view_module": "@jupyter-widgets/controls",
            "_view_module_version": "1.5.0",
            "_view_name": "HBoxView",
            "box_style": "",
            "children": [
              "IPY_MODEL_173ba9696faa46089e693e2f4b429c3d",
              "IPY_MODEL_0c4cae671d2244c5870fc350581a2599",
              "IPY_MODEL_0450da54af354736b5dc35f8e31e3ef2"
            ],
            "layout": "IPY_MODEL_8303a3f17d2e423f8c4b1c12e6559052"
          }
        },
        "173ba9696faa46089e693e2f4b429c3d": {
          "model_module": "@jupyter-widgets/controls",
          "model_name": "HTMLModel",
          "model_module_version": "1.5.0",
          "state": {
            "_dom_classes": [],
            "_model_module": "@jupyter-widgets/controls",
            "_model_module_version": "1.5.0",
            "_model_name": "HTMLModel",
            "_view_count": null,
            "_view_module": "@jupyter-widgets/controls",
            "_view_module_version": "1.5.0",
            "_view_name": "HTMLView",
            "description": "",
            "description_tooltip": null,
            "layout": "IPY_MODEL_e935725788614b0fae2eab396da9a7ea",
            "placeholder": "​",
            "style": "IPY_MODEL_bda7deea91ff4200b448c4d5d6517c7b",
            "value": "Downloading: 100%"
          }
        },
        "0c4cae671d2244c5870fc350581a2599": {
          "model_module": "@jupyter-widgets/controls",
          "model_name": "FloatProgressModel",
          "model_module_version": "1.5.0",
          "state": {
            "_dom_classes": [],
            "_model_module": "@jupyter-widgets/controls",
            "_model_module_version": "1.5.0",
            "_model_name": "FloatProgressModel",
            "_view_count": null,
            "_view_module": "@jupyter-widgets/controls",
            "_view_module_version": "1.5.0",
            "_view_name": "ProgressView",
            "bar_style": "success",
            "description": "",
            "description_tooltip": null,
            "layout": "IPY_MODEL_7d869c5c83d341dd87f361e21201d906",
            "max": 466062,
            "min": 0,
            "orientation": "horizontal",
            "style": "IPY_MODEL_c1fc159649e84b2a83e61e16d81f8461",
            "value": 466062
          }
        },
        "0450da54af354736b5dc35f8e31e3ef2": {
          "model_module": "@jupyter-widgets/controls",
          "model_name": "HTMLModel",
          "model_module_version": "1.5.0",
          "state": {
            "_dom_classes": [],
            "_model_module": "@jupyter-widgets/controls",
            "_model_module_version": "1.5.0",
            "_model_name": "HTMLModel",
            "_view_count": null,
            "_view_module": "@jupyter-widgets/controls",
            "_view_module_version": "1.5.0",
            "_view_name": "HTMLView",
            "description": "",
            "description_tooltip": null,
            "layout": "IPY_MODEL_5aefae567e7243b58aabd371bc7fbfde",
            "placeholder": "​",
            "style": "IPY_MODEL_63a47bf229574ff5bb47115dc6dd0ec4",
            "value": " 455k/455k [00:00&lt;00:00, 7.62MB/s]"
          }
        },
        "8303a3f17d2e423f8c4b1c12e6559052": {
          "model_module": "@jupyter-widgets/base",
          "model_name": "LayoutModel",
          "model_module_version": "1.2.0",
          "state": {
            "_model_module": "@jupyter-widgets/base",
            "_model_module_version": "1.2.0",
            "_model_name": "LayoutModel",
            "_view_count": null,
            "_view_module": "@jupyter-widgets/base",
            "_view_module_version": "1.2.0",
            "_view_name": "LayoutView",
            "align_content": null,
            "align_items": null,
            "align_self": null,
            "border": null,
            "bottom": null,
            "display": null,
            "flex": null,
            "flex_flow": null,
            "grid_area": null,
            "grid_auto_columns": null,
            "grid_auto_flow": null,
            "grid_auto_rows": null,
            "grid_column": null,
            "grid_gap": null,
            "grid_row": null,
            "grid_template_areas": null,
            "grid_template_columns": null,
            "grid_template_rows": null,
            "height": null,
            "justify_content": null,
            "justify_items": null,
            "left": null,
            "margin": null,
            "max_height": null,
            "max_width": null,
            "min_height": null,
            "min_width": null,
            "object_fit": null,
            "object_position": null,
            "order": null,
            "overflow": null,
            "overflow_x": null,
            "overflow_y": null,
            "padding": null,
            "right": null,
            "top": null,
            "visibility": null,
            "width": null
          }
        },
        "e935725788614b0fae2eab396da9a7ea": {
          "model_module": "@jupyter-widgets/base",
          "model_name": "LayoutModel",
          "model_module_version": "1.2.0",
          "state": {
            "_model_module": "@jupyter-widgets/base",
            "_model_module_version": "1.2.0",
            "_model_name": "LayoutModel",
            "_view_count": null,
            "_view_module": "@jupyter-widgets/base",
            "_view_module_version": "1.2.0",
            "_view_name": "LayoutView",
            "align_content": null,
            "align_items": null,
            "align_self": null,
            "border": null,
            "bottom": null,
            "display": null,
            "flex": null,
            "flex_flow": null,
            "grid_area": null,
            "grid_auto_columns": null,
            "grid_auto_flow": null,
            "grid_auto_rows": null,
            "grid_column": null,
            "grid_gap": null,
            "grid_row": null,
            "grid_template_areas": null,
            "grid_template_columns": null,
            "grid_template_rows": null,
            "height": null,
            "justify_content": null,
            "justify_items": null,
            "left": null,
            "margin": null,
            "max_height": null,
            "max_width": null,
            "min_height": null,
            "min_width": null,
            "object_fit": null,
            "object_position": null,
            "order": null,
            "overflow": null,
            "overflow_x": null,
            "overflow_y": null,
            "padding": null,
            "right": null,
            "top": null,
            "visibility": null,
            "width": null
          }
        },
        "bda7deea91ff4200b448c4d5d6517c7b": {
          "model_module": "@jupyter-widgets/controls",
          "model_name": "DescriptionStyleModel",
          "model_module_version": "1.5.0",
          "state": {
            "_model_module": "@jupyter-widgets/controls",
            "_model_module_version": "1.5.0",
            "_model_name": "DescriptionStyleModel",
            "_view_count": null,
            "_view_module": "@jupyter-widgets/base",
            "_view_module_version": "1.2.0",
            "_view_name": "StyleView",
            "description_width": ""
          }
        },
        "7d869c5c83d341dd87f361e21201d906": {
          "model_module": "@jupyter-widgets/base",
          "model_name": "LayoutModel",
          "model_module_version": "1.2.0",
          "state": {
            "_model_module": "@jupyter-widgets/base",
            "_model_module_version": "1.2.0",
            "_model_name": "LayoutModel",
            "_view_count": null,
            "_view_module": "@jupyter-widgets/base",
            "_view_module_version": "1.2.0",
            "_view_name": "LayoutView",
            "align_content": null,
            "align_items": null,
            "align_self": null,
            "border": null,
            "bottom": null,
            "display": null,
            "flex": null,
            "flex_flow": null,
            "grid_area": null,
            "grid_auto_columns": null,
            "grid_auto_flow": null,
            "grid_auto_rows": null,
            "grid_column": null,
            "grid_gap": null,
            "grid_row": null,
            "grid_template_areas": null,
            "grid_template_columns": null,
            "grid_template_rows": null,
            "height": null,
            "justify_content": null,
            "justify_items": null,
            "left": null,
            "margin": null,
            "max_height": null,
            "max_width": null,
            "min_height": null,
            "min_width": null,
            "object_fit": null,
            "object_position": null,
            "order": null,
            "overflow": null,
            "overflow_x": null,
            "overflow_y": null,
            "padding": null,
            "right": null,
            "top": null,
            "visibility": null,
            "width": null
          }
        },
        "c1fc159649e84b2a83e61e16d81f8461": {
          "model_module": "@jupyter-widgets/controls",
          "model_name": "ProgressStyleModel",
          "model_module_version": "1.5.0",
          "state": {
            "_model_module": "@jupyter-widgets/controls",
            "_model_module_version": "1.5.0",
            "_model_name": "ProgressStyleModel",
            "_view_count": null,
            "_view_module": "@jupyter-widgets/base",
            "_view_module_version": "1.2.0",
            "_view_name": "StyleView",
            "bar_color": null,
            "description_width": ""
          }
        },
        "5aefae567e7243b58aabd371bc7fbfde": {
          "model_module": "@jupyter-widgets/base",
          "model_name": "LayoutModel",
          "model_module_version": "1.2.0",
          "state": {
            "_model_module": "@jupyter-widgets/base",
            "_model_module_version": "1.2.0",
            "_model_name": "LayoutModel",
            "_view_count": null,
            "_view_module": "@jupyter-widgets/base",
            "_view_module_version": "1.2.0",
            "_view_name": "LayoutView",
            "align_content": null,
            "align_items": null,
            "align_self": null,
            "border": null,
            "bottom": null,
            "display": null,
            "flex": null,
            "flex_flow": null,
            "grid_area": null,
            "grid_auto_columns": null,
            "grid_auto_flow": null,
            "grid_auto_rows": null,
            "grid_column": null,
            "grid_gap": null,
            "grid_row": null,
            "grid_template_areas": null,
            "grid_template_columns": null,
            "grid_template_rows": null,
            "height": null,
            "justify_content": null,
            "justify_items": null,
            "left": null,
            "margin": null,
            "max_height": null,
            "max_width": null,
            "min_height": null,
            "min_width": null,
            "object_fit": null,
            "object_position": null,
            "order": null,
            "overflow": null,
            "overflow_x": null,
            "overflow_y": null,
            "padding": null,
            "right": null,
            "top": null,
            "visibility": null,
            "width": null
          }
        },
        "63a47bf229574ff5bb47115dc6dd0ec4": {
          "model_module": "@jupyter-widgets/controls",
          "model_name": "DescriptionStyleModel",
          "model_module_version": "1.5.0",
          "state": {
            "_model_module": "@jupyter-widgets/controls",
            "_model_module_version": "1.5.0",
            "_model_name": "DescriptionStyleModel",
            "_view_count": null,
            "_view_module": "@jupyter-widgets/base",
            "_view_module_version": "1.2.0",
            "_view_name": "StyleView",
            "description_width": ""
          }
        }
      }
    }
  },
  "cells": [
    {
      "cell_type": "code",
      "execution_count": 2,
      "metadata": {
        "id": "1MEfOSlTVYbt"
      },
      "outputs": [],
      "source": [
        "input_model = 'distilbert'"
      ]
    },
    {
      "cell_type": "code",
      "source": [
        "BASE_PATH = 'drive/MyDrive/MIDS/w266/02_final_project/mids-w266-project/'"
      ],
      "metadata": {
        "id": "NFVXsDUqVe8e"
      },
      "execution_count": 3,
      "outputs": []
    },
    {
      "cell_type": "code",
      "source": [
        "#@title Mount google drive\n",
        "from google.colab import drive\n",
        "drive.mount('/content/drive')"
      ],
      "metadata": {
        "colab": {
          "base_uri": "https://localhost:8080/"
        },
        "id": "gCpnlv-GVgxv",
        "outputId": "02d45f0a-8fbf-4770-b6cd-b53ce7598fa9"
      },
      "execution_count": 4,
      "outputs": [
        {
          "output_type": "stream",
          "name": "stdout",
          "text": [
            "Mounted at /content/drive\n"
          ]
        }
      ]
    },
    {
      "cell_type": "code",
      "source": [
        "#@title Installs\n",
        "!pip install pydot --quiet\n",
        "!pip install gensim --quiet\n",
        "!pip install tensorflow==2.15.0 --quiet #15 13\n",
        "!pip install tf_keras==2.15.0 --quiet\n",
        "!pip install tensorflow-datasets==4.8 --quiet #8\n",
        "!pip install tensorflow-text==2.15.0 --quiet #15\n",
        "!pip install transformers==4.17 --quiet #4.40.2 #4.37.2\n",
        "!pip install pyyaml h5py"
      ],
      "metadata": {
        "colab": {
          "base_uri": "https://localhost:8080/"
        },
        "id": "XEmPL9LkVikH",
        "outputId": "696438c8-7c98-49b6-b007-ac224b1a6cb2"
      },
      "execution_count": 5,
      "outputs": [
        {
          "output_type": "stream",
          "name": "stdout",
          "text": [
            "\u001b[2K   \u001b[90m━━━━━━━━━━━━━━━━━━━━━━━━━━━━━━━━━━━━━━━━\u001b[0m \u001b[32m1.7/1.7 MB\u001b[0m \u001b[31m8.2 MB/s\u001b[0m eta \u001b[36m0:00:00\u001b[0m\n",
            "\u001b[2K   \u001b[90m━━━━━━━━━━━━━━━━━━━━━━━━━━━━━━━━━━━━━━━━\u001b[0m \u001b[32m5.2/5.2 MB\u001b[0m \u001b[31m17.3 MB/s\u001b[0m eta \u001b[36m0:00:00\u001b[0m\n",
            "\u001b[2K   \u001b[90m━━━━━━━━━━━━━━━━━━━━━━━━━━━━━━━━━━━━━━━━\u001b[0m \u001b[32m116.3/116.3 kB\u001b[0m \u001b[31m10.3 MB/s\u001b[0m eta \u001b[36m0:00:00\u001b[0m\n",
            "\u001b[2K   \u001b[90m━━━━━━━━━━━━━━━━━━━━━━━━━━━━━━━━━━━━━━━━\u001b[0m \u001b[32m5.2/5.2 MB\u001b[0m \u001b[31m19.8 MB/s\u001b[0m eta \u001b[36m0:00:00\u001b[0m\n",
            "\u001b[2K     \u001b[90m━━━━━━━━━━━━━━━━━━━━━━━━━━━━━━━━━━━━━━━━\u001b[0m \u001b[32m67.9/67.9 kB\u001b[0m \u001b[31m799.0 kB/s\u001b[0m eta \u001b[36m0:00:00\u001b[0m\n",
            "\u001b[2K   \u001b[90m━━━━━━━━━━━━━━━━━━━━━━━━━━━━━━━━━━━━━━━━\u001b[0m \u001b[32m3.8/3.8 MB\u001b[0m \u001b[31m19.4 MB/s\u001b[0m eta \u001b[36m0:00:00\u001b[0m\n",
            "\u001b[2K   \u001b[90m━━━━━━━━━━━━━━━━━━━━━━━━━━━━━━━━━━━━━━━━\u001b[0m \u001b[32m897.5/897.5 kB\u001b[0m \u001b[31m56.0 MB/s\u001b[0m eta \u001b[36m0:00:00\u001b[0m\n",
            "\u001b[?25hRequirement already satisfied: pyyaml in /usr/local/lib/python3.10/dist-packages (6.0.1)\n",
            "Requirement already satisfied: h5py in /usr/local/lib/python3.10/dist-packages (3.9.0)\n",
            "Requirement already satisfied: numpy>=1.17.3 in /usr/local/lib/python3.10/dist-packages (from h5py) (1.25.2)\n"
          ]
        }
      ]
    },
    {
      "cell_type": "code",
      "source": [
        "#@title Imports\n",
        "\n",
        "import numpy as np\n",
        "import tensorflow as tf\n",
        "from tensorflow import keras\n",
        "import pandas as pd\n",
        "\n",
        "from tensorflow.keras.layers import Embedding, Input, Dense, Lambda\n",
        "from tensorflow.keras.models import Model\n",
        "import tensorflow.keras.backend as K\n",
        "from tensorflow.keras.models import load_model\n",
        "import tensorflow_datasets as tfds\n",
        "import tensorflow_text as tf_text\n",
        "import transformers\n",
        "\n",
        "from tensorflow.keras.optimizers import Adam\n",
        "from transformers import DistilBertTokenizerFast, TFDistilBertForSequenceClassification\n",
        "\n",
        "from transformers import BertTokenizer, TFBertModel, BertConfig, TFBertForSequenceClassification\n",
        "from transformers import RobertaTokenizer, TFRobertaModel, RobertaConfig, TFRobertaForSequenceClassification\n",
        "from transformers import DistilBertTokenizer, TFDistilBertModel, DistilBertConfig, TFDistilBertForSequenceClassification\n",
        "from transformers import AutoTokenizer, TFAutoModelForSequenceClassification, AutoConfig\n",
        "\n",
        "from transformers import logging\n",
        "logging.set_verbosity_error()\n",
        "\n",
        "import matplotlib.pyplot as plt\n",
        "import seaborn as sns\n",
        "\n",
        "\n",
        "import sklearn as sk\n",
        "import os\n",
        "import nltk\n",
        "from nltk.data import find\n",
        "\n",
        "import matplotlib.pyplot as plt\n",
        "from sklearn.metrics import confusion_matrix\n",
        "from sklearn.metrics import classification_report\n",
        "from sklearn.metrics import accuracy_score, f1_score, precision_score, recall_score\n",
        "from sklearn.metrics import roc_curve, roc_auc_score\n",
        "\n",
        "\n",
        "import re\n",
        "\n",
        "import gensim\n",
        "from gensim.models import Word2Vec\n",
        "from gensim.models import KeyedVectors\n",
        "from gensim.test.utils import datapath"
      ],
      "metadata": {
        "id": "ei7xgjOcVk0f"
      },
      "execution_count": 6,
      "outputs": []
    },
    {
      "cell_type": "code",
      "source": [
        "#@title Global tunable parameters\n",
        "\n",
        "# Sequence length to truncate/pad\n",
        "MAX_SEQUENCE_LENGTH = 800\n",
        "\n",
        "# hidden layer size after BERT's ouput\n",
        "HIDDEN_LAYER_SIZE = 512\n",
        "\n",
        "# Max embeddings in BERT\n",
        "BERT_MAX_EMBEDDINGS = 1024\n",
        "\n",
        "# fraction of data to use for training\n",
        "FRACTION = 1.0\n",
        "\n",
        "# Base path to store trained snapshot and results\n",
        "BASE_PATH = 'drive/MyDrive/MIDS/w266/02_final_project/mids-w266-project/'"
      ],
      "metadata": {
        "id": "z8m6NvDCVnib"
      },
      "execution_count": 7,
      "outputs": []
    },
    {
      "cell_type": "code",
      "source": [
        "#@title Utility print function\n",
        "\n",
        "def print_version(library_name):\n",
        "    try:\n",
        "        lib = __import__(library_name)\n",
        "        version = getattr(lib, '__version__', 'Version number not found')\n",
        "        print(f\"{library_name} version: {version}\")\n",
        "    except ImportError:\n",
        "        print(f\"{library_name} not installed.\")\n",
        "    except Exception as e:\n",
        "        print(f\"An error occurred: {e}\")\n",
        "\n",
        "#confirm versions\n",
        "print_version('numpy')\n",
        "print_version('transformers')\n",
        "print_version('tensorflow')\n",
        "print_version('keras')\n",
        "print_version('pandas')\n",
        "print_version('sklearn')"
      ],
      "metadata": {
        "colab": {
          "base_uri": "https://localhost:8080/"
        },
        "id": "o5jHlL4TVp-j",
        "outputId": "bd8996f7-ea09-49a3-adbb-453d53174359"
      },
      "execution_count": 8,
      "outputs": [
        {
          "output_type": "stream",
          "name": "stdout",
          "text": [
            "numpy version: 1.25.2\n",
            "transformers version: 4.17.0\n",
            "tensorflow version: 2.15.0\n",
            "keras version: 2.15.0\n",
            "pandas version: 2.0.3\n",
            "sklearn version: 1.2.2\n"
          ]
        }
      ]
    },
    {
      "cell_type": "code",
      "source": [
        "#@title Utility Plot Function\n",
        "\n",
        "# 4-window plot. Small modification from matplotlib examples.\n",
        "\n",
        "def make_plot(axs,\n",
        "              model_history1,\n",
        "              model_history2,\n",
        "              model_1_name='model 1',\n",
        "              model_2_name='model 2',\n",
        "              ):\n",
        "    box = dict(facecolor='yellow', pad=5, alpha=0.2)\n",
        "\n",
        "    for i, metric in enumerate(['loss', 'accuracy']):\n",
        "        # small adjustment to account for the 2 accuracy measures in the Weighted Averging Model with Attention\n",
        "        if 'classification_%s' % metric in model_history2.history:\n",
        "            metric2 = 'classification_%s' % metric\n",
        "        else:\n",
        "            metric2 = metric\n",
        "\n",
        "        y_lim_lower1 = np.min(model_history1.history[metric])\n",
        "        y_lim_lower2 = np.min(model_history2.history[metric2])\n",
        "        y_lim_lower = min(y_lim_lower1, y_lim_lower2) * 0.9\n",
        "\n",
        "        y_lim_upper1 = np.max(model_history1.history[metric])\n",
        "        y_lim_upper2 = np.max(model_history2.history[metric2])\n",
        "        y_lim_upper = max(y_lim_upper1, y_lim_upper2) * 1.1\n",
        "\n",
        "        for j, model_history in enumerate([model_history1, model_history2]):\n",
        "            model_name = [model_1_name, model_2_name][j]\n",
        "            model_metric = [metric, metric2][j]\n",
        "            ax1 = axs[i, j]\n",
        "            ax1.plot(model_history.history[model_metric])\n",
        "            ax1.plot(model_history.history['val_%s' % model_metric])\n",
        "            ax1.set_title('%s - %s' % (metric, model_name))\n",
        "            ax1.set_ylabel(metric, bbox=box)\n",
        "            ax1.set_ylim(y_lim_lower, y_lim_upper)"
      ],
      "metadata": {
        "id": "I3eDAy-UVsVX"
      },
      "execution_count": 9,
      "outputs": []
    },
    {
      "cell_type": "code",
      "source": [
        "#@title Read Reddit dataset into a dataframe\n",
        "rdt_trainfile = f'{BASE_PATH}/Reddit/both_train.csv'\n",
        "rdt_tesstfile = f'{BASE_PATH}/Reddit/both_test.csv'\n",
        "rdt_train = pd.read_csv(rdt_trainfile)\n",
        "rdt_test = pd.read_csv(rdt_tesstfile)\n",
        "\n",
        "# Shuffle all rows\n",
        "rdt_train = rdt_train.sample(frac=1).reset_index(drop=True)\n",
        "rdt_test = rdt_test.sample(frac=1).reset_index(drop=True)\n",
        "\n",
        "\n",
        "# Split data into test and train\n",
        "train_size = int(0.8 * len(rdt_train))\n",
        "X_train = rdt_train[0:train_size].post\n",
        "X_val = rdt_train[train_size:].post\n",
        "X_test = rdt_test.post\n",
        "y_train = rdt_train[0:train_size].class_id\n",
        "y_val = rdt_train[train_size:].class_id\n",
        "y_test = rdt_test.class_id\n",
        "\n",
        "train_labels = np.array(y_train)\n",
        "test_labels = np.array(y_test)\n",
        "val_labels = np.array(y_val)\n",
        "\n",
        "train_examples_list = []\n",
        "test_examples_list = []\n",
        "val_examples_list = []\n",
        "\n",
        "temp_train_examples = np.array(X_train)\n",
        "temp_test_examples = np.array(X_test)\n",
        "temp_val_examples = np.array(X_val)\n",
        "\n",
        "for i in range(len(temp_train_examples)):\n",
        "  size = len(temp_train_examples[i])\n",
        "  lower = int(0.3*MAX_SEQUENCE_LENGTH)\n",
        "  upper = int(0.7*MAX_SEQUENCE_LENGTH)\n",
        "  if size > MAX_SEQUENCE_LENGTH:\n",
        "    train_examples_list.append(temp_train_examples[i][:lower] + temp_train_examples[i][upper:])\n",
        "  else:\n",
        "    train_examples_list.append(temp_train_examples[i])\n",
        "\n",
        "for i in range(len(temp_test_examples)):\n",
        "  size = len(temp_test_examples[i])\n",
        "  lower = int(0.3*size)\n",
        "  upper = int(0.7*size)\n",
        "  if size > MAX_SEQUENCE_LENGTH:\n",
        "    test_examples_list.append(temp_test_examples[i][:lower] + temp_test_examples[i][upper:])\n",
        "  else:\n",
        "    test_examples_list.append(temp_test_examples[i])\n",
        "\n",
        "for i in range(len(temp_val_examples)):\n",
        "  size = len(temp_val_examples[i])\n",
        "  lower = int(0.3*size)\n",
        "  upper = int(0.7*size)\n",
        "  if size > MAX_SEQUENCE_LENGTH:\n",
        "    val_examples_list.append(temp_val_examples[i][:lower] + temp_val_examples[i][upper:])\n",
        "  else:\n",
        "    val_examples_list.append(temp_val_examples[i])\n",
        "\n",
        "train_examples = np.array(train_examples_list)\n",
        "test_examples = np.array(test_examples_list)\n",
        "val_examples = np.array(val_examples_list)\n"
      ],
      "metadata": {
        "id": "1KicR9qEVwxu"
      },
      "execution_count": 10,
      "outputs": []
    },
    {
      "cell_type": "code",
      "source": [
        "print(rdt_train.class_name.unique())\n",
        "rdt_train.class_id.unique()"
      ],
      "metadata": {
        "colab": {
          "base_uri": "https://localhost:8080/"
        },
        "id": "EVi5PhOFVzdn",
        "outputId": "c573aba0-06ef-4a2d-9af4-261f413b62e0"
      },
      "execution_count": 11,
      "outputs": [
        {
          "output_type": "stream",
          "name": "stdout",
          "text": [
            "['none' 'anxiety' 'ptsd' 'bipolar' 'adhd' 'depression']\n"
          ]
        },
        {
          "output_type": "execute_result",
          "data": {
            "text/plain": [
              "array([5, 1, 4, 2, 0, 3])"
            ]
          },
          "metadata": {},
          "execution_count": 11
        }
      ]
    },
    {
      "cell_type": "code",
      "source": [
        "#@title Inspect data and label characteristics\n",
        "\n",
        "print(f'Training set labels shape: {train_labels.shape}')\n",
        "print(f'Validation set labels shape: {val_labels.shape}')\n",
        "print(f'Test set labels shape: {test_labels.shape}')\n",
        "\n",
        "print(f'Training set examples shape: {train_examples.shape}')\n",
        "print(f'Validation set examples shape: {val_examples.shape}')\n",
        "print(f'Test set examples shape: {test_examples.shape}')\n",
        "\n",
        "print(f'Distribution of the length of all title')\n",
        "print(rdt_train[\"title\"].str.len().describe())\n",
        "\n",
        "print('Distribution of the length of all posts')\n",
        "print(rdt_train[\"post\"].str.len().describe())\n",
        "\n",
        "print(f'Labels min : {rdt_train.class_id.min()} max : {rdt_train.class_id.max()}')\n"
      ],
      "metadata": {
        "colab": {
          "base_uri": "https://localhost:8080/"
        },
        "id": "zawF-rJMW1mO",
        "outputId": "efd4fcac-9f15-477c-8b04-60e492aac606"
      },
      "execution_count": 12,
      "outputs": [
        {
          "output_type": "stream",
          "name": "stdout",
          "text": [
            "Training set labels shape: (10981,)\n",
            "Validation set labels shape: (2746,)\n",
            "Test set labels shape: (1488,)\n",
            "Training set examples shape: (10981,)\n",
            "Validation set examples shape: (2746,)\n",
            "Test set examples shape: (1488,)\n",
            "Distribution of the length of all title\n",
            "count    13727.000000\n",
            "mean        67.111751\n",
            "std         48.713468\n",
            "min          2.000000\n",
            "25%         34.000000\n",
            "50%         54.000000\n",
            "75%         85.000000\n",
            "max        306.000000\n",
            "Name: title, dtype: float64\n",
            "Distribution of the length of all posts\n",
            "count    13727.000000\n",
            "mean      1065.297734\n",
            "std       1373.414370\n",
            "min        123.000000\n",
            "25%        362.000000\n",
            "50%        658.000000\n",
            "75%       1236.500000\n",
            "max      38168.000000\n",
            "Name: post, dtype: float64\n",
            "Labels min : 0 max : 5\n"
          ]
        }
      ]
    },
    {
      "cell_type": "code",
      "source": [
        "#@ Histogram of all post length\n",
        "plt.hist(rdt_train[\"post\"].str.len(), bins=10, range=(0, 10000))\n",
        "plt.title('Distribution of post length')\n",
        "plt.xlabel('Post length')\n",
        "plt.ylabel('Number of posts')\n",
        "plt.show()"
      ],
      "metadata": {
        "colab": {
          "base_uri": "https://localhost:8080/",
          "height": 472
        },
        "id": "-XFX3fBJW3zB",
        "outputId": "2d68c09d-321a-4165-f609-fbc47a5d34e9"
      },
      "execution_count": 13,
      "outputs": [
        {
          "output_type": "display_data",
          "data": {
            "text/plain": [
              "<Figure size 640x480 with 1 Axes>"
            ],
            "image/png": "[encoded data removed]"
          },
          "metadata": {}
        }
      ]
    },
    {
      "cell_type": "code",
      "source": [
        "#@title Distribution of labels in training and test sets\n",
        "for i in range(np.max(train_labels)):\n",
        "  pos_indices = np.where(train_labels == i)\n",
        "  pct_positive = len(pos_indices[0])/len(train_labels)\n",
        "  print(f'Labels {i} in training set: {len(pos_indices[0])}/{len(train_labels)} ({pct_positive})')\n",
        "\n",
        "for i in range(np.max(val_labels)):\n",
        "  pos_indices = np.where(val_labels == i)\n",
        "  pct_positive = len(pos_indices[0])/len(val_labels)\n",
        "  print(f'Labels {i} in validation set: {len(pos_indices[0])}/{len(val_labels)} ({pct_positive})')\n",
        "\n",
        "for i in range(np.max(test_labels)):\n",
        "  pos_indices = np.where(test_labels == i)\n",
        "  pct_positive = len(pos_indices[0])/len(test_labels)\n",
        "  print(f'Labels {i} in test set: {len(pos_indices[0])}/{len(test_labels)} ({pct_positive})')\n"
      ],
      "metadata": {
        "colab": {
          "base_uri": "https://localhost:8080/"
        },
        "id": "t56rec9zXFxx",
        "outputId": "d341cc6e-0bb3-41b3-8271-829e0cf67af5"
      },
      "execution_count": 14,
      "outputs": [
        {
          "output_type": "stream",
          "name": "stdout",
          "text": [
            "Labels 0 in training set: 1980/10981 (0.18031144704489574)\n",
            "Labels 1 in training set: 1928/10981 (0.1755759949002823)\n",
            "Labels 2 in training set: 1913/10981 (0.17420999908933613)\n",
            "Labels 3 in training set: 1980/10981 (0.18031144704489574)\n",
            "Labels 4 in training set: 1601/10981 (0.14579728622165558)\n",
            "Labels 0 in validation set: 485/2746 (0.1766205389657684)\n",
            "Labels 1 in validation set: 494/2746 (0.1798980335032775)\n",
            "Labels 2 in validation set: 494/2746 (0.1798980335032775)\n",
            "Labels 3 in validation set: 470/2746 (0.17115804806991988)\n",
            "Labels 4 in validation set: 400/2746 (0.14566642388929352)\n",
            "Labels 0 in test set: 248/1488 (0.16666666666666666)\n",
            "Labels 1 in test set: 248/1488 (0.16666666666666666)\n",
            "Labels 2 in test set: 248/1488 (0.16666666666666666)\n",
            "Labels 3 in test set: 248/1488 (0.16666666666666666)\n",
            "Labels 4 in test set: 248/1488 (0.16666666666666666)\n"
          ]
        }
      ]
    },
    {
      "cell_type": "code",
      "source": [
        "mh_cls_names = list(rdt_train.class_name.unique())\n",
        "mh_cls_names\n",
        "mh_cls_id = list(rdt_train.class_id.unique())\n",
        "mh_cls_id\n",
        "\n",
        "mh_dict_id_to_name = {}\n",
        "mh_dict_name_to_id = {}\n",
        "for idx, value in enumerate(mh_cls_id):\n",
        "    mh_dict_id_to_name[value] = mh_cls_names[idx]\n",
        "for idx, value in enumerate(mh_cls_names):\n",
        "    mh_dict_name_to_id[value] = mh_cls_id[idx]\n",
        "\n",
        "print(mh_dict_id_to_name)\n",
        "print(mh_dict_name_to_id)\n"
      ],
      "metadata": {
        "colab": {
          "base_uri": "https://localhost:8080/"
        },
        "id": "UUFlGEmrd9NJ",
        "outputId": "9c3e4c7d-312f-4509-b0f0-b720b939f96f"
      },
      "execution_count": 15,
      "outputs": [
        {
          "output_type": "stream",
          "name": "stdout",
          "text": [
            "{5: 'none', 1: 'anxiety', 4: 'ptsd', 2: 'bipolar', 0: 'adhd', 3: 'depression'}\n",
            "{'none': 5, 'anxiety': 1, 'ptsd': 4, 'bipolar': 2, 'adhd': 0, 'depression': 3}\n"
          ]
        }
      ]
    },
    {
      "cell_type": "code",
      "source": [
        "#@title BERT Tokenization of training, validation and test data\n",
        "\n",
        "def tokenize_train_val(tokenizer, train_examples, val_examples):\n",
        "\n",
        "    train_examples_str = [x for x in train_examples]\n",
        "    val_examples_str = [x for x in val_examples]\n",
        "\n",
        "    # Tokenize training, validation and test data\n",
        "    bert_train_tokenized = tokenize_data(tokenizer, train_examples_str)\n",
        "    bert_val_tokenized = tokenize_data(tokenizer, val_examples_str)\n",
        "\n",
        "    bert_train_inputs = [bert_train_tokenized.input_ids,\n",
        "                        bert_train_tokenized.token_type_ids,\n",
        "                        bert_train_tokenized.attention_mask]\n",
        "\n",
        "\n",
        "    bert_val_inputs = [bert_val_tokenized.input_ids,\n",
        "                        bert_val_tokenized.token_type_ids,\n",
        "                        bert_val_tokenized.attention_mask]\n",
        "\n",
        "\n",
        "    return bert_train_inputs, bert_val_inputs"
      ],
      "metadata": {
        "id": "8ZM4zjM-eALa"
      },
      "execution_count": 16,
      "outputs": []
    },
    {
      "cell_type": "code",
      "source": [
        "def tokenize_data(tokenizer, input_str):\n",
        "  tokenized = tokenizer(input_str,\n",
        "              max_length=MAX_SEQUENCE_LENGTH,\n",
        "              truncation=True,\n",
        "              padding='max_length',\n",
        "              return_tensors='tf')\n",
        "  return tokenized"
      ],
      "metadata": {
        "id": "J_iMd7vFeC79"
      },
      "execution_count": 17,
      "outputs": []
    },
    {
      "cell_type": "code",
      "source": [
        "#@title BERT Tokenization of training, validation and test data\n",
        "\n",
        "def tokenize_test(tokenizer, test_examples):\n",
        "\n",
        "    test_examples_str = [x for x in test_examples]\n",
        "\n",
        "    # Tokenize training, validation and test data\n",
        "    bert_test_tokenized = tokenize_data(tokenizer, test_examples_str)\n",
        "\n",
        "    bert_test_inputs = [bert_test_tokenized.input_ids,\n",
        "                        bert_test_tokenized.token_type_ids,\n",
        "                        bert_test_tokenized.attention_mask]\n",
        "\n",
        "\n",
        "    return bert_test_inputs"
      ],
      "metadata": {
        "id": "Dhx9FsHMeHZR"
      },
      "execution_count": 18,
      "outputs": []
    },
    {
      "cell_type": "code",
      "source": [
        "\n",
        "\n",
        "def distilbert_main(train, val, tlabels, vlabels, fraction):\n",
        "    \"\"\"\n",
        "    Main function to train distilbert model\n",
        "    \"\"\"\n",
        "\n",
        "    LEARNING_RATE = 5e-5\n",
        "    BATCH_SIZE = 16\n",
        "    NUM_EPOCHS = 3\n",
        "\n",
        "    NUM_LABELS = np.max(tlabels) + 1\n",
        "    model = TFDistilBertForSequenceClassification.from_pretrained(\n",
        "        'distilbert-base-uncased',\n",
        "        num_labels= NUM_LABELS)\n",
        "\n",
        "    # Load training, validation and test data\n",
        "    tsamples = train[0:int(fraction*len(train))]\n",
        "    train_samples = tsamples.tolist()\n",
        "    vsamples = val[0:int(fraction*len(val))]\n",
        "    val_samples = vsamples.tolist()\n",
        "\n",
        "    # Convert labels to numpy arrays\n",
        "    train_labels = np.array(tlabels)\n",
        "    train_sample_labels = train_labels[0:int(fraction*len(tlabels))]\n",
        "\n",
        "    val_labels = np.array(vlabels)\n",
        "    val_sample_labels = val_labels[0:int(fraction*len(vlabels))]\n",
        "\n",
        "    # Tokenize training, validation and test data\n",
        "    distilbert_tokenizer = DistilBertTokenizerFast.from_pretrained('distilbert-base-uncased')\n",
        "\n",
        "    train_dataset = tf.data.Dataset.from_tensor_slices((\n",
        "        dict(tokenize_data(distilbert_tokenizer, train_samples)),  # Convert BatchEncoding instance to dictionary\n",
        "        train_sample_labels)).shuffle(1000).batch(BATCH_SIZE).prefetch(1)\n",
        "\n",
        "    val_dataset = tf.data.Dataset.from_tensor_slices((\n",
        "        dict(tokenize_data(distilbert_tokenizer, val_samples)),  # Convert BatchEncoding instance to dictionary\n",
        "        val_sample_labels)).batch(BATCH_SIZE).prefetch(1)\n",
        "\n",
        "    optimizer = tf.keras.optimizers.Adam(learning_rate=LEARNING_RATE)\n",
        "    model.compile(\n",
        "        optimizer=optimizer,\n",
        "        loss=tf.keras.losses.SparseCategoricalCrossentropy(from_logits=True),\n",
        "        metrics='accuracy')\n",
        "\n",
        "    model.summary()\n",
        "\n",
        "    model_history = model.fit(\n",
        "        train_dataset,\n",
        "        y=None,\n",
        "        validation_data=val_dataset,\n",
        "        batch_size=BATCH_SIZE,\n",
        "        epochs=NUM_EPOCHS)\n",
        "\n",
        "    return model, model_history\n",
        "\n"
      ],
      "metadata": {
        "id": "TTKCgtOHLedE"
      },
      "execution_count": 19,
      "outputs": []
    },
    {
      "cell_type": "code",
      "source": [
        "fraction = 1"
      ],
      "metadata": {
        "id": "rCYGhW5kMxLO"
      },
      "execution_count": 21,
      "outputs": []
    },
    {
      "cell_type": "code",
      "source": [
        "model, model_history = distilbert_main(train_examples, val_examples, train_labels, val_labels, fraction)"
      ],
      "metadata": {
        "colab": {
          "base_uri": "https://localhost:8080/",
          "height": 593,
          "referenced_widgets": [
            "fe5c5937abf4497780169865c56e0277",
            "9dc2774da895413a961d8e5f059bb5db",
            "3094a1689af4457c9dc00d9e1e610f41",
            "06fdfc9faaa04df5b9d32e847e50b9c1",
            "4d6d310c843546ceb6665f0b0e4e5df9",
            "f4f30968478342988e707205709b2799",
            "e908d958686140c2a67759a916c2dc5c",
            "d163ba786fc64fe0b6a6647bece29768",
            "ceb481e40aa2491ca84395bf6cbe62ed",
            "1d6a610341fd45b88fc164399be1c051",
            "488a27872364440e864e92f5f275b351",
            "0654ef01f02c4ffdb16943e960c3085f",
            "190f60b65071481c936e036f9cc4b0ef",
            "55d55437e8a340f796610c4caff46773",
            "73358bba4a0646098a2939d0be62ba06",
            "5ae660414270478e93ea435f1999ccd0",
            "46b3a1f4e35945aeb9a2fac05557eb76",
            "072453408e584cbf92bf031addd2d4a6",
            "abd88a2f04b94101bbd5ed6ea1fd6e54",
            "57784257fcee41b9a7528e08fb4d2b12",
            "a065f4d327af46da978b039041b10d89",
            "3137bb7bf0464e13acd2a25ece635a59",
            "dad334ea75744dd19fbe2f87a2c3837a",
            "497a1dae1be449c4b3817dc2ddaa1061",
            "1139093f9b64493580690c5ca626f55c",
            "e6c46df9125b49e9be86c62d59a1e9eb",
            "96b5dff69e5f410483baf7d5eade0868",
            "87dc8337d94c410eba3fa31574c8f419",
            "1fcecbfdc12f4114ba72dcd3b28b2363",
            "5f70c9f6416c44f28e68543c94528ec1",
            "a725ac2672e048c8b622770cac32d3a0",
            "b5f4c753c8984e62a2e1faf224ac17e6",
            "4a1d16c58fbd40598c14b5d51d47e53e",
            "b7fc9dad6ca8409c9e8bf7fc2708d940",
            "8a032590fa8e40868c1352e4bb49bfba",
            "f1059309e6254a6893d13abde8e52990",
            "11737abdb9844878a07697fad22e88e9",
            "fcc3528391094f379ca945fc172de42e",
            "40eb41b5a22b4ace8818cdb800c07138",
            "a00258ff83264544a53dfc30e23317f6",
            "dc6d9a78730a429d935e80bccf675cfc",
            "290e7b266df8452c9eaaac5afaa56500",
            "dbb27a1e76fb499c90ea46d8e747cfa4",
            "6beb0cadf056492aac6137f8cb1abee3",
            "318fe3c22567486f8ec16b25a71f30c7",
            "173ba9696faa46089e693e2f4b429c3d",
            "0c4cae671d2244c5870fc350581a2599",
            "0450da54af354736b5dc35f8e31e3ef2",
            "8303a3f17d2e423f8c4b1c12e6559052",
            "e935725788614b0fae2eab396da9a7ea",
            "bda7deea91ff4200b448c4d5d6517c7b",
            "7d869c5c83d341dd87f361e21201d906",
            "c1fc159649e84b2a83e61e16d81f8461",
            "5aefae567e7243b58aabd371bc7fbfde",
            "63a47bf229574ff5bb47115dc6dd0ec4"
          ]
        },
        "id": "f02o0jEpLj0r",
        "outputId": "35a676a7-233a-4196-f06d-bc44d6c5cf38"
      },
      "execution_count": 22,
      "outputs": [
        {
          "output_type": "display_data",
          "data": {
            "text/plain": [
              "Downloading:   0%|          | 0.00/483 [00:00<?, ?B/s]"
            ],
            "application/vnd.jupyter.widget-view+json": {
              "version_major": 2,
              "version_minor": 0,
              "model_id": "fe5c5937abf4497780169865c56e0277"
            }
          },
          "metadata": {}
        },
        {
          "output_type": "display_data",
          "data": {
            "text/plain": [
              "Downloading:   0%|          | 0.00/347M [00:00<?, ?B/s]"
            ],
            "application/vnd.jupyter.widget-view+json": {
              "version_major": 2,
              "version_minor": 0,
              "model_id": "0654ef01f02c4ffdb16943e960c3085f"
            }
          },
          "metadata": {}
        },
        {
          "output_type": "display_data",
          "data": {
            "text/plain": [
              "Downloading:   0%|          | 0.00/48.0 [00:00<?, ?B/s]"
            ],
            "application/vnd.jupyter.widget-view+json": {
              "version_major": 2,
              "version_minor": 0,
              "model_id": "dad334ea75744dd19fbe2f87a2c3837a"
            }
          },
          "metadata": {}
        },
        {
          "output_type": "display_data",
          "data": {
            "text/plain": [
              "Downloading:   0%|          | 0.00/226k [00:00<?, ?B/s]"
            ],
            "application/vnd.jupyter.widget-view+json": {
              "version_major": 2,
              "version_minor": 0,
              "model_id": "b7fc9dad6ca8409c9e8bf7fc2708d940"
            }
          },
          "metadata": {}
        },
        {
          "output_type": "display_data",
          "data": {
            "text/plain": [
              "Downloading:   0%|          | 0.00/455k [00:00<?, ?B/s]"
            ],
            "application/vnd.jupyter.widget-view+json": {
              "version_major": 2,
              "version_minor": 0,
              "model_id": "318fe3c22567486f8ec16b25a71f30c7"
            }
          },
          "metadata": {}
        },
        {
          "output_type": "stream",
          "name": "stdout",
          "text": [
            "Model: \"tf_distil_bert_for_sequence_classification\"\n",
            "_________________________________________________________________\n",
            " Layer (type)                Output Shape              Param #   \n",
            "=================================================================\n",
            " distilbert (TFDistilBertMa  multiple                  66362880  \n",
            " inLayer)                                                        \n",
            "                                                                 \n",
            " pre_classifier (Dense)      multiple                  590592    \n",
            "                                                                 \n",
            " classifier (Dense)          multiple                  4614      \n",
            "                                                                 \n",
            " dropout_19 (Dropout)        multiple                  0         \n",
            "                                                                 \n",
            "=================================================================\n",
            "Total params: 66958086 (255.42 MB)\n",
            "Trainable params: 66958086 (255.42 MB)\n",
            "Non-trainable params: 0 (0.00 Byte)\n",
            "_________________________________________________________________\n",
            "Epoch 1/3\n",
            "687/687 [==============================] - 281s 376ms/step - loss: 0.8028 - accuracy: 0.7270 - val_loss: 0.6419 - val_accuracy: 0.7815\n",
            "Epoch 2/3\n",
            "687/687 [==============================] - 256s 373ms/step - loss: 0.4886 - accuracy: 0.8424 - val_loss: 0.6538 - val_accuracy: 0.7848\n",
            "Epoch 3/3\n",
            "687/687 [==============================] - 256s 373ms/step - loss: 0.3089 - accuracy: 0.9038 - val_loss: 0.6730 - val_accuracy: 0.7928\n"
          ]
        }
      ]
    },
    {
      "cell_type": "code",
      "source": [
        "distilbert_tokenizer = DistilBertTokenizerFast.from_pretrained('distilbert-base-uncased')\n",
        "test_examples_list = test_examples.tolist()\n",
        "test_tokens = tokenize_data(distilbert_tokenizer, test_examples_list)\n",
        "y_prediction = model.predict((dict(test_tokens),)) # Pass a tuple to predict\n",
        "# Extract the NumPy array from the dictionary\n",
        "y_prediction = y_prediction[0] # Extract the NumPy array"
      ],
      "metadata": {
        "colab": {
          "base_uri": "https://localhost:8080/"
        },
        "id": "7idzZVYtLnuD",
        "outputId": "9b8affba-5685-485c-c291-6167d5454be8"
      },
      "execution_count": 23,
      "outputs": [
        {
          "output_type": "stream",
          "name": "stdout",
          "text": [
            "47/47 [==============================] - 11s 209ms/step\n"
          ]
        }
      ]
    },
    {
      "cell_type": "code",
      "source": [
        "# Convert predicted probabilities to class labels\n",
        "y_pred_label = np.argmax(y_prediction, axis=1)"
      ],
      "metadata": {
        "id": "GU7O0YWbLuFu"
      },
      "execution_count": 24,
      "outputs": []
    },
    {
      "cell_type": "code",
      "source": [],
      "metadata": {
        "id": "yKnpPJfkLtlw"
      },
      "execution_count": null,
      "outputs": []
    },
    {
      "cell_type": "code",
      "source": [
        "from sklearn.metrics import confusion_matrix\n",
        "print('\\t Printing confusion matrix')\n",
        "#Create confusion matrix and normalizes it over predicted (columns)\n",
        "result = confusion_matrix(test_labels, y_pred_label)\n",
        "\n",
        "# Plot the confusion matrix\n",
        "actuals_names = [mh_dict_id_to_name[i] for i in range(len(mh_cls_names))]\n",
        "predictions_names = [mh_dict_id_to_name[i] for i in range(len(mh_cls_names))]\n",
        "\n",
        "# Plot the confusion matrix\n",
        "plt.figure(figsize=(8, 6))\n",
        "sns.heatmap(result, annot=True, fmt='d', cmap='Blues')\n",
        "\n",
        "# Add string labels to the axes\n",
        "plt.xticks(ticks=np.arange(len(actuals_names)) + 0.5, labels=actuals_names, rotation=45)\n",
        "plt.yticks(ticks=np.arange(len(predictions_names)) + 0.5, labels=predictions_names, rotation=0)\n",
        "\n",
        "# Add labels, title, and color bar\n",
        "plt.ylabel('Actual Class')\n",
        "plt.xlabel('Predicted Class')\n",
        "plt.title('Confusion Matrix')\n",
        "plt.show()\n",
        "\n",
        "print(f'Accuracy: {accuracy_score(test_labels, y_pred_label)}')\n",
        "\n",
        "print(classification_report(test_labels, y_pred_label, target_names=predictions_names))"
      ],
      "metadata": {
        "colab": {
          "base_uri": "https://localhost:8080/",
          "height": 873
        },
        "id": "fJY2yk9bep-w",
        "outputId": "27501f48-cb00-4f84-e0b9-5e3d15b62504"
      },
      "execution_count": 25,
      "outputs": [
        {
          "output_type": "stream",
          "name": "stdout",
          "text": [
            "\t Printing confusion matrix\n"
          ]
        },
        {
          "output_type": "display_data",
          "data": {
            "text/plain": [
              "<Figure size 800x600 with 2 Axes>"
            ],
            "image/png": "[encoded data removed]"
          },
          "metadata": {}
        },
        {
          "output_type": "stream",
          "name": "stdout",
          "text": [
            "Accuracy: 0.790994623655914\n",
            "              precision    recall  f1-score   support\n",
            "\n",
            "        adhd       0.73      0.81      0.77       248\n",
            "     anxiety       0.76      0.74      0.75       248\n",
            "     bipolar       0.83      0.73      0.78       248\n",
            "  depression       0.66      0.77      0.71       248\n",
            "        ptsd       0.88      0.74      0.80       248\n",
            "        none       0.94      0.95      0.95       248\n",
            "\n",
            "    accuracy                           0.79      1488\n",
            "   macro avg       0.80      0.79      0.79      1488\n",
            "weighted avg       0.80      0.79      0.79      1488\n",
            "\n"
          ]
        }
      ]
    },
    {
      "cell_type": "code",
      "source": [
        "fraction"
      ],
      "metadata": {
        "colab": {
          "base_uri": "https://localhost:8080/"
        },
        "id": "NslS8eYKhDdv",
        "outputId": "e92b708d-e085-49c7-b183-53d05008555e"
      },
      "execution_count": null,
      "outputs": [
        {
          "output_type": "execute_result",
          "data": {
            "text/plain": [
              "1"
            ]
          },
          "metadata": {},
          "execution_count": 27
        }
      ]
    },
    {
      "cell_type": "code",
      "source": [
        "print('\\t Saving all mismatches')\n",
        "# Plot the confusion matrix\n",
        "actuals_names = [mh_dict_id_to_name[i] for i in range(len(mh_cls_names))]\n",
        "predictions_names = [mh_dict_id_to_name[i] for i in range(len(mh_cls_names))]\n",
        "\n",
        "mismatches = []\n",
        "for i in range(len(test_labels)):\n",
        "    if test_labels[i] != y_pred_label[i]:\n",
        "        id1 = test_labels[i]\n",
        "        id2 = y_pred_label[i]\n",
        "        entry = {}\n",
        "        entry['actual'] = actuals_names[id1]\n",
        "        entry['predicted'] = predictions_names[id2]\n",
        "        entry['test_id'] = i\n",
        "        entry['text'] = test_examples[i]\n",
        "        mismatches.append(entry)\n",
        "df = pd.DataFrame(mismatches)\n",
        "df.to_csv('drive/MyDrive/MIDS/w266/02_final_project/mids-w266-project/mismatches_distilbert.csv', index=False)\n"
      ],
      "metadata": {
        "colab": {
          "base_uri": "https://localhost:8080/"
        },
        "id": "QXMj6C8NQmZn",
        "outputId": "e8d8cc3a-be96-447f-dacd-c8ca3db485c5"
      },
      "execution_count": 26,
      "outputs": [
        {
          "output_type": "stream",
          "name": "stdout",
          "text": [
            "\t Saving all mismatches\n"
          ]
        }
      ]
    }
  ]
}